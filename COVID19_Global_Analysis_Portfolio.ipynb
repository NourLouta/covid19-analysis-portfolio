{
 "cells": [
  {
   "cell_type": "markdown",
   "id": "46841ea8",
   "metadata": {},
   "source": [
    "# 🦠 COVID-19 Global Data Analysis - Portfolio Project\n",
    "**Analysis of April 2020 COVID-19 Data**\n",
    "\n",
    "This notebook includes data loading, cleansing, feature engineering, EDA, visualization, and business insights generation for COVID-19 global data as of April 2020."
   ]
  },
  {
   "cell_type": "markdown",
   "id": "a87a6e57",
   "metadata": {},
   "source": [
    "## 1. Import Libraries"
   ]
  },
  {
   "cell_type": "code",
   "execution_count": 1,
   "id": "431d11a7",
   "metadata": {},
   "outputs": [],
   "source": [
    "import pandas as pd\n",
    "import numpy as np\n",
    "import matplotlib.pyplot as plt\n",
    "import seaborn as sns\n",
    "import plotly.express as px\n",
    "import os\n",
    "from datetime import datetime\n",
    "\n",
    "# Set visualization style\n",
    "plt.style.use('seaborn-v0_8')\n",
    "sns.set_palette('viridis')\n",
    "%matplotlib inline\n",
    "os.makedirs('visuals', exist_ok=True)"
   ]
  },
  {
   "cell_type": "markdown",
   "id": "8535a9f3",
   "metadata": {},
   "source": [
    "## 2. Data Loading & Initial Inspection"
   ]
  },
  {
   "cell_type": "code",
   "execution_count": 3,
   "id": "b95dda1e",
   "metadata": {},
   "outputs": [
    {
     "name": "stdout",
     "output_type": "stream",
     "text": [
      "DATA SHAPE: (321, 6)\n"
     ]
    },
    {
     "data": {
      "text/html": [
       "<div>\n",
       "<style scoped>\n",
       "    .dataframe tbody tr th:only-of-type {\n",
       "        vertical-align: middle;\n",
       "    }\n",
       "\n",
       "    .dataframe tbody tr th {\n",
       "        vertical-align: top;\n",
       "    }\n",
       "\n",
       "    .dataframe thead th {\n",
       "        text-align: right;\n",
       "    }\n",
       "</style>\n",
       "<table border=\"1\" class=\"dataframe\">\n",
       "  <thead>\n",
       "    <tr style=\"text-align: right;\">\n",
       "      <th></th>\n",
       "      <th>Date</th>\n",
       "      <th>State</th>\n",
       "      <th>Region</th>\n",
       "      <th>Confirmed</th>\n",
       "      <th>Deaths</th>\n",
       "      <th>Recovered</th>\n",
       "    </tr>\n",
       "  </thead>\n",
       "  <tbody>\n",
       "    <tr>\n",
       "      <th>0</th>\n",
       "      <td>2020-04-29</td>\n",
       "      <td>National</td>\n",
       "      <td>Afghanistan</td>\n",
       "      <td>1939</td>\n",
       "      <td>60</td>\n",
       "      <td>252</td>\n",
       "    </tr>\n",
       "    <tr>\n",
       "      <th>1</th>\n",
       "      <td>2020-04-29</td>\n",
       "      <td>National</td>\n",
       "      <td>Albania</td>\n",
       "      <td>766</td>\n",
       "      <td>30</td>\n",
       "      <td>455</td>\n",
       "    </tr>\n",
       "    <tr>\n",
       "      <th>2</th>\n",
       "      <td>2020-04-29</td>\n",
       "      <td>National</td>\n",
       "      <td>Algeria</td>\n",
       "      <td>3848</td>\n",
       "      <td>444</td>\n",
       "      <td>1702</td>\n",
       "    </tr>\n",
       "    <tr>\n",
       "      <th>3</th>\n",
       "      <td>2020-04-29</td>\n",
       "      <td>National</td>\n",
       "      <td>Andorra</td>\n",
       "      <td>743</td>\n",
       "      <td>42</td>\n",
       "      <td>423</td>\n",
       "    </tr>\n",
       "    <tr>\n",
       "      <th>4</th>\n",
       "      <td>2020-04-29</td>\n",
       "      <td>National</td>\n",
       "      <td>Angola</td>\n",
       "      <td>27</td>\n",
       "      <td>2</td>\n",
       "      <td>7</td>\n",
       "    </tr>\n",
       "  </tbody>\n",
       "</table>\n",
       "</div>"
      ],
      "text/plain": [
       "        Date     State       Region  Confirmed  Deaths  Recovered\n",
       "0 2020-04-29  National  Afghanistan       1939      60        252\n",
       "1 2020-04-29  National      Albania        766      30        455\n",
       "2 2020-04-29  National      Algeria       3848     444       1702\n",
       "3 2020-04-29  National      Andorra        743      42        423\n",
       "4 2020-04-29  National       Angola         27       2          7"
      ]
     },
     "metadata": {},
     "output_type": "display_data"
    }
   ],
   "source": [
    "df = pd.read_csv('covid_19_data.csv')\n",
    "df['Date'] = pd.to_datetime(df['Date'])\n",
    "df['State'] = df['State'].fillna('National')\n",
    "print(\"DATA SHAPE:\", df.shape)\n",
    "display(df.head())"
   ]
  },
  {
   "cell_type": "markdown",
   "id": "97b021ab",
   "metadata": {},
   "source": [
    "## 3. Data Cleansing & Feature Engineering"
   ]
  },
  {
   "cell_type": "code",
   "execution_count": 5,
   "id": "e1c818a6",
   "metadata": {},
   "outputs": [
    {
     "data": {
      "text/html": [
       "<div>\n",
       "<style scoped>\n",
       "    .dataframe tbody tr th:only-of-type {\n",
       "        vertical-align: middle;\n",
       "    }\n",
       "\n",
       "    .dataframe tbody tr th {\n",
       "        vertical-align: top;\n",
       "    }\n",
       "\n",
       "    .dataframe thead th {\n",
       "        text-align: right;\n",
       "    }\n",
       "</style>\n",
       "<table border=\"1\" class=\"dataframe\">\n",
       "  <thead>\n",
       "    <tr style=\"text-align: right;\">\n",
       "      <th></th>\n",
       "      <th>Date</th>\n",
       "      <th>Confirmed</th>\n",
       "      <th>Deaths</th>\n",
       "      <th>Recovered</th>\n",
       "      <th>Active_Cases</th>\n",
       "      <th>Mortality_Rate</th>\n",
       "      <th>Recovery_Rate</th>\n",
       "    </tr>\n",
       "  </thead>\n",
       "  <tbody>\n",
       "    <tr>\n",
       "      <th>count</th>\n",
       "      <td>318</td>\n",
       "      <td>318.000000</td>\n",
       "      <td>318.000000</td>\n",
       "      <td>318.000000</td>\n",
       "      <td>318.000000</td>\n",
       "      <td>318.000000</td>\n",
       "      <td>318.000000</td>\n",
       "    </tr>\n",
       "    <tr>\n",
       "      <th>mean</th>\n",
       "      <td>2020-04-29 00:00:00</td>\n",
       "      <td>10043.666667</td>\n",
       "      <td>715.839623</td>\n",
       "      <td>2615.320755</td>\n",
       "      <td>6712.506289</td>\n",
       "      <td>0.035851</td>\n",
       "      <td>0.389820</td>\n",
       "    </tr>\n",
       "    <tr>\n",
       "      <th>min</th>\n",
       "      <td>2020-04-29 00:00:00</td>\n",
       "      <td>1.000000</td>\n",
       "      <td>0.000000</td>\n",
       "      <td>0.000000</td>\n",
       "      <td>0.000000</td>\n",
       "      <td>0.000000</td>\n",
       "      <td>0.000000</td>\n",
       "    </tr>\n",
       "    <tr>\n",
       "      <th>25%</th>\n",
       "      <td>2020-04-29 00:00:00</td>\n",
       "      <td>109.500000</td>\n",
       "      <td>2.000000</td>\n",
       "      <td>2.000000</td>\n",
       "      <td>23.500000</td>\n",
       "      <td>0.008000</td>\n",
       "      <td>0.022975</td>\n",
       "    </tr>\n",
       "    <tr>\n",
       "      <th>50%</th>\n",
       "      <td>2020-04-29 00:00:00</td>\n",
       "      <td>712.500000</td>\n",
       "      <td>12.500000</td>\n",
       "      <td>72.000000</td>\n",
       "      <td>282.500000</td>\n",
       "      <td>0.027750</td>\n",
       "      <td>0.296900</td>\n",
       "    </tr>\n",
       "    <tr>\n",
       "      <th>75%</th>\n",
       "      <td>2020-04-29 00:00:00</td>\n",
       "      <td>4843.250000</td>\n",
       "      <td>147.000000</td>\n",
       "      <td>576.000000</td>\n",
       "      <td>3479.500000</td>\n",
       "      <td>0.051675</td>\n",
       "      <td>0.705800</td>\n",
       "    </tr>\n",
       "    <tr>\n",
       "      <th>max</th>\n",
       "      <td>2020-04-29 00:00:00</td>\n",
       "      <td>299691.000000</td>\n",
       "      <td>27682.000000</td>\n",
       "      <td>132929.000000</td>\n",
       "      <td>276214.000000</td>\n",
       "      <td>0.230800</td>\n",
       "      <td>1.000000</td>\n",
       "    </tr>\n",
       "    <tr>\n",
       "      <th>std</th>\n",
       "      <td>NaN</td>\n",
       "      <td>32059.810491</td>\n",
       "      <td>3250.701664</td>\n",
       "      <td>12785.275206</td>\n",
       "      <td>22403.525539</td>\n",
       "      <td>0.038119</td>\n",
       "      <td>0.348132</td>\n",
       "    </tr>\n",
       "  </tbody>\n",
       "</table>\n",
       "</div>"
      ],
      "text/plain": [
       "                      Date      Confirmed        Deaths      Recovered  \\\n",
       "count                  318     318.000000    318.000000     318.000000   \n",
       "mean   2020-04-29 00:00:00   10043.666667    715.839623    2615.320755   \n",
       "min    2020-04-29 00:00:00       1.000000      0.000000       0.000000   \n",
       "25%    2020-04-29 00:00:00     109.500000      2.000000       2.000000   \n",
       "50%    2020-04-29 00:00:00     712.500000     12.500000      72.000000   \n",
       "75%    2020-04-29 00:00:00    4843.250000    147.000000     576.000000   \n",
       "max    2020-04-29 00:00:00  299691.000000  27682.000000  132929.000000   \n",
       "std                    NaN   32059.810491   3250.701664   12785.275206   \n",
       "\n",
       "        Active_Cases  Mortality_Rate  Recovery_Rate  \n",
       "count     318.000000      318.000000     318.000000  \n",
       "mean     6712.506289        0.035851       0.389820  \n",
       "min         0.000000        0.000000       0.000000  \n",
       "25%        23.500000        0.008000       0.022975  \n",
       "50%       282.500000        0.027750       0.296900  \n",
       "75%      3479.500000        0.051675       0.705800  \n",
       "max    276214.000000        0.230800       1.000000  \n",
       "std     22403.525539        0.038119       0.348132  "
      ]
     },
     "metadata": {},
     "output_type": "display_data"
    }
   ],
   "source": [
    "df = df[df['Confirmed'] > 0]  # ⚠️ Only calculate if denominator > 0\n",
    "df['Active_Cases'] = df['Confirmed'] - df['Deaths'] - df['Recovered']\n",
    "df['Mortality_Rate'] = (df['Deaths'] / df['Confirmed']).round(4)\n",
    "df['Recovery_Rate'] = (df['Recovered'] / df['Confirmed']).round(4)\n",
    "display(df.describe())"
   ]
  },
  {
   "cell_type": "markdown",
   "id": "32f78525",
   "metadata": {},
   "source": [
    "## 4. Missing Values Analysis"
   ]
  },
  {
   "cell_type": "code",
   "execution_count": 6,
   "id": "0adb93e9",
   "metadata": {},
   "outputs": [
    {
     "data": {
      "text/plain": [
       "Date              0\n",
       "State             0\n",
       "Region            0\n",
       "Confirmed         0\n",
       "Deaths            0\n",
       "Recovered         0\n",
       "Active_Cases      0\n",
       "Mortality_Rate    0\n",
       "Recovery_Rate     0\n",
       "dtype: int64"
      ]
     },
     "execution_count": 6,
     "metadata": {},
     "output_type": "execute_result"
    }
   ],
   "source": [
    "df.isnull().sum()"
   ]
  },
  {
   "cell_type": "markdown",
   "id": "2fc69f7f",
   "metadata": {},
   "source": [
    "## 5. Top 15 Most Affected Regions"
   ]
  },
  {
   "cell_type": "code",
   "execution_count": 7,
   "id": "98623b91",
   "metadata": {},
   "outputs": [
    {
     "data": {
      "image/png": "[encoded data removed]",
      "text/plain": [
       "<Figure size 1400x800 with 1 Axes>"
      ]
     },
     "metadata": {},
     "output_type": "display_data"
    }
   ],
   "source": [
    "top_regions = df.groupby('Region')['Confirmed'].sum().nlargest(15)\n",
    "plt.figure(figsize=(14, 8))\n",
    "top_regions.sort_values().plot(kind='barh', color='darkred')\n",
    "plt.title('Top 15 Most Affected Regions (April 2020)', fontsize=16)\n",
    "plt.xlabel('Confirmed Cases')\n",
    "plt.tight_layout()\n",
    "plt.savefig('visuals/top_affected_regions.png', dpi=300)\n",
    "plt.show()"
   ]
  },
  {
   "cell_type": "markdown",
   "id": "d6aa48c0",
   "metadata": {},
   "source": [
    "## 6. Recovery vs Mortality Scatter"
   ]
  },
  {
   "cell_type": "code",
   "execution_count": 8,
   "id": "9e7bb751",
   "metadata": {},
   "outputs": [
    {
     "data": {
      "image/png": "[encoded data removed]",
      "text/plain": [
       "<Figure size 1200x800 with 1 Axes>"
      ]
     },
     "metadata": {},
     "output_type": "display_data"
    }
   ],
   "source": [
    "plt.figure(figsize=(12, 8))\n",
    "sns.scatterplot(data=df, x='Recovery_Rate', y='Mortality_Rate', \n",
    "                size='Confirmed', sizes=(50, 500),\n",
    "                hue='Region', alpha=0.7, legend=False)\n",
    "plt.title('Recovery vs Mortality Rates by Region')\n",
    "plt.xlabel('Recovery Rate (%)')\n",
    "plt.ylabel('Mortality Rate (%)')\n",
    "plt.axhline(df['Mortality_Rate'].median(), linestyle='--', alpha=0.5)\n",
    "plt.axvline(df['Recovery_Rate'].median(), linestyle='--', alpha=0.5)\n",
    "plt.tight_layout()\n",
    "plt.savefig('visuals/recovery_vs_mortality.png', dpi=300)\n",
    "plt.show()"
   ]
  },
  {
   "cell_type": "markdown",
   "id": "e978b1e1",
   "metadata": {},
   "source": [
    "## 7. Interactive Plotly Bubble Chart"
   ]
  },
  {
   "cell_type": "code",
   "execution_count": 9,
   "id": "44741edd",
   "metadata": {},
   "outputs": [
    {
     "data": {
      "application/vnd.plotly.v1+json": {
       "config": {
        "plotlyServerURL": "https://plot.ly"
       },
       "data": [
        {
         "hovertemplate": "<b>%{hovertext}</b><br><br>Region=Afghanistan<br>Confirmed=%{x}<br>Deaths=%{y}<br>Recovered=%{marker.size}<extra></extra>",
         "hovertext": [
          "Afghanistan"
         ],
         "legendgroup": "Afghanistan",
         "marker": {
          "color": "#636efa",
          "size": {
           "bdata": "/AA=",
           "dtype": "i2"
          },
          "sizemode": "area",
          "sizeref": 332.3225,
          "symbol": "circle"
         },
         "mode": "markers",
         "name": "Afghanistan",
         "orientation": "v",
         "showlegend": true,
         "type": "scatter",
         "x": {
          "bdata": "kwc=",
          "dtype": "i2"
         },
         "xaxis": "x",
         "y": {
          "bdata": "PA==",
          "dtype": "i1"
         },
         "yaxis": "y"
        },
        {
         "hovertemplate": "<b>%{hovertext}</b><br><br>Region=Albania<br>Confirmed=%{x}<br>Deaths=%{y}<br>Recovered=%{marker.size}<extra></extra>",
         "hovertext": [
          "Albania"
         ],
         "legendgroup": "Albania",
         "marker": {
          "color": "#EF553B",
          "size": {
           "bdata": "xwE=",
           "dtype": "i2"
          },
          "sizemode": "area",
          "sizeref": 332.3225,
          "symbol": "circle"
         },
         "mode": "markers",
         "name": "Albania",
         "orientation": "v",
         "showlegend": true,
         "type": "scatter",
         "x": {
          "bdata": "/gI=",
          "dtype": "i2"
         },
         "xaxis": "x",
         "y": {
          "bdata": "Hg==",
          "dtype": "i1"
         },
         "yaxis": "y"
        },
        {
         "hovertemplate": "<b>%{hovertext}</b><br><br>Region=Algeria<br>Confirmed=%{x}<br>Deaths=%{y}<br>Recovered=%{marker.size}<extra></extra>",
         "hovertext": [
          "Algeria"
         ],
         "legendgroup": "Algeria",
         "marker": {
          "color": "#00cc96",
          "size": {
           "bdata": "pgY=",
           "dtype": "i2"
          },
          "sizemode": "area",
          "sizeref": 332.3225,
          "symbol": "circle"
         },
         "mode": "markers",
         "name": "Algeria",
         "orientation": "v",
         "showlegend": true,
         "type": "scatter",
         "x": {
          "bdata": "CA8=",
          "dtype": "i2"
         },
         "xaxis": "x",
         "y": {
          "bdata": "vAE=",
          "dtype": "i2"
         },
         "yaxis": "y"
        },
        {
         "hovertemplate": "<b>%{hovertext}</b><br><br>Region=Andorra<br>Confirmed=%{x}<br>Deaths=%{y}<br>Recovered=%{marker.size}<extra></extra>",
         "hovertext": [
          "Andorra"
         ],
         "legendgroup": "Andorra",
         "marker": {
          "color": "#ab63fa",
          "size": {
           "bdata": "pwE=",
           "dtype": "i2"
          },
          "sizemode": "area",
          "sizeref": 332.3225,
          "symbol": "circle"
         },
         "mode": "markers",
         "name": "Andorra",
         "orientation": "v",
         "showlegend": true,
         "type": "scatter",
         "x": {
          "bdata": "5wI=",
          "dtype": "i2"
         },
         "xaxis": "x",
         "y": {
          "bdata": "Kg==",
          "dtype": "i1"
         },
         "yaxis": "y"
        },
        {
         "hovertemplate": "<b>%{hovertext}</b><br><br>Region=Angola<br>Confirmed=%{x}<br>Deaths=%{y}<br>Recovered=%{marker.size}<extra></extra>",
         "hovertext": [
          "Angola"
         ],
         "legendgroup": "Angola",
         "marker": {
          "color": "#FFA15A",
          "size": {
           "bdata": "Bw==",
           "dtype": "i1"
          },
          "sizemode": "area",
          "sizeref": 332.3225,
          "symbol": "circle"
         },
         "mode": "markers",
         "name": "Angola",
         "orientation": "v",
         "showlegend": true,
         "type": "scatter",
         "x": {
          "bdata": "Gw==",
          "dtype": "i1"
         },
         "xaxis": "x",
         "y": {
          "bdata": "Ag==",
          "dtype": "i1"
         },
         "yaxis": "y"
        },
        {
         "hovertemplate": "<b>%{hovertext}</b><br><br>Region=Antigua and Barbuda<br>Confirmed=%{x}<br>Deaths=%{y}<br>Recovered=%{marker.size}<extra></extra>",
         "hovertext": [
          "Antigua and Barbuda"
         ],
         "legendgroup": "Antigua and Barbuda",
         "marker": {
          "color": "#19d3f3",
          "size": {
           "bdata": "Cw==",
           "dtype": "i1"
          },
          "sizemode": "area",
          "sizeref": 332.3225,
          "symbol": "circle"
         },
         "mode": "markers",
         "name": "Antigua and Barbuda",
         "orientation": "v",
         "showlegend": true,
         "type": "scatter",
         "x": {
          "bdata": "GA==",
          "dtype": "i1"
         },
         "xaxis": "x",
         "y": {
          "bdata": "Aw==",
          "dtype": "i1"
         },
         "yaxis": "y"
        },
        {
         "hovertemplate": "<b>%{hovertext}</b><br><br>Region=Argentina<br>Confirmed=%{x}<br>Deaths=%{y}<br>Recovered=%{marker.size}<extra></extra>",
         "hovertext": [
          "Argentina"
         ],
         "legendgroup": "Argentina",
         "marker": {
          "color": "#FF6692",
          "size": {
           "bdata": "qAQ=",
           "dtype": "i2"
          },
          "sizemode": "area",
          "sizeref": 332.3225,
          "symbol": "circle"
         },
         "mode": "markers",
         "name": "Argentina",
         "orientation": "v",
         "showlegend": true,
         "type": "scatter",
         "x": {
          "bdata": "vRA=",
          "dtype": "i2"
         },
         "xaxis": "x",
         "y": {
          "bdata": "1gA=",
          "dtype": "i2"
         },
         "yaxis": "y"
        },
        {
         "hovertemplate": "<b>%{hovertext}</b><br><br>Region=Armenia<br>Confirmed=%{x}<br>Deaths=%{y}<br>Recovered=%{marker.size}<extra></extra>",
         "hovertext": [
          "Armenia"
         ],
         "legendgroup": "Armenia",
         "marker": {
          "color": "#B6E880",
          "size": {
           "bdata": "hAM=",
           "dtype": "i2"
          },
          "sizemode": "area",
          "sizeref": 332.3225,
          "symbol": "circle"
         },
         "mode": "markers",
         "name": "Armenia",
         "orientation": "v",
         "showlegend": true,
         "type": "scatter",
         "x": {
          "bdata": "jAc=",
          "dtype": "i2"
         },
         "xaxis": "x",
         "y": {
          "bdata": "Hg==",
          "dtype": "i1"
         },
         "yaxis": "y"
        },
        {
         "hovertemplate": "<b>%{hovertext}</b><br><br>Region=Austria<br>Confirmed=%{x}<br>Deaths=%{y}<br>Recovered=%{marker.size}<extra></extra>",
         "hovertext": [
          "Austria"
         ],
         "legendgroup": "Austria",
         "marker": {
          "color": "#FF97FF",
          "size": {
           "bdata": "6zE=",
           "dtype": "i2"
          },
          "sizemode": "area",
          "sizeref": 332.3225,
          "symbol": "circle"
         },
         "mode": "markers",
         "name": "Austria",
         "orientation": "v",
         "showlegend": true,
         "type": "scatter",
         "x": {
          "bdata": "Kjw=",
          "dtype": "i2"
         },
         "xaxis": "x",
         "y": {
          "bdata": "RAI=",
          "dtype": "i2"
         },
         "yaxis": "y"
        },
        {
         "hovertemplate": "<b>%{hovertext}</b><br><br>Region=Azerbaijan<br>Confirmed=%{x}<br>Deaths=%{y}<br>Recovered=%{marker.size}<extra></extra>",
         "hovertext": [
          "Azerbaijan"
         ],
         "legendgroup": "Azerbaijan",
         "marker": {
          "color": "#FECB52",
          "size": {
           "bdata": "8wQ=",
           "dtype": "i2"
          },
          "sizemode": "area",
          "sizeref": 332.3225,
          "symbol": "circle"
         },
         "mode": "markers",
         "name": "Azerbaijan",
         "orientation": "v",
         "showlegend": true,
         "type": "scatter",
         "x": {
          "bdata": "5gY=",
          "dtype": "i2"
         },
         "xaxis": "x",
         "y": {
          "bdata": "Fw==",
          "dtype": "i1"
         },
         "yaxis": "y"
        },
        {
         "hovertemplate": "<b>%{hovertext}</b><br><br>Region=Bahamas<br>Confirmed=%{x}<br>Deaths=%{y}<br>Recovered=%{marker.size}<extra></extra>",
         "hovertext": [
          "Bahamas"
         ],
         "legendgroup": "Bahamas",
         "marker": {
          "color": "#636efa",
          "size": {
           "bdata": "Fw==",
           "dtype": "i1"
          },
          "sizemode": "area",
          "sizeref": 332.3225,
          "symbol": "circle"
         },
         "mode": "markers",
         "name": "Bahamas",
         "orientation": "v",
         "showlegend": true,
         "type": "scatter",
         "x": {
          "bdata": "UA==",
          "dtype": "i1"
         },
         "xaxis": "x",
         "y": {
          "bdata": "Cw==",
          "dtype": "i1"
         },
         "yaxis": "y"
        },
        {
         "hovertemplate": "<b>%{hovertext}</b><br><br>Region=Bahrain<br>Confirmed=%{x}<br>Deaths=%{y}<br>Recovered=%{marker.size}<extra></extra>",
         "hovertext": [
          "Bahrain"
         ],
         "legendgroup": "Bahrain",
         "marker": {
          "color": "#EF553B",
          "size": {
           "bdata": "rwU=",
           "dtype": "i2"
          },
          "sizemode": "area",
          "sizeref": 332.3225,
          "symbol": "circle"
         },
         "mode": "markers",
         "name": "Bahrain",
         "orientation": "v",
         "showlegend": true,
         "type": "scatter",
         "x": {
          "bdata": "aQs=",
          "dtype": "i2"
         },
         "xaxis": "x",
         "y": {
          "bdata": "CA==",
          "dtype": "i1"
         },
         "yaxis": "y"
        },
        {
         "hovertemplate": "<b>%{hovertext}</b><br><br>Region=Bangladesh<br>Confirmed=%{x}<br>Deaths=%{y}<br>Recovered=%{marker.size}<extra></extra>",
         "hovertext": [
          "Bangladesh"
         ],
         "legendgroup": "Bangladesh",
         "marker": {
          "color": "#00cc96",
          "size": {
           "bdata": "lgA=",
           "dtype": "i2"
          },
          "sizemode": "area",
          "sizeref": 332.3225,
          "symbol": "circle"
         },
         "mode": "markers",
         "name": "Bangladesh",
         "orientation": "v",
         "showlegend": true,
         "type": "scatter",
         "x": {
          "bdata": "vxs=",
          "dtype": "i2"
         },
         "xaxis": "x",
         "y": {
          "bdata": "owA=",
          "dtype": "i2"
         },
         "yaxis": "y"
        },
        {
         "hovertemplate": "<b>%{hovertext}</b><br><br>Region=Barbados<br>Confirmed=%{x}<br>Deaths=%{y}<br>Recovered=%{marker.size}<extra></extra>",
         "hovertext": [
          "Barbados"
         ],
         "legendgroup": "Barbados",
         "marker": {
          "color": "#ab63fa",
          "size": {
           "bdata": "Jw==",
           "dtype": "i1"
          },
          "sizemode": "area",
          "sizeref": 332.3225,
          "symbol": "circle"
         },
         "mode": "markers",
         "name": "Barbados",
         "orientation": "v",
         "showlegend": true,
         "type": "scatter",
         "x": {
          "bdata": "UA==",
          "dtype": "i1"
         },
         "xaxis": "x",
         "y": {
          "bdata": "Bw==",
          "dtype": "i1"
         },
         "yaxis": "y"
        },
        {
         "hovertemplate": "<b>%{hovertext}</b><br><br>Region=Belarus<br>Confirmed=%{x}<br>Deaths=%{y}<br>Recovered=%{marker.size}<extra></extra>",
         "hovertext": [
          "Belarus"
         ],
         "legendgroup": "Belarus",
         "marker": {
          "color": "#FFA15A",
          "size": {
           "bdata": "GAg=",
           "dtype": "i2"
          },
          "sizemode": "area",
          "sizeref": 332.3225,
          "symbol": "circle"
         },
         "mode": "markers",
         "name": "Belarus",
         "orientation": "v",
         "showlegend": true,
         "type": "scatter",
         "x": {
          "bdata": "fTM=",
          "dtype": "i2"
         },
         "xaxis": "x",
         "y": {
          "bdata": "VA==",
          "dtype": "i1"
         },
         "yaxis": "y"
        },
        {
         "hovertemplate": "<b>%{hovertext}</b><br><br>Region=Belgium<br>Confirmed=%{x}<br>Deaths=%{y}<br>Recovered=%{marker.size}<extra></extra>",
         "hovertext": [
          "Belgium"
         ],
         "legendgroup": "Belgium",
         "marker": {
          "color": "#19d3f3",
          "size": {
           "bdata": "Eyw=",
           "dtype": "i2"
          },
          "sizemode": "area",
          "sizeref": 332.3225,
          "symbol": "circle"
         },
         "mode": "markers",
         "name": "Belgium",
         "orientation": "v",
         "showlegend": true,
         "type": "scatter",
         "x": {
          "bdata": "87oAAA==",
          "dtype": "i4"
         },
         "xaxis": "x",
         "y": {
          "bdata": "TR0=",
          "dtype": "i2"
         },
         "yaxis": "y"
        },
        {
         "hovertemplate": "<b>%{hovertext}</b><br><br>Region=Belize<br>Confirmed=%{x}<br>Deaths=%{y}<br>Recovered=%{marker.size}<extra></extra>",
         "hovertext": [
          "Belize"
         ],
         "legendgroup": "Belize",
         "marker": {
          "color": "#FF6692",
          "size": {
           "bdata": "CQ==",
           "dtype": "i1"
          },
          "sizemode": "area",
          "sizeref": 332.3225,
          "symbol": "circle"
         },
         "mode": "markers",
         "name": "Belize",
         "orientation": "v",
         "showlegend": true,
         "type": "scatter",
         "x": {
          "bdata": "Eg==",
          "dtype": "i1"
         },
         "xaxis": "x",
         "y": {
          "bdata": "Ag==",
          "dtype": "i1"
         },
         "yaxis": "y"
        },
        {
         "hovertemplate": "<b>%{hovertext}</b><br><br>Region=Benin<br>Confirmed=%{x}<br>Deaths=%{y}<br>Recovered=%{marker.size}<extra></extra>",
         "hovertext": [
          "Benin"
         ],
         "legendgroup": "Benin",
         "marker": {
          "color": "#B6E880",
          "size": {
           "bdata": "IQ==",
           "dtype": "i1"
          },
          "sizemode": "area",
          "sizeref": 332.3225,
          "symbol": "circle"
         },
         "mode": "markers",
         "name": "Benin",
         "orientation": "v",
         "showlegend": true,
         "type": "scatter",
         "x": {
          "bdata": "QA==",
          "dtype": "i1"
         },
         "xaxis": "x",
         "y": {
          "bdata": "AQ==",
          "dtype": "i1"
         },
         "yaxis": "y"
        },
        {
         "hovertemplate": "<b>%{hovertext}</b><br><br>Region=Bhutan<br>Confirmed=%{x}<br>Deaths=%{y}<br>Recovered=%{marker.size}<extra></extra>",
         "hovertext": [
          "Bhutan"
         ],
         "legendgroup": "Bhutan",
         "marker": {
          "color": "#FF97FF",
          "size": {
           "bdata": "BQ==",
           "dtype": "i1"
          },
          "sizemode": "area",
          "sizeref": 332.3225,
          "symbol": "circle"
         },
         "mode": "markers",
         "name": "Bhutan",
         "orientation": "v",
         "showlegend": true,
         "type": "scatter",
         "x": {
          "bdata": "Bw==",
          "dtype": "i1"
         },
         "xaxis": "x",
         "y": {
          "bdata": "AA==",
          "dtype": "i1"
         },
         "yaxis": "y"
        },
        {
         "hovertemplate": "<b>%{hovertext}</b><br><br>Region=Bolivia<br>Confirmed=%{x}<br>Deaths=%{y}<br>Recovered=%{marker.size}<extra></extra>",
         "hovertext": [
          "Bolivia"
         ],
         "legendgroup": "Bolivia",
         "marker": {
          "color": "#FECB52",
          "size": {
           "bdata": "dQ==",
           "dtype": "i1"
          },
          "sizemode": "area",
          "sizeref": 332.3225,
          "symbol": "circle"
         },
         "mode": "markers",
         "name": "Bolivia",
         "orientation": "v",
         "showlegend": true,
         "type": "scatter",
         "x": {
          "bdata": "VgQ=",
          "dtype": "i2"
         },
         "xaxis": "x",
         "y": {
          "bdata": "Ow==",
          "dtype": "i1"
         },
         "yaxis": "y"
        },
        {
         "hovertemplate": "<b>%{hovertext}</b><br><br>Region=Bosnia and Herzegovina<br>Confirmed=%{x}<br>Deaths=%{y}<br>Recovered=%{marker.size}<extra></extra>",
         "hovertext": [
          "Bosnia and Herzegovina"
         ],
         "legendgroup": "Bosnia and Herzegovina",
         "marker": {
          "color": "#636efa",
          "size": {
           "bdata": "xgI=",
           "dtype": "i2"
          },
          "sizemode": "area",
          "sizeref": 332.3225,
          "symbol": "circle"
         },
         "mode": "markers",
         "name": "Bosnia and Herzegovina",
         "orientation": "v",
         "showlegend": true,
         "type": "scatter",
         "x": {
          "bdata": "jQY=",
          "dtype": "i2"
         },
         "xaxis": "x",
         "y": {
          "bdata": "QQ==",
          "dtype": "i1"
         },
         "yaxis": "y"
        },
        {
         "hovertemplate": "<b>%{hovertext}</b><br><br>Region=Botswana<br>Confirmed=%{x}<br>Deaths=%{y}<br>Recovered=%{marker.size}<extra></extra>",
         "hovertext": [
          "Botswana"
         ],
         "legendgroup": "Botswana",
         "marker": {
          "color": "#EF553B",
          "size": {
           "bdata": "BQ==",
           "dtype": "i1"
          },
          "sizemode": "area",
          "sizeref": 332.3225,
          "symbol": "circle"
         },
         "mode": "markers",
         "name": "Botswana",
         "orientation": "v",
         "showlegend": true,
         "type": "scatter",
         "x": {
          "bdata": "Fw==",
          "dtype": "i1"
         },
         "xaxis": "x",
         "y": {
          "bdata": "AQ==",
          "dtype": "i1"
         },
         "yaxis": "y"
        },
        {
         "hovertemplate": "<b>%{hovertext}</b><br><br>Region=Brazil<br>Confirmed=%{x}<br>Deaths=%{y}<br>Recovered=%{marker.size}<extra></extra>",
         "hovertext": [
          "Brazil"
         ],
         "legendgroup": "Brazil",
         "marker": {
          "color": "#00cc96",
          "size": {
           "bdata": "VIUAAA==",
           "dtype": "i4"
          },
          "sizemode": "area",
          "sizeref": 332.3225,
          "symbol": "circle"
         },
         "mode": "markers",
         "name": "Brazil",
         "orientation": "v",
         "showlegend": true,
         "type": "scatter",
         "x": {
          "bdata": "RTcBAA==",
          "dtype": "i4"
         },
         "xaxis": "x",
         "y": {
          "bdata": "iRU=",
          "dtype": "i2"
         },
         "yaxis": "y"
        },
        {
         "hovertemplate": "<b>%{hovertext}</b><br><br>Region=Brunei<br>Confirmed=%{x}<br>Deaths=%{y}<br>Recovered=%{marker.size}<extra></extra>",
         "hovertext": [
          "Brunei"
         ],
         "legendgroup": "Brunei",
         "marker": {
          "color": "#ab63fa",
          "size": {
           "bdata": "fA==",
           "dtype": "i1"
          },
          "sizemode": "area",
          "sizeref": 332.3225,
          "symbol": "circle"
         },
         "mode": "markers",
         "name": "Brunei",
         "orientation": "v",
         "showlegend": true,
         "type": "scatter",
         "x": {
          "bdata": "igA=",
          "dtype": "i2"
         },
         "xaxis": "x",
         "y": {
          "bdata": "AQ==",
          "dtype": "i1"
         },
         "yaxis": "y"
        },
        {
         "hovertemplate": "<b>%{hovertext}</b><br><br>Region=Bulgaria<br>Confirmed=%{x}<br>Deaths=%{y}<br>Recovered=%{marker.size}<extra></extra>",
         "hovertext": [
          "Bulgaria"
         ],
         "legendgroup": "Bulgaria",
         "marker": {
          "color": "#FFA15A",
          "size": {
           "bdata": "8wA=",
           "dtype": "i2"
          },
          "sizemode": "area",
          "sizeref": 332.3225,
          "symbol": "circle"
         },
         "mode": "markers",
         "name": "Bulgaria",
         "orientation": "v",
         "showlegend": true,
         "type": "scatter",
         "x": {
          "bdata": "pwU=",
          "dtype": "i2"
         },
         "xaxis": "x",
         "y": {
          "bdata": "QA==",
          "dtype": "i1"
         },
         "yaxis": "y"
        },
        {
         "hovertemplate": "<b>%{hovertext}</b><br><br>Region=Burkina Faso<br>Confirmed=%{x}<br>Deaths=%{y}<br>Recovered=%{marker.size}<extra></extra>",
         "hovertext": [
          "Burkina Faso"
         ],
         "legendgroup": "Burkina Faso",
         "marker": {
          "color": "#19d3f3",
          "size": {
           "bdata": "8gE=",
           "dtype": "i2"
          },
          "sizemode": "area",
          "sizeref": 332.3225,
          "symbol": "circle"
         },
         "mode": "markers",
         "name": "Burkina Faso",
         "orientation": "v",
         "showlegend": true,
         "type": "scatter",
         "x": {
          "bdata": "gQI=",
          "dtype": "i2"
         },
         "xaxis": "x",
         "y": {
          "bdata": "Kw==",
          "dtype": "i1"
         },
         "yaxis": "y"
        },
        {
         "hovertemplate": "<b>%{hovertext}</b><br><br>Region=Burma<br>Confirmed=%{x}<br>Deaths=%{y}<br>Recovered=%{marker.size}<extra></extra>",
         "hovertext": [
          "Burma"
         ],
         "legendgroup": "Burma",
         "marker": {
          "color": "#FF6692",
          "size": {
           "bdata": "Gw==",
           "dtype": "i1"
          },
          "sizemode": "area",
          "sizeref": 332.3225,
          "symbol": "circle"
         },
         "mode": "markers",
         "name": "Burma",
         "orientation": "v",
         "showlegend": true,
         "type": "scatter",
         "x": {
          "bdata": "lgA=",
          "dtype": "i2"
         },
         "xaxis": "x",
         "y": {
          "bdata": "Bg==",
          "dtype": "i1"
         },
         "yaxis": "y"
        },
        {
         "hovertemplate": "<b>%{hovertext}</b><br><br>Region=Burundi<br>Confirmed=%{x}<br>Deaths=%{y}<br>Recovered=%{marker.size}<extra></extra>",
         "hovertext": [
          "Burundi"
         ],
         "legendgroup": "Burundi",
         "marker": {
          "color": "#B6E880",
          "size": {
           "bdata": "BA==",
           "dtype": "i1"
          },
          "sizemode": "area",
          "sizeref": 332.3225,
          "symbol": "circle"
         },
         "mode": "markers",
         "name": "Burundi",
         "orientation": "v",
         "showlegend": true,
         "type": "scatter",
         "x": {
          "bdata": "Cw==",
          "dtype": "i1"
         },
         "xaxis": "x",
         "y": {
          "bdata": "AQ==",
          "dtype": "i1"
         },
         "yaxis": "y"
        },
        {
         "hovertemplate": "<b>%{hovertext}</b><br><br>Region=Cabo Verde<br>Confirmed=%{x}<br>Deaths=%{y}<br>Recovered=%{marker.size}<extra></extra>",
         "hovertext": [
          "Cabo Verde"
         ],
         "legendgroup": "Cabo Verde",
         "marker": {
          "color": "#FF97FF",
          "size": {
           "bdata": "Ag==",
           "dtype": "i1"
          },
          "sizemode": "area",
          "sizeref": 332.3225,
          "symbol": "circle"
         },
         "mode": "markers",
         "name": "Cabo Verde",
         "orientation": "v",
         "showlegend": true,
         "type": "scatter",
         "x": {
          "bdata": "cg==",
          "dtype": "i1"
         },
         "xaxis": "x",
         "y": {
          "bdata": "AQ==",
          "dtype": "i1"
         },
         "yaxis": "y"
        },
        {
         "hovertemplate": "<b>%{hovertext}</b><br><br>Region=Cambodia<br>Confirmed=%{x}<br>Deaths=%{y}<br>Recovered=%{marker.size}<extra></extra>",
         "hovertext": [
          "Cambodia"
         ],
         "legendgroup": "Cambodia",
         "marker": {
          "color": "#FECB52",
          "size": {
           "bdata": "dw==",
           "dtype": "i1"
          },
          "sizemode": "area",
          "sizeref": 332.3225,
          "symbol": "circle"
         },
         "mode": "markers",
         "name": "Cambodia",
         "orientation": "v",
         "showlegend": true,
         "type": "scatter",
         "x": {
          "bdata": "eg==",
          "dtype": "i1"
         },
         "xaxis": "x",
         "y": {
          "bdata": "AA==",
          "dtype": "i1"
         },
         "yaxis": "y"
        },
        {
         "hovertemplate": "<b>%{hovertext}</b><br><br>Region=Cameroon<br>Confirmed=%{x}<br>Deaths=%{y}<br>Recovered=%{marker.size}<extra></extra>",
         "hovertext": [
          "Cameroon"
         ],
         "legendgroup": "Cameroon",
         "marker": {
          "color": "#636efa",
          "size": {
           "bdata": "pgM=",
           "dtype": "i2"
          },
          "sizemode": "area",
          "sizeref": 332.3225,
          "symbol": "circle"
         },
         "mode": "markers",
         "name": "Cameroon",
         "orientation": "v",
         "showlegend": true,
         "type": "scatter",
         "x": {
          "bdata": "KAc=",
          "dtype": "i2"
         },
         "xaxis": "x",
         "y": {
          "bdata": "PQ==",
          "dtype": "i1"
         },
         "yaxis": "y"
        },
        {
         "hovertemplate": "<b>%{hovertext}</b><br><br>Region=Central African Republic<br>Confirmed=%{x}<br>Deaths=%{y}<br>Recovered=%{marker.size}<extra></extra>",
         "hovertext": [
          "Central African Republic"
         ],
         "legendgroup": "Central African Republic",
         "marker": {
          "color": "#EF553B",
          "size": {
           "bdata": "Cg==",
           "dtype": "i1"
          },
          "sizemode": "area",
          "sizeref": 332.3225,
          "symbol": "circle"
         },
         "mode": "markers",
         "name": "Central African Republic",
         "orientation": "v",
         "showlegend": true,
         "type": "scatter",
         "x": {
          "bdata": "Mg==",
          "dtype": "i1"
         },
         "xaxis": "x",
         "y": {
          "bdata": "AA==",
          "dtype": "i1"
         },
         "yaxis": "y"
        },
        {
         "hovertemplate": "<b>%{hovertext}</b><br><br>Region=Chad<br>Confirmed=%{x}<br>Deaths=%{y}<br>Recovered=%{marker.size}<extra></extra>",
         "hovertext": [
          "Chad"
         ],
         "legendgroup": "Chad",
         "marker": {
          "color": "#00cc96",
          "size": {
           "bdata": "Ew==",
           "dtype": "i1"
          },
          "sizemode": "area",
          "sizeref": 332.3225,
          "symbol": "circle"
         },
         "mode": "markers",
         "name": "Chad",
         "orientation": "v",
         "showlegend": true,
         "type": "scatter",
         "x": {
          "bdata": "NA==",
          "dtype": "i1"
         },
         "xaxis": "x",
         "y": {
          "bdata": "Ag==",
          "dtype": "i1"
         },
         "yaxis": "y"
        },
        {
         "hovertemplate": "<b>%{hovertext}</b><br><br>Region=Chile<br>Confirmed=%{x}<br>Deaths=%{y}<br>Recovered=%{marker.size}<extra></extra>",
         "hovertext": [
          "Chile"
         ],
         "legendgroup": "Chile",
         "marker": {
          "color": "#ab63fa",
          "size": {
           "bdata": "eR8=",
           "dtype": "i2"
          },
          "sizemode": "area",
          "sizeref": 332.3225,
          "symbol": "circle"
         },
         "mode": "markers",
         "name": "Chile",
         "orientation": "v",
         "showlegend": true,
         "type": "scatter",
         "x": {
          "bdata": "JTo=",
          "dtype": "i2"
         },
         "xaxis": "x",
         "y": {
          "bdata": "2AA=",
          "dtype": "i2"
         },
         "yaxis": "y"
        },
        {
         "hovertemplate": "<b>%{hovertext}</b><br><br>Region=Colombia<br>Confirmed=%{x}<br>Deaths=%{y}<br>Recovered=%{marker.size}<extra></extra>",
         "hovertext": [
          "Colombia"
         ],
         "legendgroup": "Colombia",
         "marker": {
          "color": "#FFA15A",
          "size": {
           "bdata": "gwU=",
           "dtype": "i2"
          },
          "sizemode": "area",
          "sizeref": 332.3225,
          "symbol": "circle"
         },
         "mode": "markers",
         "name": "Colombia",
         "orientation": "v",
         "showlegend": true,
         "type": "scatter",
         "x": {
          "bdata": "Pxg=",
          "dtype": "i2"
         },
         "xaxis": "x",
         "y": {
          "bdata": "FgE=",
          "dtype": "i2"
         },
         "yaxis": "y"
        },
        {
         "hovertemplate": "<b>%{hovertext}</b><br><br>Region=Congo (Brazzaville)<br>Confirmed=%{x}<br>Deaths=%{y}<br>Recovered=%{marker.size}<extra></extra>",
         "hovertext": [
          "Congo (Brazzaville)"
         ],
         "legendgroup": "Congo (Brazzaville)",
         "marker": {
          "color": "#19d3f3",
          "size": {
           "bdata": "Ew==",
           "dtype": "i1"
          },
          "sizemode": "area",
          "sizeref": 332.3225,
          "symbol": "circle"
         },
         "mode": "markers",
         "name": "Congo (Brazzaville)",
         "orientation": "v",
         "showlegend": true,
         "type": "scatter",
         "x": {
          "bdata": "zwA=",
          "dtype": "i2"
         },
         "xaxis": "x",
         "y": {
          "bdata": "CA==",
          "dtype": "i1"
         },
         "yaxis": "y"
        },
        {
         "hovertemplate": "<b>%{hovertext}</b><br><br>Region=Congo (Kinshasa)<br>Confirmed=%{x}<br>Deaths=%{y}<br>Recovered=%{marker.size}<extra></extra>",
         "hovertext": [
          "Congo (Kinshasa)"
         ],
         "legendgroup": "Congo (Kinshasa)",
         "marker": {
          "color": "#FF6692",
          "size": {
           "bdata": "Ow==",
           "dtype": "i1"
          },
          "sizemode": "area",
          "sizeref": 332.3225,
          "symbol": "circle"
         },
         "mode": "markers",
         "name": "Congo (Kinshasa)",
         "orientation": "v",
         "showlegend": true,
         "type": "scatter",
         "x": {
          "bdata": "6wE=",
          "dtype": "i2"
         },
         "xaxis": "x",
         "y": {
          "bdata": "Hg==",
          "dtype": "i1"
         },
         "yaxis": "y"
        },
        {
         "hovertemplate": "<b>%{hovertext}</b><br><br>Region=Costa Rica<br>Confirmed=%{x}<br>Deaths=%{y}<br>Recovered=%{marker.size}<extra></extra>",
         "hovertext": [
          "Costa Rica"
         ],
         "legendgroup": "Costa Rica",
         "marker": {
          "color": "#B6E880",
          "size": {
           "bdata": "QwE=",
           "dtype": "i2"
          },
          "sizemode": "area",
          "sizeref": 332.3225,
          "symbol": "circle"
         },
         "mode": "markers",
         "name": "Costa Rica",
         "orientation": "v",
         "showlegend": true,
         "type": "scatter",
         "x": {
          "bdata": "yQI=",
          "dtype": "i2"
         },
         "xaxis": "x",
         "y": {
          "bdata": "Bg==",
          "dtype": "i1"
         },
         "yaxis": "y"
        },
        {
         "hovertemplate": "<b>%{hovertext}</b><br><br>Region=Croatia<br>Confirmed=%{x}<br>Deaths=%{y}<br>Recovered=%{marker.size}<extra></extra>",
         "hovertext": [
          "Croatia"
         ],
         "legendgroup": "Croatia",
         "marker": {
          "color": "#FF97FF",
          "size": {
           "bdata": "CAU=",
           "dtype": "i2"
          },
          "sizemode": "area",
          "sizeref": 332.3225,
          "symbol": "circle"
         },
         "mode": "markers",
         "name": "Croatia",
         "orientation": "v",
         "showlegend": true,
         "type": "scatter",
         "x": {
          "bdata": "Dgg=",
          "dtype": "i2"
         },
         "xaxis": "x",
         "y": {
          "bdata": "Qw==",
          "dtype": "i1"
         },
         "yaxis": "y"
        },
        {
         "hovertemplate": "<b>%{hovertext}</b><br><br>Region=Cuba<br>Confirmed=%{x}<br>Deaths=%{y}<br>Recovered=%{marker.size}<extra></extra>",
         "hovertext": [
          "Cuba"
         ],
         "legendgroup": "Cuba",
         "marker": {
          "color": "#FECB52",
          "size": {
           "bdata": "aQI=",
           "dtype": "i2"
          },
          "sizemode": "area",
          "sizeref": 332.3225,
          "symbol": "circle"
         },
         "mode": "markers",
         "name": "Cuba",
         "orientation": "v",
         "showlegend": true,
         "type": "scatter",
         "x": {
          "bdata": "uwU=",
          "dtype": "i2"
         },
         "xaxis": "x",
         "y": {
          "bdata": "Og==",
          "dtype": "i1"
         },
         "yaxis": "y"
        },
        {
         "hovertemplate": "<b>%{hovertext}</b><br><br>Region=Cyprus<br>Confirmed=%{x}<br>Deaths=%{y}<br>Recovered=%{marker.size}<extra></extra>",
         "hovertext": [
          "Cyprus"
         ],
         "legendgroup": "Cyprus",
         "marker": {
          "color": "#636efa",
          "size": {
           "bdata": "lAA=",
           "dtype": "i2"
          },
          "sizemode": "area",
          "sizeref": 332.3225,
          "symbol": "circle"
         },
         "mode": "markers",
         "name": "Cyprus",
         "orientation": "v",
         "showlegend": true,
         "type": "scatter",
         "x": {
          "bdata": "SwM=",
          "dtype": "i2"
         },
         "xaxis": "x",
         "y": {
          "bdata": "Dw==",
          "dtype": "i1"
         },
         "yaxis": "y"
        },
        {
         "hovertemplate": "<b>%{hovertext}</b><br><br>Region=Czech Republic<br>Confirmed=%{x}<br>Deaths=%{y}<br>Recovered=%{marker.size}<extra></extra>",
         "hovertext": [
          "Czech Republic"
         ],
         "legendgroup": "Czech Republic",
         "marker": {
          "color": "#EF553B",
          "size": {
           "bdata": "JAw=",
           "dtype": "i2"
          },
          "sizemode": "area",
          "sizeref": 332.3225,
          "symbol": "circle"
         },
         "mode": "markers",
         "name": "Czech Republic",
         "orientation": "v",
         "showlegend": true,
         "type": "scatter",
         "x": {
          "bdata": "mx0=",
          "dtype": "i2"
         },
         "xaxis": "x",
         "y": {
          "bdata": "4wA=",
          "dtype": "i2"
         },
         "yaxis": "y"
        },
        {
         "hovertemplate": "<b>%{hovertext}</b><br><br>Region=Denmark<br>Confirmed=%{x}<br>Deaths=%{y}<br>Recovered=%{marker.size}<extra></extra>",
         "hovertext": [
          "Denmark",
          "Denmark",
          "Denmark"
         ],
         "legendgroup": "Denmark",
         "marker": {
          "color": "#00cc96",
          "size": {
           "bdata": "3hi1AAsA",
           "dtype": "i2"
          },
          "sizemode": "area",
          "sizeref": 332.3225,
          "symbol": "circle"
         },
         "mode": "markers",
         "name": "Denmark",
         "orientation": "v",
         "showlegend": true,
         "type": "scatter",
         "x": {
          "bdata": "MCO7AAsA",
          "dtype": "i2"
         },
         "xaxis": "x",
         "y": {
          "bdata": "uwEAAAAA",
          "dtype": "i2"
         },
         "yaxis": "y"
        },
        {
         "hovertemplate": "<b>%{hovertext}</b><br><br>Region=Diamond Princess<br>Confirmed=%{x}<br>Deaths=%{y}<br>Recovered=%{marker.size}<extra></extra>",
         "hovertext": [
          "Diamond Princess"
         ],
         "legendgroup": "Diamond Princess",
         "marker": {
          "color": "#ab63fa",
          "size": {
           "bdata": "hQI=",
           "dtype": "i2"
          },
          "sizemode": "area",
          "sizeref": 332.3225,
          "symbol": "circle"
         },
         "mode": "markers",
         "name": "Diamond Princess",
         "orientation": "v",
         "showlegend": true,
         "type": "scatter",
         "x": {
          "bdata": "yAI=",
          "dtype": "i2"
         },
         "xaxis": "x",
         "y": {
          "bdata": "DQ==",
          "dtype": "i1"
         },
         "yaxis": "y"
        },
        {
         "hovertemplate": "<b>%{hovertext}</b><br><br>Region=Djibouti<br>Confirmed=%{x}<br>Deaths=%{y}<br>Recovered=%{marker.size}<extra></extra>",
         "hovertext": [
          "Djibouti"
         ],
         "legendgroup": "Djibouti",
         "marker": {
          "color": "#FFA15A",
          "size": {
           "bdata": "VwI=",
           "dtype": "i2"
          },
          "sizemode": "area",
          "sizeref": 332.3225,
          "symbol": "circle"
         },
         "mode": "markers",
         "name": "Djibouti",
         "orientation": "v",
         "showlegend": true,
         "type": "scatter",
         "x": {
          "bdata": "NQQ=",
          "dtype": "i2"
         },
         "xaxis": "x",
         "y": {
          "bdata": "Ag==",
          "dtype": "i1"
         },
         "yaxis": "y"
        },
        {
         "hovertemplate": "<b>%{hovertext}</b><br><br>Region=Dominica<br>Confirmed=%{x}<br>Deaths=%{y}<br>Recovered=%{marker.size}<extra></extra>",
         "hovertext": [
          "Dominica"
         ],
         "legendgroup": "Dominica",
         "marker": {
          "color": "#19d3f3",
          "size": {
           "bdata": "DQ==",
           "dtype": "i1"
          },
          "sizemode": "area",
          "sizeref": 332.3225,
          "symbol": "circle"
         },
         "mode": "markers",
         "name": "Dominica",
         "orientation": "v",
         "showlegend": true,
         "type": "scatter",
         "x": {
          "bdata": "EA==",
          "dtype": "i1"
         },
         "xaxis": "x",
         "y": {
          "bdata": "AA==",
          "dtype": "i1"
         },
         "yaxis": "y"
        },
        {
         "hovertemplate": "<b>%{hovertext}</b><br><br>Region=Dominican Republic<br>Confirmed=%{x}<br>Deaths=%{y}<br>Recovered=%{marker.size}<extra></extra>",
         "hovertext": [
          "Dominican Republic"
         ],
         "legendgroup": "Dominican Republic",
         "marker": {
          "color": "#FF6692",
          "size": {
           "bdata": "zAQ=",
           "dtype": "i2"
          },
          "sizemode": "area",
          "sizeref": 332.3225,
          "symbol": "circle"
         },
         "mode": "markers",
         "name": "Dominican Republic",
         "orientation": "v",
         "showlegend": true,
         "type": "scatter",
         "x": {
          "bdata": "/Bk=",
          "dtype": "i2"
         },
         "xaxis": "x",
         "y": {
          "bdata": "JQE=",
          "dtype": "i2"
         },
         "yaxis": "y"
        },
        {
         "hovertemplate": "<b>%{hovertext}</b><br><br>Region=Ecuador<br>Confirmed=%{x}<br>Deaths=%{y}<br>Recovered=%{marker.size}<extra></extra>",
         "hovertext": [
          "Ecuador"
         ],
         "legendgroup": "Ecuador",
         "marker": {
          "color": "#B6E880",
          "size": {
           "bdata": "FQY=",
           "dtype": "i2"
          },
          "sizemode": "area",
          "sizeref": 332.3225,
          "symbol": "circle"
         },
         "mode": "markers",
         "name": "Ecuador",
         "orientation": "v",
         "showlegend": true,
         "type": "scatter",
         "x": {
          "bdata": "Y2A=",
          "dtype": "i2"
         },
         "xaxis": "x",
         "y": {
          "bdata": "cwM=",
          "dtype": "i2"
         },
         "yaxis": "y"
        },
        {
         "hovertemplate": "<b>%{hovertext}</b><br><br>Region=Egypt<br>Confirmed=%{x}<br>Deaths=%{y}<br>Recovered=%{marker.size}<extra></extra>",
         "hovertext": [
          "Egypt"
         ],
         "legendgroup": "Egypt",
         "marker": {
          "color": "#FF97FF",
          "size": {
           "bdata": "NwU=",
           "dtype": "i2"
          },
          "sizemode": "area",
          "sizeref": 332.3225,
          "symbol": "circle"
         },
         "mode": "markers",
         "name": "Egypt",
         "orientation": "v",
         "showlegend": true,
         "type": "scatter",
         "x": {
          "bdata": "lBQ=",
          "dtype": "i2"
         },
         "xaxis": "x",
         "y": {
          "bdata": "fAE=",
          "dtype": "i2"
         },
         "yaxis": "y"
        },
        {
         "hovertemplate": "<b>%{hovertext}</b><br><br>Region=El Salvador<br>Confirmed=%{x}<br>Deaths=%{y}<br>Recovered=%{marker.size}<extra></extra>",
         "hovertext": [
          "El Salvador"
         ],
         "legendgroup": "El Salvador",
         "marker": {
          "color": "#FECB52",
          "size": {
           "bdata": "ag==",
           "dtype": "i1"
          },
          "sizemode": "area",
          "sizeref": 332.3225,
          "symbol": "circle"
         },
         "mode": "markers",
         "name": "El Salvador",
         "orientation": "v",
         "showlegend": true,
         "type": "scatter",
         "x": {
          "bdata": "eQE=",
          "dtype": "i2"
         },
         "xaxis": "x",
         "y": {
          "bdata": "CQ==",
          "dtype": "i1"
         },
         "yaxis": "y"
        },
        {
         "hovertemplate": "<b>%{hovertext}</b><br><br>Region=Equatorial Guinea<br>Confirmed=%{x}<br>Deaths=%{y}<br>Recovered=%{marker.size}<extra></extra>",
         "hovertext": [
          "Equatorial Guinea"
         ],
         "legendgroup": "Equatorial Guinea",
         "marker": {
          "color": "#636efa",
          "size": {
           "bdata": "CQ==",
           "dtype": "i1"
          },
          "sizemode": "area",
          "sizeref": 332.3225,
          "symbol": "circle"
         },
         "mode": "markers",
         "name": "Equatorial Guinea",
         "orientation": "v",
         "showlegend": true,
         "type": "scatter",
         "x": {
          "bdata": "OwE=",
          "dtype": "i2"
         },
         "xaxis": "x",
         "y": {
          "bdata": "AQ==",
          "dtype": "i1"
         },
         "yaxis": "y"
        },
        {
         "hovertemplate": "<b>%{hovertext}</b><br><br>Region=Eritrea<br>Confirmed=%{x}<br>Deaths=%{y}<br>Recovered=%{marker.size}<extra></extra>",
         "hovertext": [
          "Eritrea"
         ],
         "legendgroup": "Eritrea",
         "marker": {
          "color": "#EF553B",
          "size": {
           "bdata": "Ew==",
           "dtype": "i1"
          },
          "sizemode": "area",
          "sizeref": 332.3225,
          "symbol": "circle"
         },
         "mode": "markers",
         "name": "Eritrea",
         "orientation": "v",
         "showlegend": true,
         "type": "scatter",
         "x": {
          "bdata": "Jw==",
          "dtype": "i1"
         },
         "xaxis": "x",
         "y": {
          "bdata": "AA==",
          "dtype": "i1"
         },
         "yaxis": "y"
        },
        {
         "hovertemplate": "<b>%{hovertext}</b><br><br>Region=Estonia<br>Confirmed=%{x}<br>Deaths=%{y}<br>Recovered=%{marker.size}<extra></extra>",
         "hovertext": [
          "Estonia"
         ],
         "legendgroup": "Estonia",
         "marker": {
          "color": "#00cc96",
          "size": {
           "bdata": "7AA=",
           "dtype": "i2"
          },
          "sizemode": "area",
          "sizeref": 332.3225,
          "symbol": "circle"
         },
         "mode": "markers",
         "name": "Estonia",
         "orientation": "v",
         "showlegend": true,
         "type": "scatter",
         "x": {
          "bdata": "ggY=",
          "dtype": "i2"
         },
         "xaxis": "x",
         "y": {
          "bdata": "Mg==",
          "dtype": "i1"
         },
         "yaxis": "y"
        },
        {
         "hovertemplate": "<b>%{hovertext}</b><br><br>Region=Eswatini<br>Confirmed=%{x}<br>Deaths=%{y}<br>Recovered=%{marker.size}<extra></extra>",
         "hovertext": [
          "Eswatini"
         ],
         "legendgroup": "Eswatini",
         "marker": {
          "color": "#ab63fa",
          "size": {
           "bdata": "Cg==",
           "dtype": "i1"
          },
          "sizemode": "area",
          "sizeref": 332.3225,
          "symbol": "circle"
         },
         "mode": "markers",
         "name": "Eswatini",
         "orientation": "v",
         "showlegend": true,
         "type": "scatter",
         "x": {
          "bdata": "Ww==",
          "dtype": "i1"
         },
         "xaxis": "x",
         "y": {
          "bdata": "AQ==",
          "dtype": "i1"
         },
         "yaxis": "y"
        },
        {
         "hovertemplate": "<b>%{hovertext}</b><br><br>Region=Ethiopia<br>Confirmed=%{x}<br>Deaths=%{y}<br>Recovered=%{marker.size}<extra></extra>",
         "hovertext": [
          "Ethiopia"
         ],
         "legendgroup": "Ethiopia",
         "marker": {
          "color": "#FFA15A",
          "size": {
           "bdata": "Og==",
           "dtype": "i1"
          },
          "sizemode": "area",
          "sizeref": 332.3225,
          "symbol": "circle"
         },
         "mode": "markers",
         "name": "Ethiopia",
         "orientation": "v",
         "showlegend": true,
         "type": "scatter",
         "x": {
          "bdata": "ggA=",
          "dtype": "i2"
         },
         "xaxis": "x",
         "y": {
          "bdata": "Aw==",
          "dtype": "i1"
         },
         "yaxis": "y"
        },
        {
         "hovertemplate": "<b>%{hovertext}</b><br><br>Region=Fiji<br>Confirmed=%{x}<br>Deaths=%{y}<br>Recovered=%{marker.size}<extra></extra>",
         "hovertext": [
          "Fiji"
         ],
         "legendgroup": "Fiji",
         "marker": {
          "color": "#19d3f3",
          "size": {
           "bdata": "DA==",
           "dtype": "i1"
          },
          "sizemode": "area",
          "sizeref": 332.3225,
          "symbol": "circle"
         },
         "mode": "markers",
         "name": "Fiji",
         "orientation": "v",
         "showlegend": true,
         "type": "scatter",
         "x": {
          "bdata": "Eg==",
          "dtype": "i1"
         },
         "xaxis": "x",
         "y": {
          "bdata": "AA==",
          "dtype": "i1"
         },
         "yaxis": "y"
        },
        {
         "hovertemplate": "<b>%{hovertext}</b><br><br>Region=Finland<br>Confirmed=%{x}<br>Deaths=%{y}<br>Recovered=%{marker.size}<extra></extra>",
         "hovertext": [
          "Finland"
         ],
         "legendgroup": "Finland",
         "marker": {
          "color": "#FF6692",
          "size": {
           "bdata": "8Ao=",
           "dtype": "i2"
          },
          "sizemode": "area",
          "sizeref": 332.3225,
          "symbol": "circle"
         },
         "mode": "markers",
         "name": "Finland",
         "orientation": "v",
         "showlegend": true,
         "type": "scatter",
         "x": {
          "bdata": "KhM=",
          "dtype": "i2"
         },
         "xaxis": "x",
         "y": {
          "bdata": "zgA=",
          "dtype": "i2"
         },
         "yaxis": "y"
        },
        {
         "hovertemplate": "<b>%{hovertext}</b><br><br>Region=France<br>Confirmed=%{x}<br>Deaths=%{y}<br>Recovered=%{marker.size}<extra></extra>",
         "hovertext": [
          "France",
          "France",
          "France",
          "France",
          "France",
          "France",
          "France",
          "France",
          "France",
          "France",
          "France"
         ],
         "legendgroup": "France",
         "marker": {
          "color": "#B6E880",
          "size": {
           "bdata": "ZLwAAF0AAAAyAAAAUgAAAFMAAADrAAAAEQAAACwBAAAGAAAAAAAAABgAAAA=",
           "dtype": "i4"
          },
          "sizemode": "area",
          "sizeref": 332.3225,
          "symbol": "circle"
         },
         "mode": "markers",
         "name": "France",
         "orientation": "v",
         "showlegend": true,
         "type": "scatter",
         "x": {
          "bdata": "5YQCAH0AAAA6AAAAlQAAAK8AAADMAQAAEgAAAKQBAAAGAAAAAQAAACYAAAA=",
          "dtype": "i4"
         },
         "xaxis": "x",
         "y": {
          "bdata": "F14BAAAADAAOAAQAAAAAAAAAAAADAA==",
          "dtype": "i2"
         },
         "yaxis": "y"
        },
        {
         "hovertemplate": "<b>%{hovertext}</b><br><br>Region=Gabon<br>Confirmed=%{x}<br>Deaths=%{y}<br>Recovered=%{marker.size}<extra></extra>",
         "hovertext": [
          "Gabon"
         ],
         "legendgroup": "Gabon",
         "marker": {
          "color": "#FF97FF",
          "size": {
           "bdata": "Qw==",
           "dtype": "i1"
          },
          "sizemode": "area",
          "sizeref": 332.3225,
          "symbol": "circle"
         },
         "mode": "markers",
         "name": "Gabon",
         "orientation": "v",
         "showlegend": true,
         "type": "scatter",
         "x": {
          "bdata": "FAE=",
          "dtype": "i2"
         },
         "xaxis": "x",
         "y": {
          "bdata": "Aw==",
          "dtype": "i1"
         },
         "yaxis": "y"
        },
        {
         "hovertemplate": "<b>%{hovertext}</b><br><br>Region=Gambia<br>Confirmed=%{x}<br>Deaths=%{y}<br>Recovered=%{marker.size}<extra></extra>",
         "hovertext": [
          "Gambia"
         ],
         "legendgroup": "Gambia",
         "marker": {
          "color": "#FECB52",
          "size": {
           "bdata": "CA==",
           "dtype": "i1"
          },
          "sizemode": "area",
          "sizeref": 332.3225,
          "symbol": "circle"
         },
         "mode": "markers",
         "name": "Gambia",
         "orientation": "v",
         "showlegend": true,
         "type": "scatter",
         "x": {
          "bdata": "Cg==",
          "dtype": "i1"
         },
         "xaxis": "x",
         "y": {
          "bdata": "AQ==",
          "dtype": "i1"
         },
         "yaxis": "y"
        },
        {
         "hovertemplate": "<b>%{hovertext}</b><br><br>Region=Georgia<br>Confirmed=%{x}<br>Deaths=%{y}<br>Recovered=%{marker.size}<extra></extra>",
         "hovertext": [
          "Georgia"
         ],
         "legendgroup": "Georgia",
         "marker": {
          "color": "#636efa",
          "size": {
           "bdata": "sgA=",
           "dtype": "i2"
          },
          "sizemode": "area",
          "sizeref": 332.3225,
          "symbol": "circle"
         },
         "mode": "markers",
         "name": "Georgia",
         "orientation": "v",
         "showlegend": true,
         "type": "scatter",
         "x": {
          "bdata": "BQI=",
          "dtype": "i2"
         },
         "xaxis": "x",
         "y": {
          "bdata": "Bg==",
          "dtype": "i1"
         },
         "yaxis": "y"
        },
        {
         "hovertemplate": "<b>%{hovertext}</b><br><br>Region=Germany<br>Confirmed=%{x}<br>Deaths=%{y}<br>Recovered=%{marker.size}<extra></extra>",
         "hovertext": [
          "Germany"
         ],
         "legendgroup": "Germany",
         "marker": {
          "color": "#EF553B",
          "size": {
           "bdata": "UNYBAA==",
           "dtype": "i4"
          },
          "sizemode": "area",
          "sizeref": 332.3225,
          "symbol": "circle"
         },
         "mode": "markers",
         "name": "Germany",
         "orientation": "v",
         "showlegend": true,
         "type": "scatter",
         "x": {
          "bdata": "A3cCAA==",
          "dtype": "i4"
         },
         "xaxis": "x",
         "y": {
          "bdata": "Qxk=",
          "dtype": "i2"
         },
         "yaxis": "y"
        },
        {
         "hovertemplate": "<b>%{hovertext}</b><br><br>Region=Ghana<br>Confirmed=%{x}<br>Deaths=%{y}<br>Recovered=%{marker.size}<extra></extra>",
         "hovertext": [
          "Ghana"
         ],
         "legendgroup": "Ghana",
         "marker": {
          "color": "#00cc96",
          "size": {
           "bdata": "vAA=",
           "dtype": "i2"
          },
          "sizemode": "area",
          "sizeref": 332.3225,
          "symbol": "circle"
         },
         "mode": "markers",
         "name": "Ghana",
         "orientation": "v",
         "showlegend": true,
         "type": "scatter",
         "x": {
          "bdata": "hwY=",
          "dtype": "i2"
         },
         "xaxis": "x",
         "y": {
          "bdata": "EA==",
          "dtype": "i1"
         },
         "yaxis": "y"
        },
        {
         "hovertemplate": "<b>%{hovertext}</b><br><br>Region=Greece<br>Confirmed=%{x}<br>Deaths=%{y}<br>Recovered=%{marker.size}<extra></extra>",
         "hovertext": [
          "Greece"
         ],
         "legendgroup": "Greece",
         "marker": {
          "color": "#ab63fa",
          "size": {
           "bdata": "QQI=",
           "dtype": "i2"
          },
          "sizemode": "area",
          "sizeref": 332.3225,
          "symbol": "circle"
         },
         "mode": "markers",
         "name": "Greece",
         "orientation": "v",
         "showlegend": true,
         "type": "scatter",
         "x": {
          "bdata": "EAo=",
          "dtype": "i2"
         },
         "xaxis": "x",
         "y": {
          "bdata": "iwA=",
          "dtype": "i2"
         },
         "yaxis": "y"
        },
        {
         "hovertemplate": "<b>%{hovertext}</b><br><br>Region=Grenada<br>Confirmed=%{x}<br>Deaths=%{y}<br>Recovered=%{marker.size}<extra></extra>",
         "hovertext": [
          "Grenada"
         ],
         "legendgroup": "Grenada",
         "marker": {
          "color": "#FFA15A",
          "size": {
           "bdata": "DQ==",
           "dtype": "i1"
          },
          "sizemode": "area",
          "sizeref": 332.3225,
          "symbol": "circle"
         },
         "mode": "markers",
         "name": "Grenada",
         "orientation": "v",
         "showlegend": true,
         "type": "scatter",
         "x": {
          "bdata": "FA==",
          "dtype": "i1"
         },
         "xaxis": "x",
         "y": {
          "bdata": "AA==",
          "dtype": "i1"
         },
         "yaxis": "y"
        },
        {
         "hovertemplate": "<b>%{hovertext}</b><br><br>Region=Guatemala<br>Confirmed=%{x}<br>Deaths=%{y}<br>Recovered=%{marker.size}<extra></extra>",
         "hovertext": [
          "Guatemala"
         ],
         "legendgroup": "Guatemala",
         "marker": {
          "color": "#19d3f3",
          "size": {
           "bdata": "Pg==",
           "dtype": "i1"
          },
          "sizemode": "area",
          "sizeref": 332.3225,
          "symbol": "circle"
         },
         "mode": "markers",
         "name": "Guatemala",
         "orientation": "v",
         "showlegend": true,
         "type": "scatter",
         "x": {
          "bdata": "LQI=",
          "dtype": "i2"
         },
         "xaxis": "x",
         "y": {
          "bdata": "EA==",
          "dtype": "i1"
         },
         "yaxis": "y"
        },
        {
         "hovertemplate": "<b>%{hovertext}</b><br><br>Region=Guinea<br>Confirmed=%{x}<br>Deaths=%{y}<br>Recovered=%{marker.size}<extra></extra>",
         "hovertext": [
          "Guinea"
         ],
         "legendgroup": "Guinea",
         "marker": {
          "color": "#FF6692",
          "size": {
           "bdata": "OQE=",
           "dtype": "i2"
          },
          "sizemode": "area",
          "sizeref": 332.3225,
          "symbol": "circle"
         },
         "mode": "markers",
         "name": "Guinea",
         "orientation": "v",
         "showlegend": true,
         "type": "scatter",
         "x": {
          "bdata": "RwU=",
          "dtype": "i2"
         },
         "xaxis": "x",
         "y": {
          "bdata": "Bw==",
          "dtype": "i1"
         },
         "yaxis": "y"
        },
        {
         "hovertemplate": "<b>%{hovertext}</b><br><br>Region=Guinea-Bissau<br>Confirmed=%{x}<br>Deaths=%{y}<br>Recovered=%{marker.size}<extra></extra>",
         "hovertext": [
          "Guinea-Bissau"
         ],
         "legendgroup": "Guinea-Bissau",
         "marker": {
          "color": "#B6E880",
          "size": {
           "bdata": "Ew==",
           "dtype": "i1"
          },
          "sizemode": "area",
          "sizeref": 332.3225,
          "symbol": "circle"
         },
         "mode": "markers",
         "name": "Guinea-Bissau",
         "orientation": "v",
         "showlegend": true,
         "type": "scatter",
         "x": {
          "bdata": "zQA=",
          "dtype": "i2"
         },
         "xaxis": "x",
         "y": {
          "bdata": "AQ==",
          "dtype": "i1"
         },
         "yaxis": "y"
        },
        {
         "hovertemplate": "<b>%{hovertext}</b><br><br>Region=Guyana<br>Confirmed=%{x}<br>Deaths=%{y}<br>Recovered=%{marker.size}<extra></extra>",
         "hovertext": [
          "Guyana"
         ],
         "legendgroup": "Guyana",
         "marker": {
          "color": "#FF97FF",
          "size": {
           "bdata": "Eg==",
           "dtype": "i1"
          },
          "sizemode": "area",
          "sizeref": 332.3225,
          "symbol": "circle"
         },
         "mode": "markers",
         "name": "Guyana",
         "orientation": "v",
         "showlegend": true,
         "type": "scatter",
         "x": {
          "bdata": "Tg==",
          "dtype": "i1"
         },
         "xaxis": "x",
         "y": {
          "bdata": "CA==",
          "dtype": "i1"
         },
         "yaxis": "y"
        },
        {
         "hovertemplate": "<b>%{hovertext}</b><br><br>Region=Haiti<br>Confirmed=%{x}<br>Deaths=%{y}<br>Recovered=%{marker.size}<extra></extra>",
         "hovertext": [
          "Haiti"
         ],
         "legendgroup": "Haiti",
         "marker": {
          "color": "#FECB52",
          "size": {
           "bdata": "CA==",
           "dtype": "i1"
          },
          "sizemode": "area",
          "sizeref": 332.3225,
          "symbol": "circle"
         },
         "mode": "markers",
         "name": "Haiti",
         "orientation": "v",
         "showlegend": true,
         "type": "scatter",
         "x": {
          "bdata": "TA==",
          "dtype": "i1"
         },
         "xaxis": "x",
         "y": {
          "bdata": "Bg==",
          "dtype": "i1"
         },
         "yaxis": "y"
        },
        {
         "hovertemplate": "<b>%{hovertext}</b><br><br>Region=Holy See<br>Confirmed=%{x}<br>Deaths=%{y}<br>Recovered=%{marker.size}<extra></extra>",
         "hovertext": [
          "Holy See"
         ],
         "legendgroup": "Holy See",
         "marker": {
          "color": "#636efa",
          "size": {
           "bdata": "Ag==",
           "dtype": "i1"
          },
          "sizemode": "area",
          "sizeref": 332.3225,
          "symbol": "circle"
         },
         "mode": "markers",
         "name": "Holy See",
         "orientation": "v",
         "showlegend": true,
         "type": "scatter",
         "x": {
          "bdata": "Cg==",
          "dtype": "i1"
         },
         "xaxis": "x",
         "y": {
          "bdata": "AA==",
          "dtype": "i1"
         },
         "yaxis": "y"
        },
        {
         "hovertemplate": "<b>%{hovertext}</b><br><br>Region=Honduras<br>Confirmed=%{x}<br>Deaths=%{y}<br>Recovered=%{marker.size}<extra></extra>",
         "hovertext": [
          "Honduras"
         ],
         "legendgroup": "Honduras",
         "marker": {
          "color": "#EF553B",
          "size": {
           "bdata": "SQ==",
           "dtype": "i1"
          },
          "sizemode": "area",
          "sizeref": 332.3225,
          "symbol": "circle"
         },
         "mode": "markers",
         "name": "Honduras",
         "orientation": "v",
         "showlegend": true,
         "type": "scatter",
         "x": {
          "bdata": "4gI=",
          "dtype": "i2"
         },
         "xaxis": "x",
         "y": {
          "bdata": "Qg==",
          "dtype": "i1"
         },
         "yaxis": "y"
        },
        {
         "hovertemplate": "<b>%{hovertext}</b><br><br>Region=Hungary<br>Confirmed=%{x}<br>Deaths=%{y}<br>Recovered=%{marker.size}<extra></extra>",
         "hovertext": [
          "Hungary"
         ],
         "legendgroup": "Hungary",
         "marker": {
          "color": "#00cc96",
          "size": {
           "bdata": "GAI=",
           "dtype": "i2"
          },
          "sizemode": "area",
          "sizeref": 332.3225,
          "symbol": "circle"
         },
         "mode": "markers",
         "name": "Hungary",
         "orientation": "v",
         "showlegend": true,
         "type": "scatter",
         "x": {
          "bdata": "pwo=",
          "dtype": "i2"
         },
         "xaxis": "x",
         "y": {
          "bdata": "LAE=",
          "dtype": "i2"
         },
         "yaxis": "y"
        },
        {
         "hovertemplate": "<b>%{hovertext}</b><br><br>Region=Iceland<br>Confirmed=%{x}<br>Deaths=%{y}<br>Recovered=%{marker.size}<extra></extra>",
         "hovertext": [
          "Iceland"
         ],
         "legendgroup": "Iceland",
         "marker": {
          "color": "#ab63fa",
          "size": {
           "bdata": "eAY=",
           "dtype": "i2"
          },
          "sizemode": "area",
          "sizeref": 332.3225,
          "symbol": "circle"
         },
         "mode": "markers",
         "name": "Iceland",
         "orientation": "v",
         "showlegend": true,
         "type": "scatter",
         "x": {
          "bdata": "BQc=",
          "dtype": "i2"
         },
         "xaxis": "x",
         "y": {
          "bdata": "Cg==",
          "dtype": "i1"
         },
         "yaxis": "y"
        },
        {
         "hovertemplate": "<b>%{hovertext}</b><br><br>Region=India<br>Confirmed=%{x}<br>Deaths=%{y}<br>Recovered=%{marker.size}<extra></extra>",
         "hovertext": [
          "India"
         ],
         "legendgroup": "India",
         "marker": {
          "color": "#FFA15A",
          "size": {
           "bdata": "9SA=",
           "dtype": "i2"
          },
          "sizemode": "area",
          "sizeref": 332.3225,
          "symbol": "circle"
         },
         "mode": "markers",
         "name": "India",
         "orientation": "v",
         "showlegend": true,
         "type": "scatter",
         "x": {
          "bdata": "JoEAAA==",
          "dtype": "i4"
         },
         "xaxis": "x",
         "y": {
          "bdata": "NwQ=",
          "dtype": "i2"
         },
         "yaxis": "y"
        },
        {
         "hovertemplate": "<b>%{hovertext}</b><br><br>Region=Indonesia<br>Confirmed=%{x}<br>Deaths=%{y}<br>Recovered=%{marker.size}<extra></extra>",
         "hovertext": [
          "Indonesia"
         ],
         "legendgroup": "Indonesia",
         "marker": {
          "color": "#19d3f3",
          "size": {
           "bdata": "bwU=",
           "dtype": "i2"
          },
          "sizemode": "area",
          "sizeref": 332.3225,
          "symbol": "circle"
         },
         "mode": "markers",
         "name": "Indonesia",
         "orientation": "v",
         "showlegend": true,
         "type": "scatter",
         "x": {
          "bdata": "KyY=",
          "dtype": "i2"
         },
         "xaxis": "x",
         "y": {
          "bdata": "EAM=",
          "dtype": "i2"
         },
         "yaxis": "y"
        },
        {
         "hovertemplate": "<b>%{hovertext}</b><br><br>Region=Iran<br>Confirmed=%{x}<br>Deaths=%{y}<br>Recovered=%{marker.size}<extra></extra>",
         "hovertext": [
          "Iran"
         ],
         "legendgroup": "Iran",
         "marker": {
          "color": "#FF6692",
          "size": {
           "bdata": "PyABAA==",
           "dtype": "i4"
          },
          "sizemode": "area",
          "sizeref": 332.3225,
          "symbol": "circle"
         },
         "mode": "markers",
         "name": "Iran",
         "orientation": "v",
         "showlegend": true,
         "type": "scatter",
         "x": {
          "bdata": "2W0BAA==",
          "dtype": "i4"
         },
         "xaxis": "x",
         "y": {
          "bdata": "RRc=",
          "dtype": "i2"
         },
         "yaxis": "y"
        },
        {
         "hovertemplate": "<b>%{hovertext}</b><br><br>Region=Iraq<br>Confirmed=%{x}<br>Deaths=%{y}<br>Recovered=%{marker.size}<extra></extra>",
         "hovertext": [
          "Iraq"
         ],
         "legendgroup": "Iraq",
         "marker": {
          "color": "#B6E880",
          "size": {
           "bdata": "QgU=",
           "dtype": "i2"
          },
          "sizemode": "area",
          "sizeref": 332.3225,
          "symbol": "circle"
         },
         "mode": "markers",
         "name": "Iraq",
         "orientation": "v",
         "showlegend": true,
         "type": "scatter",
         "x": {
          "bdata": "0wc=",
          "dtype": "i2"
         },
         "xaxis": "x",
         "y": {
          "bdata": "XA==",
          "dtype": "i1"
         },
         "yaxis": "y"
        },
        {
         "hovertemplate": "<b>%{hovertext}</b><br><br>Region=Ireland<br>Confirmed=%{x}<br>Deaths=%{y}<br>Recovered=%{marker.size}<extra></extra>",
         "hovertext": [
          "Ireland"
         ],
         "legendgroup": "Ireland",
         "marker": {
          "color": "#FF97FF",
          "size": {
           "bdata": "SjQ=",
           "dtype": "i2"
          },
          "sizemode": "area",
          "sizeref": 332.3225,
          "symbol": "circle"
         },
         "mode": "markers",
         "name": "Ireland",
         "orientation": "v",
         "showlegend": true,
         "type": "scatter",
         "x": {
          "bdata": "HU8=",
          "dtype": "i2"
         },
         "xaxis": "x",
         "y": {
          "bdata": "pgQ=",
          "dtype": "i2"
         },
         "yaxis": "y"
        },
        {
         "hovertemplate": "<b>%{hovertext}</b><br><br>Region=Israel<br>Confirmed=%{x}<br>Deaths=%{y}<br>Recovered=%{marker.size}<extra></extra>",
         "hovertext": [
          "Israel"
         ],
         "legendgroup": "Israel",
         "marker": {
          "color": "#FECB52",
          "size": {
           "bdata": "KSA=",
           "dtype": "i2"
          },
          "sizemode": "area",
          "sizeref": 332.3225,
          "symbol": "circle"
         },
         "mode": "markers",
         "name": "Israel",
         "orientation": "v",
         "showlegend": true,
         "type": "scatter",
         "x": {
          "bdata": "2j0=",
          "dtype": "i2"
         },
         "xaxis": "x",
         "y": {
          "bdata": "1wA=",
          "dtype": "i2"
         },
         "yaxis": "y"
        },
        {
         "hovertemplate": "<b>%{hovertext}</b><br><br>Region=Italy<br>Confirmed=%{x}<br>Deaths=%{y}<br>Recovered=%{marker.size}<extra></extra>",
         "hovertext": [
          "Italy"
         ],
         "legendgroup": "Italy",
         "marker": {
          "color": "#636efa",
          "size": {
           "bdata": "VBYBAA==",
           "dtype": "i4"
          },
          "sizemode": "area",
          "sizeref": 332.3225,
          "symbol": "circle"
         },
         "mode": "markers",
         "name": "Italy",
         "orientation": "v",
         "showlegend": true,
         "type": "scatter",
         "x": {
          "bdata": "RxsDAA==",
          "dtype": "i4"
         },
         "xaxis": "x",
         "y": {
          "bdata": "Imw=",
          "dtype": "i2"
         },
         "yaxis": "y"
        },
        {
         "hovertemplate": "<b>%{hovertext}</b><br><br>Region=Ivory Coast<br>Confirmed=%{x}<br>Deaths=%{y}<br>Recovered=%{marker.size}<extra></extra>",
         "hovertext": [
          "Ivory Coast"
         ],
         "legendgroup": "Ivory Coast",
         "marker": {
          "color": "#EF553B",
          "size": {
           "bdata": "LQI=",
           "dtype": "i2"
          },
          "sizemode": "area",
          "sizeref": 332.3225,
          "symbol": "circle"
         },
         "mode": "markers",
         "name": "Ivory Coast",
         "orientation": "v",
         "showlegend": true,
         "type": "scatter",
         "x": {
          "bdata": "1gQ=",
          "dtype": "i2"
         },
         "xaxis": "x",
         "y": {
          "bdata": "Dg==",
          "dtype": "i1"
         },
         "yaxis": "y"
        },
        {
         "hovertemplate": "<b>%{hovertext}</b><br><br>Region=Jamaica<br>Confirmed=%{x}<br>Deaths=%{y}<br>Recovered=%{marker.size}<extra></extra>",
         "hovertext": [
          "Jamaica"
         ],
         "legendgroup": "Jamaica",
         "marker": {
          "color": "#00cc96",
          "size": {
           "bdata": "HQ==",
           "dtype": "i1"
          },
          "sizemode": "area",
          "sizeref": 332.3225,
          "symbol": "circle"
         },
         "mode": "markers",
         "name": "Jamaica",
         "orientation": "v",
         "showlegend": true,
         "type": "scatter",
         "x": {
          "bdata": "jAE=",
          "dtype": "i2"
         },
         "xaxis": "x",
         "y": {
          "bdata": "Bw==",
          "dtype": "i1"
         },
         "yaxis": "y"
        },
        {
         "hovertemplate": "<b>%{hovertext}</b><br><br>Region=Japan<br>Confirmed=%{x}<br>Deaths=%{y}<br>Recovered=%{marker.size}<extra></extra>",
         "hovertext": [
          "Japan"
         ],
         "legendgroup": "Japan",
         "marker": {
          "color": "#ab63fa",
          "size": {
           "bdata": "QAk=",
           "dtype": "i2"
          },
          "sizemode": "area",
          "sizeref": 332.3225,
          "symbol": "circle"
         },
         "mode": "markers",
         "name": "Japan",
         "orientation": "v",
         "showlegend": true,
         "type": "scatter",
         "x": {
          "bdata": "RzY=",
          "dtype": "i2"
         },
         "xaxis": "x",
         "y": {
          "bdata": "nQE=",
          "dtype": "i2"
         },
         "yaxis": "y"
        },
        {
         "hovertemplate": "<b>%{hovertext}</b><br><br>Region=Jordan<br>Confirmed=%{x}<br>Deaths=%{y}<br>Recovered=%{marker.size}<extra></extra>",
         "hovertext": [
          "Jordan"
         ],
         "legendgroup": "Jordan",
         "marker": {
          "color": "#FFA15A",
          "size": {
           "bdata": "ZAE=",
           "dtype": "i2"
          },
          "sizemode": "area",
          "sizeref": 332.3225,
          "symbol": "circle"
         },
         "mode": "markers",
         "name": "Jordan",
         "orientation": "v",
         "showlegend": true,
         "type": "scatter",
         "x": {
          "bdata": "wwE=",
          "dtype": "i2"
         },
         "xaxis": "x",
         "y": {
          "bdata": "CA==",
          "dtype": "i1"
         },
         "yaxis": "y"
        },
        {
         "hovertemplate": "<b>%{hovertext}</b><br><br>Region=Kazakhstan<br>Confirmed=%{x}<br>Deaths=%{y}<br>Recovered=%{marker.size}<extra></extra>",
         "hovertext": [
          "Kazakhstan"
         ],
         "legendgroup": "Kazakhstan",
         "marker": {
          "color": "#19d3f3",
          "size": {
           "bdata": "MwM=",
           "dtype": "i2"
          },
          "sizemode": "area",
          "sizeref": 332.3225,
          "symbol": "circle"
         },
         "mode": "markers",
         "name": "Kazakhstan",
         "orientation": "v",
         "showlegend": true,
         "type": "scatter",
         "x": {
          "bdata": "Qgw=",
          "dtype": "i2"
         },
         "xaxis": "x",
         "y": {
          "bdata": "GQ==",
          "dtype": "i1"
         },
         "yaxis": "y"
        },
        {
         "hovertemplate": "<b>%{hovertext}</b><br><br>Region=Kenya<br>Confirmed=%{x}<br>Deaths=%{y}<br>Recovered=%{marker.size}<extra></extra>",
         "hovertext": [
          "Kenya"
         ],
         "legendgroup": "Kenya",
         "marker": {
          "color": "#FF6692",
          "size": {
           "bdata": "gQA=",
           "dtype": "i2"
          },
          "sizemode": "area",
          "sizeref": 332.3225,
          "symbol": "circle"
         },
         "mode": "markers",
         "name": "Kenya",
         "orientation": "v",
         "showlegend": true,
         "type": "scatter",
         "x": {
          "bdata": "gAE=",
          "dtype": "i2"
         },
         "xaxis": "x",
         "y": {
          "bdata": "Dw==",
          "dtype": "i1"
         },
         "yaxis": "y"
        },
        {
         "hovertemplate": "<b>%{hovertext}</b><br><br>Region=Kosovo<br>Confirmed=%{x}<br>Deaths=%{y}<br>Recovered=%{marker.size}<extra></extra>",
         "hovertext": [
          "Kosovo"
         ],
         "legendgroup": "Kosovo",
         "marker": {
          "color": "#B6E880",
          "size": {
           "bdata": "XQ==",
           "dtype": "i1"
          },
          "sizemode": "area",
          "sizeref": 332.3225,
          "symbol": "circle"
         },
         "mode": "markers",
         "name": "Kosovo",
         "orientation": "v",
         "showlegend": true,
         "type": "scatter",
         "x": {
          "bdata": "/gE=",
          "dtype": "i2"
         },
         "xaxis": "x",
         "y": {
          "bdata": "DA==",
          "dtype": "i1"
         },
         "yaxis": "y"
        },
        {
         "hovertemplate": "<b>%{hovertext}</b><br><br>Region=Kuwait<br>Confirmed=%{x}<br>Deaths=%{y}<br>Recovered=%{marker.size}<extra></extra>",
         "hovertext": [
          "Kuwait"
         ],
         "legendgroup": "Kuwait",
         "marker": {
          "color": "#FF97FF",
          "size": {
           "bdata": "bQU=",
           "dtype": "i2"
          },
          "sizemode": "area",
          "sizeref": 332.3225,
          "symbol": "circle"
         },
         "mode": "markers",
         "name": "Kuwait",
         "orientation": "v",
         "showlegend": true,
         "type": "scatter",
         "x": {
          "bdata": "nA4=",
          "dtype": "i2"
         },
         "xaxis": "x",
         "y": {
          "bdata": "GA==",
          "dtype": "i1"
         },
         "yaxis": "y"
        },
        {
         "hovertemplate": "<b>%{hovertext}</b><br><br>Region=Kyrgyzstan<br>Confirmed=%{x}<br>Deaths=%{y}<br>Recovered=%{marker.size}<extra></extra>",
         "hovertext": [
          "Kyrgyzstan"
         ],
         "legendgroup": "Kyrgyzstan",
         "marker": {
          "color": "#FECB52",
          "size": {
           "bdata": "tQE=",
           "dtype": "i2"
          },
          "sizemode": "area",
          "sizeref": 332.3225,
          "symbol": "circle"
         },
         "mode": "markers",
         "name": "Kyrgyzstan",
         "orientation": "v",
         "showlegend": true,
         "type": "scatter",
         "x": {
          "bdata": "2QI=",
          "dtype": "i2"
         },
         "xaxis": "x",
         "y": {
          "bdata": "CA==",
          "dtype": "i1"
         },
         "yaxis": "y"
        },
        {
         "hovertemplate": "<b>%{hovertext}</b><br><br>Region=Laos<br>Confirmed=%{x}<br>Deaths=%{y}<br>Recovered=%{marker.size}<extra></extra>",
         "hovertext": [
          "Laos"
         ],
         "legendgroup": "Laos",
         "marker": {
          "color": "#636efa",
          "size": {
           "bdata": "Bw==",
           "dtype": "i1"
          },
          "sizemode": "area",
          "sizeref": 332.3225,
          "symbol": "circle"
         },
         "mode": "markers",
         "name": "Laos",
         "orientation": "v",
         "showlegend": true,
         "type": "scatter",
         "x": {
          "bdata": "Ew==",
          "dtype": "i1"
         },
         "xaxis": "x",
         "y": {
          "bdata": "AA==",
          "dtype": "i1"
         },
         "yaxis": "y"
        },
        {
         "hovertemplate": "<b>%{hovertext}</b><br><br>Region=Latvia<br>Confirmed=%{x}<br>Deaths=%{y}<br>Recovered=%{marker.size}<extra></extra>",
         "hovertext": [
          "Latvia"
         ],
         "legendgroup": "Latvia",
         "marker": {
          "color": "#EF553B",
          "size": {
           "bdata": "XAE=",
           "dtype": "i2"
          },
          "sizemode": "area",
          "sizeref": 332.3225,
          "symbol": "circle"
         },
         "mode": "markers",
         "name": "Latvia",
         "orientation": "v",
         "showlegend": true,
         "type": "scatter",
         "x": {
          "bdata": "UQM=",
          "dtype": "i2"
         },
         "xaxis": "x",
         "y": {
          "bdata": "Dw==",
          "dtype": "i1"
         },
         "yaxis": "y"
        },
        {
         "hovertemplate": "<b>%{hovertext}</b><br><br>Region=Lebanon<br>Confirmed=%{x}<br>Deaths=%{y}<br>Recovered=%{marker.size}<extra></extra>",
         "hovertext": [
          "Lebanon"
         ],
         "legendgroup": "Lebanon",
         "marker": {
          "color": "#00cc96",
          "size": {
           "bdata": "lgA=",
           "dtype": "i2"
          },
          "sizemode": "area",
          "sizeref": 332.3225,
          "symbol": "circle"
         },
         "mode": "markers",
         "name": "Lebanon",
         "orientation": "v",
         "showlegend": true,
         "type": "scatter",
         "x": {
          "bdata": "0QI=",
          "dtype": "i2"
         },
         "xaxis": "x",
         "y": {
          "bdata": "GA==",
          "dtype": "i1"
         },
         "yaxis": "y"
        },
        {
         "hovertemplate": "<b>%{hovertext}</b><br><br>Region=Liberia<br>Confirmed=%{x}<br>Deaths=%{y}<br>Recovered=%{marker.size}<extra></extra>",
         "hovertext": [
          "Liberia"
         ],
         "legendgroup": "Liberia",
         "marker": {
          "color": "#ab63fa",
          "size": {
           "bdata": "LQ==",
           "dtype": "i1"
          },
          "sizemode": "area",
          "sizeref": 332.3225,
          "symbol": "circle"
         },
         "mode": "markers",
         "name": "Liberia",
         "orientation": "v",
         "showlegend": true,
         "type": "scatter",
         "x": {
          "bdata": "jQA=",
          "dtype": "i2"
         },
         "xaxis": "x",
         "y": {
          "bdata": "EA==",
          "dtype": "i1"
         },
         "yaxis": "y"
        },
        {
         "hovertemplate": "<b>%{hovertext}</b><br><br>Region=Libya<br>Confirmed=%{x}<br>Deaths=%{y}<br>Recovered=%{marker.size}<extra></extra>",
         "hovertext": [
          "Libya"
         ],
         "legendgroup": "Libya",
         "marker": {
          "color": "#FFA15A",
          "size": {
           "bdata": "Eg==",
           "dtype": "i1"
          },
          "sizemode": "area",
          "sizeref": 332.3225,
          "symbol": "circle"
         },
         "mode": "markers",
         "name": "Libya",
         "orientation": "v",
         "showlegend": true,
         "type": "scatter",
         "x": {
          "bdata": "PQ==",
          "dtype": "i1"
         },
         "xaxis": "x",
         "y": {
          "bdata": "Ag==",
          "dtype": "i1"
         },
         "yaxis": "y"
        },
        {
         "hovertemplate": "<b>%{hovertext}</b><br><br>Region=Liechtenstein<br>Confirmed=%{x}<br>Deaths=%{y}<br>Recovered=%{marker.size}<extra></extra>",
         "hovertext": [
          "Liechtenstein"
         ],
         "legendgroup": "Liechtenstein",
         "marker": {
          "color": "#19d3f3",
          "size": {
           "bdata": "Nw==",
           "dtype": "i1"
          },
          "sizemode": "area",
          "sizeref": 332.3225,
          "symbol": "circle"
         },
         "mode": "markers",
         "name": "Liechtenstein",
         "orientation": "v",
         "showlegend": true,
         "type": "scatter",
         "x": {
          "bdata": "Ug==",
          "dtype": "i1"
         },
         "xaxis": "x",
         "y": {
          "bdata": "AQ==",
          "dtype": "i1"
         },
         "yaxis": "y"
        },
        {
         "hovertemplate": "<b>%{hovertext}</b><br><br>Region=Lithuania<br>Confirmed=%{x}<br>Deaths=%{y}<br>Recovered=%{marker.size}<extra></extra>",
         "hovertext": [
          "Lithuania"
         ],
         "legendgroup": "Lithuania",
         "marker": {
          "color": "#FF6692",
          "size": {
           "bdata": "MwI=",
           "dtype": "i2"
          },
          "sizemode": "area",
          "sizeref": 332.3225,
          "symbol": "circle"
         },
         "mode": "markers",
         "name": "Lithuania",
         "orientation": "v",
         "showlegend": true,
         "type": "scatter",
         "x": {
          "bdata": "XwU=",
          "dtype": "i2"
         },
         "xaxis": "x",
         "y": {
          "bdata": "LQ==",
          "dtype": "i1"
         },
         "yaxis": "y"
        },
        {
         "hovertemplate": "<b>%{hovertext}</b><br><br>Region=Luxembourg<br>Confirmed=%{x}<br>Deaths=%{y}<br>Recovered=%{marker.size}<extra></extra>",
         "hovertext": [
          "Luxembourg"
         ],
         "legendgroup": "Luxembourg",
         "marker": {
          "color": "#B6E880",
          "size": {
           "bdata": "Pgw=",
           "dtype": "i2"
          },
          "sizemode": "area",
          "sizeref": 332.3225,
          "symbol": "circle"
         },
         "mode": "markers",
         "name": "Luxembourg",
         "orientation": "v",
         "showlegend": true,
         "type": "scatter",
         "x": {
          "bdata": "uQ4=",
          "dtype": "i2"
         },
         "xaxis": "x",
         "y": {
          "bdata": "WQ==",
          "dtype": "i1"
         },
         "yaxis": "y"
        },
        {
         "hovertemplate": "<b>%{hovertext}</b><br><br>Region=MS Zaandam<br>Confirmed=%{x}<br>Deaths=%{y}<br>Recovered=%{marker.size}<extra></extra>",
         "hovertext": [
          "MS Zaandam"
         ],
         "legendgroup": "MS Zaandam",
         "marker": {
          "color": "#FF97FF",
          "size": {
           "bdata": "AA==",
           "dtype": "i1"
          },
          "sizemode": "area",
          "sizeref": 332.3225,
          "symbol": "circle"
         },
         "mode": "markers",
         "name": "MS Zaandam",
         "orientation": "v",
         "showlegend": true,
         "type": "scatter",
         "x": {
          "bdata": "CQ==",
          "dtype": "i1"
         },
         "xaxis": "x",
         "y": {
          "bdata": "Ag==",
          "dtype": "i1"
         },
         "yaxis": "y"
        },
        {
         "hovertemplate": "<b>%{hovertext}</b><br><br>Region=Madagascar<br>Confirmed=%{x}<br>Deaths=%{y}<br>Recovered=%{marker.size}<extra></extra>",
         "hovertext": [
          "Madagascar"
         ],
         "legendgroup": "Madagascar",
         "marker": {
          "color": "#FECB52",
          "size": {
           "bdata": "Wg==",
           "dtype": "i1"
          },
          "sizemode": "area",
          "sizeref": 332.3225,
          "symbol": "circle"
         },
         "mode": "markers",
         "name": "Madagascar",
         "orientation": "v",
         "showlegend": true,
         "type": "scatter",
         "x": {
          "bdata": "gAA=",
          "dtype": "i2"
         },
         "xaxis": "x",
         "y": {
          "bdata": "AA==",
          "dtype": "i1"
         },
         "yaxis": "y"
        },
        {
         "hovertemplate": "<b>%{hovertext}</b><br><br>Region=Malawi<br>Confirmed=%{x}<br>Deaths=%{y}<br>Recovered=%{marker.size}<extra></extra>",
         "hovertext": [
          "Malawi"
         ],
         "legendgroup": "Malawi",
         "marker": {
          "color": "#636efa",
          "size": {
           "bdata": "Bw==",
           "dtype": "i1"
          },
          "sizemode": "area",
          "sizeref": 332.3225,
          "symbol": "circle"
         },
         "mode": "markers",
         "name": "Malawi",
         "orientation": "v",
         "showlegend": true,
         "type": "scatter",
         "x": {
          "bdata": "JA==",
          "dtype": "i1"
         },
         "xaxis": "x",
         "y": {
          "bdata": "Aw==",
          "dtype": "i1"
         },
         "yaxis": "y"
        },
        {
         "hovertemplate": "<b>%{hovertext}</b><br><br>Region=Malaysia<br>Confirmed=%{x}<br>Deaths=%{y}<br>Recovered=%{marker.size}<extra></extra>",
         "hovertext": [
          "Malaysia"
         ],
         "legendgroup": "Malaysia",
         "marker": {
          "color": "#EF553B",
          "size": {
           "bdata": "9w8=",
           "dtype": "i2"
          },
          "sizemode": "area",
          "sizeref": 332.3225,
          "symbol": "circle"
         },
         "mode": "markers",
         "name": "Malaysia",
         "orientation": "v",
         "showlegend": true,
         "type": "scatter",
         "x": {
          "bdata": "ORc=",
          "dtype": "i2"
         },
         "xaxis": "x",
         "y": {
          "bdata": "ZA==",
          "dtype": "i1"
         },
         "yaxis": "y"
        },
        {
         "hovertemplate": "<b>%{hovertext}</b><br><br>Region=Maldives<br>Confirmed=%{x}<br>Deaths=%{y}<br>Recovered=%{marker.size}<extra></extra>",
         "hovertext": [
          "Maldives"
         ],
         "legendgroup": "Maldives",
         "marker": {
          "color": "#00cc96",
          "size": {
           "bdata": "EQ==",
           "dtype": "i1"
          },
          "sizemode": "area",
          "sizeref": 332.3225,
          "symbol": "circle"
         },
         "mode": "markers",
         "name": "Maldives",
         "orientation": "v",
         "showlegend": true,
         "type": "scatter",
         "x": {
          "bdata": "FgE=",
          "dtype": "i2"
         },
         "xaxis": "x",
         "y": {
          "bdata": "AQ==",
          "dtype": "i1"
         },
         "yaxis": "y"
        },
        {
         "hovertemplate": "<b>%{hovertext}</b><br><br>Region=Mali<br>Confirmed=%{x}<br>Deaths=%{y}<br>Recovered=%{marker.size}<extra></extra>",
         "hovertext": [
          "Mali"
         ],
         "legendgroup": "Mali",
         "marker": {
          "color": "#ab63fa",
          "size": {
           "bdata": "gQA=",
           "dtype": "i2"
          },
          "sizemode": "area",
          "sizeref": 332.3225,
          "symbol": "circle"
         },
         "mode": "markers",
         "name": "Mali",
         "orientation": "v",
         "showlegend": true,
         "type": "scatter",
         "x": {
          "bdata": "4gE=",
          "dtype": "i2"
         },
         "xaxis": "x",
         "y": {
          "bdata": "GQ==",
          "dtype": "i1"
         },
         "yaxis": "y"
        },
        {
         "hovertemplate": "<b>%{hovertext}</b><br><br>Region=Malta<br>Confirmed=%{x}<br>Deaths=%{y}<br>Recovered=%{marker.size}<extra></extra>",
         "hovertext": [
          "Malta"
         ],
         "legendgroup": "Malta",
         "marker": {
          "color": "#FFA15A",
          "size": {
           "bdata": "UwE=",
           "dtype": "i2"
          },
          "sizemode": "area",
          "sizeref": 332.3225,
          "symbol": "circle"
         },
         "mode": "markers",
         "name": "Malta",
         "orientation": "v",
         "showlegend": true,
         "type": "scatter",
         "x": {
          "bdata": "zwE=",
          "dtype": "i2"
         },
         "xaxis": "x",
         "y": {
          "bdata": "BA==",
          "dtype": "i1"
         },
         "yaxis": "y"
        },
        {
         "hovertemplate": "<b>%{hovertext}</b><br><br>Region=Mauritania<br>Confirmed=%{x}<br>Deaths=%{y}<br>Recovered=%{marker.size}<extra></extra>",
         "hovertext": [
          "Mauritania"
         ],
         "legendgroup": "Mauritania",
         "marker": {
          "color": "#19d3f3",
          "size": {
           "bdata": "Bg==",
           "dtype": "i1"
          },
          "sizemode": "area",
          "sizeref": 332.3225,
          "symbol": "circle"
         },
         "mode": "markers",
         "name": "Mauritania",
         "orientation": "v",
         "showlegend": true,
         "type": "scatter",
         "x": {
          "bdata": "CA==",
          "dtype": "i1"
         },
         "xaxis": "x",
         "y": {
          "bdata": "AQ==",
          "dtype": "i1"
         },
         "yaxis": "y"
        },
        {
         "hovertemplate": "<b>%{hovertext}</b><br><br>Region=Mauritius<br>Confirmed=%{x}<br>Deaths=%{y}<br>Recovered=%{marker.size}<extra></extra>",
         "hovertext": [
          "Mauritius"
         ],
         "legendgroup": "Mauritius",
         "marker": {
          "color": "#FF6692",
          "size": {
           "bdata": "MgE=",
           "dtype": "i2"
          },
          "sizemode": "area",
          "sizeref": 332.3225,
          "symbol": "circle"
         },
         "mode": "markers",
         "name": "Mauritius",
         "orientation": "v",
         "showlegend": true,
         "type": "scatter",
         "x": {
          "bdata": "TAE=",
          "dtype": "i2"
         },
         "xaxis": "x",
         "y": {
          "bdata": "Cg==",
          "dtype": "i1"
         },
         "yaxis": "y"
        },
        {
         "hovertemplate": "<b>%{hovertext}</b><br><br>Region=Mexico<br>Confirmed=%{x}<br>Deaths=%{y}<br>Recovered=%{marker.size}<extra></extra>",
         "hovertext": [
          "Mexico"
         ],
         "legendgroup": "Mexico",
         "marker": {
          "color": "#B6E880",
          "size": {
           "bdata": "nyw=",
           "dtype": "i2"
          },
          "sizemode": "area",
          "sizeref": 332.3225,
          "symbol": "circle"
         },
         "mode": "markers",
         "name": "Mexico",
         "orientation": "v",
         "showlegend": true,
         "type": "scatter",
         "x": {
          "bdata": "h0U=",
          "dtype": "i2"
         },
         "xaxis": "x",
         "y": {
          "bdata": "xAY=",
          "dtype": "i2"
         },
         "yaxis": "y"
        },
        {
         "hovertemplate": "<b>%{hovertext}</b><br><br>Region=Moldova<br>Confirmed=%{x}<br>Deaths=%{y}<br>Recovered=%{marker.size}<extra></extra>",
         "hovertext": [
          "Moldova"
         ],
         "legendgroup": "Moldova",
         "marker": {
          "color": "#FF97FF",
          "size": {
           "bdata": "WgQ=",
           "dtype": "i2"
          },
          "sizemode": "area",
          "sizeref": 332.3225,
          "symbol": "circle"
         },
         "mode": "markers",
         "name": "Moldova",
         "orientation": "v",
         "showlegend": true,
         "type": "scatter",
         "x": {
          "bdata": "uw4=",
          "dtype": "i2"
         },
         "xaxis": "x",
         "y": {
          "bdata": "bw==",
          "dtype": "i1"
         },
         "yaxis": "y"
        },
        {
         "hovertemplate": "<b>%{hovertext}</b><br><br>Region=Monaco<br>Confirmed=%{x}<br>Deaths=%{y}<br>Recovered=%{marker.size}<extra></extra>",
         "hovertext": [
          "Monaco"
         ],
         "legendgroup": "Monaco",
         "marker": {
          "color": "#FECB52",
          "size": {
           "bdata": "Og==",
           "dtype": "i1"
          },
          "sizemode": "area",
          "sizeref": 332.3225,
          "symbol": "circle"
         },
         "mode": "markers",
         "name": "Monaco",
         "orientation": "v",
         "showlegend": true,
         "type": "scatter",
         "x": {
          "bdata": "Xw==",
          "dtype": "i1"
         },
         "xaxis": "x",
         "y": {
          "bdata": "BA==",
          "dtype": "i1"
         },
         "yaxis": "y"
        },
        {
         "hovertemplate": "<b>%{hovertext}</b><br><br>Region=Mongolia<br>Confirmed=%{x}<br>Deaths=%{y}<br>Recovered=%{marker.size}<extra></extra>",
         "hovertext": [
          "Mongolia"
         ],
         "legendgroup": "Mongolia",
         "marker": {
          "color": "#636efa",
          "size": {
           "bdata": "Cg==",
           "dtype": "i1"
          },
          "sizemode": "area",
          "sizeref": 332.3225,
          "symbol": "circle"
         },
         "mode": "markers",
         "name": "Mongolia",
         "orientation": "v",
         "showlegend": true,
         "type": "scatter",
         "x": {
          "bdata": "Jg==",
          "dtype": "i1"
         },
         "xaxis": "x",
         "y": {
          "bdata": "AA==",
          "dtype": "i1"
         },
         "yaxis": "y"
        },
        {
         "hovertemplate": "<b>%{hovertext}</b><br><br>Region=Montenegro<br>Confirmed=%{x}<br>Deaths=%{y}<br>Recovered=%{marker.size}<extra></extra>",
         "hovertext": [
          "Montenegro"
         ],
         "legendgroup": "Montenegro",
         "marker": {
          "color": "#EF553B",
          "size": {
           "bdata": "ywA=",
           "dtype": "i2"
          },
          "sizemode": "area",
          "sizeref": 332.3225,
          "symbol": "circle"
         },
         "mode": "markers",
         "name": "Montenegro",
         "orientation": "v",
         "showlegend": true,
         "type": "scatter",
         "x": {
          "bdata": "QgE=",
          "dtype": "i2"
         },
         "xaxis": "x",
         "y": {
          "bdata": "Bw==",
          "dtype": "i1"
         },
         "yaxis": "y"
        },
        {
         "hovertemplate": "<b>%{hovertext}</b><br><br>Region=Morocco<br>Confirmed=%{x}<br>Deaths=%{y}<br>Recovered=%{marker.size}<extra></extra>",
         "hovertext": [
          "Morocco"
         ],
         "legendgroup": "Morocco",
         "marker": {
          "color": "#00cc96",
          "size": {
           "bdata": "oAM=",
           "dtype": "i2"
          },
          "sizemode": "area",
          "sizeref": 332.3225,
          "symbol": "circle"
         },
         "mode": "markers",
         "name": "Morocco",
         "orientation": "v",
         "showlegend": true,
         "type": "scatter",
         "x": {
          "bdata": "4RA=",
          "dtype": "i2"
         },
         "xaxis": "x",
         "y": {
          "bdata": "qAA=",
          "dtype": "i2"
         },
         "yaxis": "y"
        },
        {
         "hovertemplate": "<b>%{hovertext}</b><br><br>Region=Mozambique<br>Confirmed=%{x}<br>Deaths=%{y}<br>Recovered=%{marker.size}<extra></extra>",
         "hovertext": [
          "Mozambique"
         ],
         "legendgroup": "Mozambique",
         "marker": {
          "color": "#ab63fa",
          "size": {
           "bdata": "DA==",
           "dtype": "i1"
          },
          "sizemode": "area",
          "sizeref": 332.3225,
          "symbol": "circle"
         },
         "mode": "markers",
         "name": "Mozambique",
         "orientation": "v",
         "showlegend": true,
         "type": "scatter",
         "x": {
          "bdata": "TA==",
          "dtype": "i1"
         },
         "xaxis": "x",
         "y": {
          "bdata": "AA==",
          "dtype": "i1"
         },
         "yaxis": "y"
        },
        {
         "hovertemplate": "<b>%{hovertext}</b><br><br>Region=Namibia<br>Confirmed=%{x}<br>Deaths=%{y}<br>Recovered=%{marker.size}<extra></extra>",
         "hovertext": [
          "Namibia"
         ],
         "legendgroup": "Namibia",
         "marker": {
          "color": "#FFA15A",
          "size": {
           "bdata": "CA==",
           "dtype": "i1"
          },
          "sizemode": "area",
          "sizeref": 332.3225,
          "symbol": "circle"
         },
         "mode": "markers",
         "name": "Namibia",
         "orientation": "v",
         "showlegend": true,
         "type": "scatter",
         "x": {
          "bdata": "EA==",
          "dtype": "i1"
         },
         "xaxis": "x",
         "y": {
          "bdata": "AA==",
          "dtype": "i1"
         },
         "yaxis": "y"
        },
        {
         "hovertemplate": "<b>%{hovertext}</b><br><br>Region=Nepal<br>Confirmed=%{x}<br>Deaths=%{y}<br>Recovered=%{marker.size}<extra></extra>",
         "hovertext": [
          "Nepal"
         ],
         "legendgroup": "Nepal",
         "marker": {
          "color": "#19d3f3",
          "size": {
           "bdata": "EA==",
           "dtype": "i1"
          },
          "sizemode": "area",
          "sizeref": 332.3225,
          "symbol": "circle"
         },
         "mode": "markers",
         "name": "Nepal",
         "orientation": "v",
         "showlegend": true,
         "type": "scatter",
         "x": {
          "bdata": "OQ==",
          "dtype": "i1"
         },
         "xaxis": "x",
         "y": {
          "bdata": "AA==",
          "dtype": "i1"
         },
         "yaxis": "y"
        },
        {
         "hovertemplate": "<b>%{hovertext}</b><br><br>Region=Netherlands<br>Confirmed=%{x}<br>Deaths=%{y}<br>Recovered=%{marker.size}<extra></extra>",
         "hovertext": [
          "Netherlands",
          "Netherlands",
          "Netherlands",
          "Netherlands",
          "Netherlands"
         ],
         "legendgroup": "Netherlands",
         "marker": {
          "color": "#FF6692",
          "size": {
           "bdata": "AEkADSE=",
           "dtype": "i1"
          },
          "sizemode": "area",
          "sizeref": 332.3225,
          "symbol": "circle"
         },
         "mode": "markers",
         "name": "Netherlands",
         "orientation": "v",
         "showlegend": true,
         "type": "scatter",
         "x": {
          "bdata": "kpcAAGQAAAAFAAAAEAAAAEsAAAA=",
          "dtype": "i4"
         },
         "xaxis": "x",
         "y": {
          "bdata": "ZxICAAAAAQANAA==",
          "dtype": "i2"
         },
         "yaxis": "y"
        },
        {
         "hovertemplate": "<b>%{hovertext}</b><br><br>Region=New Zealand<br>Confirmed=%{x}<br>Deaths=%{y}<br>Recovered=%{marker.size}<extra></extra>",
         "hovertext": [
          "New Zealand"
         ],
         "legendgroup": "New Zealand",
         "marker": {
          "color": "#B6E880",
          "size": {
           "bdata": "2QQ=",
           "dtype": "i2"
          },
          "sizemode": "area",
          "sizeref": 332.3225,
          "symbol": "circle"
         },
         "mode": "markers",
         "name": "New Zealand",
         "orientation": "v",
         "showlegend": true,
         "type": "scatter",
         "x": {
          "bdata": "xAU=",
          "dtype": "i2"
         },
         "xaxis": "x",
         "y": {
          "bdata": "Ew==",
          "dtype": "i1"
         },
         "yaxis": "y"
        },
        {
         "hovertemplate": "<b>%{hovertext}</b><br><br>Region=Nicaragua<br>Confirmed=%{x}<br>Deaths=%{y}<br>Recovered=%{marker.size}<extra></extra>",
         "hovertext": [
          "Nicaragua"
         ],
         "legendgroup": "Nicaragua",
         "marker": {
          "color": "#FF97FF",
          "size": {
           "bdata": "Bw==",
           "dtype": "i1"
          },
          "sizemode": "area",
          "sizeref": 332.3225,
          "symbol": "circle"
         },
         "mode": "markers",
         "name": "Nicaragua",
         "orientation": "v",
         "showlegend": true,
         "type": "scatter",
         "x": {
          "bdata": "DQ==",
          "dtype": "i1"
         },
         "xaxis": "x",
         "y": {
          "bdata": "Aw==",
          "dtype": "i1"
         },
         "yaxis": "y"
        },
        {
         "hovertemplate": "<b>%{hovertext}</b><br><br>Region=Niger<br>Confirmed=%{x}<br>Deaths=%{y}<br>Recovered=%{marker.size}<extra></extra>",
         "hovertext": [
          "Niger"
         ],
         "legendgroup": "Niger",
         "marker": {
          "color": "#FECB52",
          "size": {
           "bdata": "swE=",
           "dtype": "i2"
          },
          "sizemode": "area",
          "sizeref": 332.3225,
          "symbol": "circle"
         },
         "mode": "markers",
         "name": "Niger",
         "orientation": "v",
         "showlegend": true,
         "type": "scatter",
         "x": {
          "bdata": "yQI=",
          "dtype": "i2"
         },
         "xaxis": "x",
         "y": {
          "bdata": "IA==",
          "dtype": "i1"
         },
         "yaxis": "y"
        },
        {
         "hovertemplate": "<b>%{hovertext}</b><br><br>Region=Nigeria<br>Confirmed=%{x}<br>Deaths=%{y}<br>Recovered=%{marker.size}<extra></extra>",
         "hovertext": [
          "Nigeria"
         ],
         "legendgroup": "Nigeria",
         "marker": {
          "color": "#636efa",
          "size": {
           "bdata": "MwE=",
           "dtype": "i2"
          },
          "sizemode": "area",
          "sizeref": 332.3225,
          "symbol": "circle"
         },
         "mode": "markers",
         "name": "Nigeria",
         "orientation": "v",
         "showlegend": true,
         "type": "scatter",
         "x": {
          "bdata": "wAY=",
          "dtype": "i2"
         },
         "xaxis": "x",
         "y": {
          "bdata": "Mw==",
          "dtype": "i1"
         },
         "yaxis": "y"
        },
        {
         "hovertemplate": "<b>%{hovertext}</b><br><br>Region=North Macedonia<br>Confirmed=%{x}<br>Deaths=%{y}<br>Recovered=%{marker.size}<extra></extra>",
         "hovertext": [
          "North Macedonia"
         ],
         "legendgroup": "North Macedonia",
         "marker": {
          "color": "#EF553B",
          "size": {
           "bdata": "cwI=",
           "dtype": "i2"
          },
          "sizemode": "area",
          "sizeref": 332.3225,
          "symbol": "circle"
         },
         "mode": "markers",
         "name": "North Macedonia",
         "orientation": "v",
         "showlegend": true,
         "type": "scatter",
         "x": {
          "bdata": "ogU=",
          "dtype": "i2"
         },
         "xaxis": "x",
         "y": {
          "bdata": "SQ==",
          "dtype": "i1"
         },
         "yaxis": "y"
        },
        {
         "hovertemplate": "<b>%{hovertext}</b><br><br>Region=Norway<br>Confirmed=%{x}<br>Deaths=%{y}<br>Recovered=%{marker.size}<extra></extra>",
         "hovertext": [
          "Norway"
         ],
         "legendgroup": "Norway",
         "marker": {
          "color": "#00cc96",
          "size": {
           "bdata": "IA==",
           "dtype": "i1"
          },
          "sizemode": "area",
          "sizeref": 332.3225,
          "symbol": "circle"
         },
         "mode": "markers",
         "name": "Norway",
         "orientation": "v",
         "showlegend": true,
         "type": "scatter",
         "x": {
          "bdata": "Hh4=",
          "dtype": "i2"
         },
         "xaxis": "x",
         "y": {
          "bdata": "zwA=",
          "dtype": "i2"
         },
         "yaxis": "y"
        },
        {
         "hovertemplate": "<b>%{hovertext}</b><br><br>Region=Oman<br>Confirmed=%{x}<br>Deaths=%{y}<br>Recovered=%{marker.size}<extra></extra>",
         "hovertext": [
          "Oman"
         ],
         "legendgroup": "Oman",
         "marker": {
          "color": "#ab63fa",
          "size": {
           "bdata": "bAE=",
           "dtype": "i2"
          },
          "sizemode": "area",
          "sizeref": 332.3225,
          "symbol": "circle"
         },
         "mode": "markers",
         "name": "Oman",
         "orientation": "v",
         "showlegend": true,
         "type": "scatter",
         "x": {
          "bdata": "4gg=",
          "dtype": "i2"
         },
         "xaxis": "x",
         "y": {
          "bdata": "Cg==",
          "dtype": "i1"
         },
         "yaxis": "y"
        },
        {
         "hovertemplate": "<b>%{hovertext}</b><br><br>Region=Pakistan<br>Confirmed=%{x}<br>Deaths=%{y}<br>Recovered=%{marker.size}<extra></extra>",
         "hovertext": [
          "Pakistan"
         ],
         "legendgroup": "Pakistan",
         "marker": {
          "color": "#FFA15A",
          "size": {
           "bdata": "YQ0=",
           "dtype": "i2"
          },
          "sizemode": "area",
          "sizeref": 332.3225,
          "symbol": "circle"
         },
         "mode": "markers",
         "name": "Pakistan",
         "orientation": "v",
         "showlegend": true,
         "type": "scatter",
         "x": {
          "bdata": "pTw=",
          "dtype": "i2"
         },
         "xaxis": "x",
         "y": {
          "bdata": "VwE=",
          "dtype": "i2"
         },
         "yaxis": "y"
        },
        {
         "hovertemplate": "<b>%{hovertext}</b><br><br>Region=Panama<br>Confirmed=%{x}<br>Deaths=%{y}<br>Recovered=%{marker.size}<extra></extra>",
         "hovertext": [
          "Panama"
         ],
         "legendgroup": "Panama",
         "marker": {
          "color": "#19d3f3",
          "size": {
           "bdata": "DwI=",
           "dtype": "i2"
          },
          "sizemode": "area",
          "sizeref": 332.3225,
          "symbol": "circle"
         },
         "mode": "markers",
         "name": "Panama",
         "orientation": "v",
         "showlegend": true,
         "type": "scatter",
         "x": {
          "bdata": "6hg=",
          "dtype": "i2"
         },
         "xaxis": "x",
         "y": {
          "bdata": "sgA=",
          "dtype": "i2"
         },
         "yaxis": "y"
        },
        {
         "hovertemplate": "<b>%{hovertext}</b><br><br>Region=Papua New Guinea<br>Confirmed=%{x}<br>Deaths=%{y}<br>Recovered=%{marker.size}<extra></extra>",
         "hovertext": [
          "Papua New Guinea"
         ],
         "legendgroup": "Papua New Guinea",
         "marker": {
          "color": "#FF6692",
          "size": {
           "bdata": "AA==",
           "dtype": "i1"
          },
          "sizemode": "area",
          "sizeref": 332.3225,
          "symbol": "circle"
         },
         "mode": "markers",
         "name": "Papua New Guinea",
         "orientation": "v",
         "showlegend": true,
         "type": "scatter",
         "x": {
          "bdata": "CA==",
          "dtype": "i1"
         },
         "xaxis": "x",
         "y": {
          "bdata": "AA==",
          "dtype": "i1"
         },
         "yaxis": "y"
        },
        {
         "hovertemplate": "<b>%{hovertext}</b><br><br>Region=Paraguay<br>Confirmed=%{x}<br>Deaths=%{y}<br>Recovered=%{marker.size}<extra></extra>",
         "hovertext": [
          "Paraguay"
         ],
         "legendgroup": "Paraguay",
         "marker": {
          "color": "#B6E880",
          "size": {
           "bdata": "Zg==",
           "dtype": "i1"
          },
          "sizemode": "area",
          "sizeref": 332.3225,
          "symbol": "circle"
         },
         "mode": "markers",
         "name": "Paraguay",
         "orientation": "v",
         "showlegend": true,
         "type": "scatter",
         "x": {
          "bdata": "7wA=",
          "dtype": "i2"
         },
         "xaxis": "x",
         "y": {
          "bdata": "CQ==",
          "dtype": "i1"
         },
         "yaxis": "y"
        },
        {
         "hovertemplate": "<b>%{hovertext}</b><br><br>Region=Peru<br>Confirmed=%{x}<br>Deaths=%{y}<br>Recovered=%{marker.size}<extra></extra>",
         "hovertext": [
          "Peru"
         ],
         "legendgroup": "Peru",
         "marker": {
          "color": "#FF97FF",
          "size": {
           "bdata": "NSc=",
           "dtype": "i2"
          },
          "sizemode": "area",
          "sizeref": 332.3225,
          "symbol": "circle"
         },
         "mode": "markers",
         "name": "Peru",
         "orientation": "v",
         "showlegend": true,
         "type": "scatter",
         "x": {
          "bdata": "i4QAAA==",
          "dtype": "i4"
         },
         "xaxis": "x",
         "y": {
          "bdata": "rwM=",
          "dtype": "i2"
         },
         "yaxis": "y"
        },
        {
         "hovertemplate": "<b>%{hovertext}</b><br><br>Region=Philippines<br>Confirmed=%{x}<br>Deaths=%{y}<br>Recovered=%{marker.size}<extra></extra>",
         "hovertext": [
          "Philippines"
         ],
         "legendgroup": "Philippines",
         "marker": {
          "color": "#FECB52",
          "size": {
           "bdata": "/wM=",
           "dtype": "i2"
          },
          "sizemode": "area",
          "sizeref": 332.3225,
          "symbol": "circle"
         },
         "mode": "markers",
         "name": "Philippines",
         "orientation": "v",
         "showlegend": true,
         "type": "scatter",
         "x": {
          "bdata": "FCA=",
          "dtype": "i2"
         },
         "xaxis": "x",
         "y": {
          "bdata": "LgI=",
          "dtype": "i2"
         },
         "yaxis": "y"
        },
        {
         "hovertemplate": "<b>%{hovertext}</b><br><br>Region=Poland<br>Confirmed=%{x}<br>Deaths=%{y}<br>Recovered=%{marker.size}<extra></extra>",
         "hovertext": [
          "Poland"
         ],
         "legendgroup": "Poland",
         "marker": {
          "color": "#636efa",
          "size": {
           "bdata": "0Qs=",
           "dtype": "i2"
          },
          "sizemode": "area",
          "sizeref": 332.3225,
          "symbol": "circle"
         },
         "mode": "markers",
         "name": "Poland",
         "orientation": "v",
         "showlegend": true,
         "type": "scatter",
         "x": {
          "bdata": "YDE=",
          "dtype": "i2"
         },
         "xaxis": "x",
         "y": {
          "bdata": "cAI=",
          "dtype": "i2"
         },
         "yaxis": "y"
        },
        {
         "hovertemplate": "<b>%{hovertext}</b><br><br>Region=Portugal<br>Confirmed=%{x}<br>Deaths=%{y}<br>Recovered=%{marker.size}<extra></extra>",
         "hovertext": [
          "Portugal"
         ],
         "legendgroup": "Portugal",
         "marker": {
          "color": "#EF553B",
          "size": {
           "bdata": "vgU=",
           "dtype": "i2"
          },
          "sizemode": "area",
          "sizeref": 332.3225,
          "symbol": "circle"
         },
         "mode": "markers",
         "name": "Portugal",
         "orientation": "v",
         "showlegend": true,
         "type": "scatter",
         "x": {
          "bdata": "uV8=",
          "dtype": "i2"
         },
         "xaxis": "x",
         "y": {
          "bdata": "zQM=",
          "dtype": "i2"
         },
         "yaxis": "y"
        },
        {
         "hovertemplate": "<b>%{hovertext}</b><br><br>Region=Qatar<br>Confirmed=%{x}<br>Deaths=%{y}<br>Recovered=%{marker.size}<extra></extra>",
         "hovertext": [
          "Qatar"
         ],
         "legendgroup": "Qatar",
         "marker": {
          "color": "#00cc96",
          "size": {
           "bdata": "2wQ=",
           "dtype": "i2"
          },
          "sizemode": "area",
          "sizeref": 332.3225,
          "symbol": "circle"
         },
         "mode": "markers",
         "name": "Qatar",
         "orientation": "v",
         "showlegend": true,
         "type": "scatter",
         "x": {
          "bdata": "FDE=",
          "dtype": "i2"
         },
         "xaxis": "x",
         "y": {
          "bdata": "Cg==",
          "dtype": "i1"
         },
         "yaxis": "y"
        },
        {
         "hovertemplate": "<b>%{hovertext}</b><br><br>Region=Romania<br>Confirmed=%{x}<br>Deaths=%{y}<br>Recovered=%{marker.size}<extra></extra>",
         "hovertext": [
          "Romania"
         ],
         "legendgroup": "Romania",
         "marker": {
          "color": "#ab63fa",
          "size": {
           "bdata": "8Q0=",
           "dtype": "i2"
          },
          "sizemode": "area",
          "sizeref": 332.3225,
          "symbol": "circle"
         },
         "mode": "markers",
         "name": "Romania",
         "orientation": "v",
         "showlegend": true,
         "type": "scatter",
         "x": {
          "bdata": "yi4=",
          "dtype": "i2"
         },
         "xaxis": "x",
         "y": {
          "bdata": "tQI=",
          "dtype": "i2"
         },
         "yaxis": "y"
        },
        {
         "hovertemplate": "<b>%{hovertext}</b><br><br>Region=Russia<br>Confirmed=%{x}<br>Deaths=%{y}<br>Recovered=%{marker.size}<extra></extra>",
         "hovertext": [
          "Russia"
         ],
         "legendgroup": "Russia",
         "marker": {
          "color": "#FFA15A",
          "size": {
           "bdata": "Lig=",
           "dtype": "i2"
          },
          "sizemode": "area",
          "sizeref": 332.3225,
          "symbol": "circle"
         },
         "mode": "markers",
         "name": "Russia",
         "orientation": "v",
         "showlegend": true,
         "type": "scatter",
         "x": {
          "bdata": "R4QBAA==",
          "dtype": "i4"
         },
         "xaxis": "x",
         "y": {
          "bdata": "zAM=",
          "dtype": "i2"
         },
         "yaxis": "y"
        },
        {
         "hovertemplate": "<b>%{hovertext}</b><br><br>Region=Rwanda<br>Confirmed=%{x}<br>Deaths=%{y}<br>Recovered=%{marker.size}<extra></extra>",
         "hovertext": [
          "Rwanda"
         ],
         "legendgroup": "Rwanda",
         "marker": {
          "color": "#19d3f3",
          "size": {
           "bdata": "Yg==",
           "dtype": "i1"
          },
          "sizemode": "area",
          "sizeref": 332.3225,
          "symbol": "circle"
         },
         "mode": "markers",
         "name": "Rwanda",
         "orientation": "v",
         "showlegend": true,
         "type": "scatter",
         "x": {
          "bdata": "4QA=",
          "dtype": "i2"
         },
         "xaxis": "x",
         "y": {
          "bdata": "AA==",
          "dtype": "i1"
         },
         "yaxis": "y"
        },
        {
         "hovertemplate": "<b>%{hovertext}</b><br><br>Region=Saint Kitts and Nevis<br>Confirmed=%{x}<br>Deaths=%{y}<br>Recovered=%{marker.size}<extra></extra>",
         "hovertext": [
          "Saint Kitts and Nevis"
         ],
         "legendgroup": "Saint Kitts and Nevis",
         "marker": {
          "color": "#FF6692",
          "size": {
           "bdata": "BA==",
           "dtype": "i1"
          },
          "sizemode": "area",
          "sizeref": 332.3225,
          "symbol": "circle"
         },
         "mode": "markers",
         "name": "Saint Kitts and Nevis",
         "orientation": "v",
         "showlegend": true,
         "type": "scatter",
         "x": {
          "bdata": "Dw==",
          "dtype": "i1"
         },
         "xaxis": "x",
         "y": {
          "bdata": "AA==",
          "dtype": "i1"
         },
         "yaxis": "y"
        },
        {
         "hovertemplate": "<b>%{hovertext}</b><br><br>Region=Saint Lucia<br>Confirmed=%{x}<br>Deaths=%{y}<br>Recovered=%{marker.size}<extra></extra>",
         "hovertext": [
          "Saint Lucia"
         ],
         "legendgroup": "Saint Lucia",
         "marker": {
          "color": "#B6E880",
          "size": {
           "bdata": "Dw==",
           "dtype": "i1"
          },
          "sizemode": "area",
          "sizeref": 332.3225,
          "symbol": "circle"
         },
         "mode": "markers",
         "name": "Saint Lucia",
         "orientation": "v",
         "showlegend": true,
         "type": "scatter",
         "x": {
          "bdata": "EQ==",
          "dtype": "i1"
         },
         "xaxis": "x",
         "y": {
          "bdata": "AA==",
          "dtype": "i1"
         },
         "yaxis": "y"
        },
        {
         "hovertemplate": "<b>%{hovertext}</b><br><br>Region=Saint Vincent and the Grenadines<br>Confirmed=%{x}<br>Deaths=%{y}<br>Recovered=%{marker.size}<extra></extra>",
         "hovertext": [
          "Saint Vincent and the Grenadines"
         ],
         "legendgroup": "Saint Vincent and the Grenadines",
         "marker": {
          "color": "#FF97FF",
          "size": {
           "bdata": "CA==",
           "dtype": "i1"
          },
          "sizemode": "area",
          "sizeref": 332.3225,
          "symbol": "circle"
         },
         "mode": "markers",
         "name": "Saint Vincent and the Grenadines",
         "orientation": "v",
         "showlegend": true,
         "type": "scatter",
         "x": {
          "bdata": "EA==",
          "dtype": "i1"
         },
         "xaxis": "x",
         "y": {
          "bdata": "AA==",
          "dtype": "i1"
         },
         "yaxis": "y"
        },
        {
         "hovertemplate": "<b>%{hovertext}</b><br><br>Region=San Marino<br>Confirmed=%{x}<br>Deaths=%{y}<br>Recovered=%{marker.size}<extra></extra>",
         "hovertext": [
          "San Marino"
         ],
         "legendgroup": "San Marino",
         "marker": {
          "color": "#FECB52",
          "size": {
           "bdata": "RQ==",
           "dtype": "i1"
          },
          "sizemode": "area",
          "sizeref": 332.3225,
          "symbol": "circle"
         },
         "mode": "markers",
         "name": "San Marino",
         "orientation": "v",
         "showlegend": true,
         "type": "scatter",
         "x": {
          "bdata": "MwI=",
          "dtype": "i2"
         },
         "xaxis": "x",
         "y": {
          "bdata": "KQ==",
          "dtype": "i1"
         },
         "yaxis": "y"
        },
        {
         "hovertemplate": "<b>%{hovertext}</b><br><br>Region=Sao Tome and Principe<br>Confirmed=%{x}<br>Deaths=%{y}<br>Recovered=%{marker.size}<extra></extra>",
         "hovertext": [
          "Sao Tome and Principe"
         ],
         "legendgroup": "Sao Tome and Principe",
         "marker": {
          "color": "#636efa",
          "size": {
           "bdata": "BA==",
           "dtype": "i1"
          },
          "sizemode": "area",
          "sizeref": 332.3225,
          "symbol": "circle"
         },
         "mode": "markers",
         "name": "Sao Tome and Principe",
         "orientation": "v",
         "showlegend": true,
         "type": "scatter",
         "x": {
          "bdata": "CA==",
          "dtype": "i1"
         },
         "xaxis": "x",
         "y": {
          "bdata": "AA==",
          "dtype": "i1"
         },
         "yaxis": "y"
        },
        {
         "hovertemplate": "<b>%{hovertext}</b><br><br>Region=Saudi Arabia<br>Confirmed=%{x}<br>Deaths=%{y}<br>Recovered=%{marker.size}<extra></extra>",
         "hovertext": [
          "Saudi Arabia"
         ],
         "legendgroup": "Saudi Arabia",
         "marker": {
          "color": "#EF553B",
          "size": {
           "bdata": "iQs=",
           "dtype": "i2"
          },
          "sizemode": "area",
          "sizeref": 332.3225,
          "symbol": "circle"
         },
         "mode": "markers",
         "name": "Saudi Arabia",
         "orientation": "v",
         "showlegend": true,
         "type": "scatter",
         "x": {
          "bdata": "mlM=",
          "dtype": "i2"
         },
         "xaxis": "x",
         "y": {
          "bdata": "nQA=",
          "dtype": "i2"
         },
         "yaxis": "y"
        },
        {
         "hovertemplate": "<b>%{hovertext}</b><br><br>Region=Senegal<br>Confirmed=%{x}<br>Deaths=%{y}<br>Recovered=%{marker.size}<extra></extra>",
         "hovertext": [
          "Senegal"
         ],
         "legendgroup": "Senegal",
         "marker": {
          "color": "#00cc96",
          "size": {
           "bdata": "OwE=",
           "dtype": "i2"
          },
          "sizemode": "area",
          "sizeref": 332.3225,
          "symbol": "circle"
         },
         "mode": "markers",
         "name": "Senegal",
         "orientation": "v",
         "showlegend": true,
         "type": "scatter",
         "x": {
          "bdata": "cgM=",
          "dtype": "i2"
         },
         "xaxis": "x",
         "y": {
          "bdata": "CQ==",
          "dtype": "i1"
         },
         "yaxis": "y"
        },
        {
         "hovertemplate": "<b>%{hovertext}</b><br><br>Region=Serbia<br>Confirmed=%{x}<br>Deaths=%{y}<br>Recovered=%{marker.size}<extra></extra>",
         "hovertext": [
          "Serbia"
         ],
         "legendgroup": "Serbia",
         "marker": {
          "color": "#ab63fa",
          "size": {
           "bdata": "ZgM=",
           "dtype": "i2"
          },
          "sizemode": "area",
          "sizeref": 332.3225,
          "symbol": "circle"
         },
         "mode": "markers",
         "name": "Serbia",
         "orientation": "v",
         "showlegend": true,
         "type": "scatter",
         "x": {
          "bdata": "5hk=",
          "dtype": "i2"
         },
         "xaxis": "x",
         "y": {
          "bdata": "fQ==",
          "dtype": "i1"
         },
         "yaxis": "y"
        },
        {
         "hovertemplate": "<b>%{hovertext}</b><br><br>Region=Seychelles<br>Confirmed=%{x}<br>Deaths=%{y}<br>Recovered=%{marker.size}<extra></extra>",
         "hovertext": [
          "Seychelles"
         ],
         "legendgroup": "Seychelles",
         "marker": {
          "color": "#FFA15A",
          "size": {
           "bdata": "Bg==",
           "dtype": "i1"
          },
          "sizemode": "area",
          "sizeref": 332.3225,
          "symbol": "circle"
         },
         "mode": "markers",
         "name": "Seychelles",
         "orientation": "v",
         "showlegend": true,
         "type": "scatter",
         "x": {
          "bdata": "Cw==",
          "dtype": "i1"
         },
         "xaxis": "x",
         "y": {
          "bdata": "AA==",
          "dtype": "i1"
         },
         "yaxis": "y"
        },
        {
         "hovertemplate": "<b>%{hovertext}</b><br><br>Region=Sierra Leone<br>Confirmed=%{x}<br>Deaths=%{y}<br>Recovered=%{marker.size}<extra></extra>",
         "hovertext": [
          "Sierra Leone"
         ],
         "legendgroup": "Sierra Leone",
         "marker": {
          "color": "#19d3f3",
          "size": {
           "bdata": "DA==",
           "dtype": "i1"
          },
          "sizemode": "area",
          "sizeref": 332.3225,
          "symbol": "circle"
         },
         "mode": "markers",
         "name": "Sierra Leone",
         "orientation": "v",
         "showlegend": true,
         "type": "scatter",
         "x": {
          "bdata": "aA==",
          "dtype": "i1"
         },
         "xaxis": "x",
         "y": {
          "bdata": "BA==",
          "dtype": "i1"
         },
         "yaxis": "y"
        },
        {
         "hovertemplate": "<b>%{hovertext}</b><br><br>Region=Singapore<br>Confirmed=%{x}<br>Deaths=%{y}<br>Recovered=%{marker.size}<extra></extra>",
         "hovertext": [
          "Singapore"
         ],
         "legendgroup": "Singapore",
         "marker": {
          "color": "#FF6692",
          "size": {
           "bdata": "pAQ=",
           "dtype": "i2"
          },
          "sizemode": "area",
          "sizeref": 332.3225,
          "symbol": "circle"
         },
         "mode": "markers",
         "name": "Singapore",
         "orientation": "v",
         "showlegend": true,
         "type": "scatter",
         "x": {
          "bdata": "GT0=",
          "dtype": "i2"
         },
         "xaxis": "x",
         "y": {
          "bdata": "Dg==",
          "dtype": "i1"
         },
         "yaxis": "y"
        },
        {
         "hovertemplate": "<b>%{hovertext}</b><br><br>Region=Slovakia<br>Confirmed=%{x}<br>Deaths=%{y}<br>Recovered=%{marker.size}<extra></extra>",
         "hovertext": [
          "Slovakia"
         ],
         "legendgroup": "Slovakia",
         "marker": {
          "color": "#B6E880",
          "size": {
           "bdata": "5AE=",
           "dtype": "i2"
          },
          "sizemode": "area",
          "sizeref": 332.3225,
          "symbol": "circle"
         },
         "mode": "markers",
         "name": "Slovakia",
         "orientation": "v",
         "showlegend": true,
         "type": "scatter",
         "x": {
          "bdata": "bwU=",
          "dtype": "i2"
         },
         "xaxis": "x",
         "y": {
          "bdata": "Fg==",
          "dtype": "i1"
         },
         "yaxis": "y"
        },
        {
         "hovertemplate": "<b>%{hovertext}</b><br><br>Region=Slovenia<br>Confirmed=%{x}<br>Deaths=%{y}<br>Recovered=%{marker.size}<extra></extra>",
         "hovertext": [
          "Slovenia"
         ],
         "legendgroup": "Slovenia",
         "marker": {
          "color": "#FF97FF",
          "size": {
           "bdata": "5gA=",
           "dtype": "i2"
          },
          "sizemode": "area",
          "sizeref": 332.3225,
          "symbol": "circle"
         },
         "mode": "markers",
         "name": "Slovenia",
         "orientation": "v",
         "showlegend": true,
         "type": "scatter",
         "x": {
          "bdata": "igU=",
          "dtype": "i2"
         },
         "xaxis": "x",
         "y": {
          "bdata": "WQ==",
          "dtype": "i1"
         },
         "yaxis": "y"
        },
        {
         "hovertemplate": "<b>%{hovertext}</b><br><br>Region=Somalia<br>Confirmed=%{x}<br>Deaths=%{y}<br>Recovered=%{marker.size}<extra></extra>",
         "hovertext": [
          "Somalia"
         ],
         "legendgroup": "Somalia",
         "marker": {
          "color": "#FECB52",
          "size": {
           "bdata": "FA==",
           "dtype": "i1"
          },
          "sizemode": "area",
          "sizeref": 332.3225,
          "symbol": "circle"
         },
         "mode": "markers",
         "name": "Somalia",
         "orientation": "v",
         "showlegend": true,
         "type": "scatter",
         "x": {
          "bdata": "RgI=",
          "dtype": "i2"
         },
         "xaxis": "x",
         "y": {
          "bdata": "HA==",
          "dtype": "i1"
         },
         "yaxis": "y"
        },
        {
         "hovertemplate": "<b>%{hovertext}</b><br><br>Region=South Africa<br>Confirmed=%{x}<br>Deaths=%{y}<br>Recovered=%{marker.size}<extra></extra>",
         "hovertext": [
          "South Africa"
         ],
         "legendgroup": "South Africa",
         "marker": {
          "color": "#636efa",
          "size": {
           "bdata": "GQg=",
           "dtype": "i2"
          },
          "sizemode": "area",
          "sizeref": 332.3225,
          "symbol": "circle"
         },
         "mode": "markers",
         "name": "South Africa",
         "orientation": "v",
         "showlegend": true,
         "type": "scatter",
         "x": {
          "bdata": "5hQ=",
          "dtype": "i2"
         },
         "xaxis": "x",
         "y": {
          "bdata": "Zw==",
          "dtype": "i1"
         },
         "yaxis": "y"
        },
        {
         "hovertemplate": "<b>%{hovertext}</b><br><br>Region=South Korea<br>Confirmed=%{x}<br>Deaths=%{y}<br>Recovered=%{marker.size}<extra></extra>",
         "hovertext": [
          "South Korea"
         ],
         "legendgroup": "South Korea",
         "marker": {
          "color": "#EF553B",
          "size": {
           "bdata": "YyM=",
           "dtype": "i2"
          },
          "sizemode": "area",
          "sizeref": 332.3225,
          "symbol": "circle"
         },
         "mode": "markers",
         "name": "South Korea",
         "orientation": "v",
         "showlegend": true,
         "type": "scatter",
         "x": {
          "bdata": "DSo=",
          "dtype": "i2"
         },
         "xaxis": "x",
         "y": {
          "bdata": "9wA=",
          "dtype": "i2"
         },
         "yaxis": "y"
        },
        {
         "hovertemplate": "<b>%{hovertext}</b><br><br>Region=South Sudan<br>Confirmed=%{x}<br>Deaths=%{y}<br>Recovered=%{marker.size}<extra></extra>",
         "hovertext": [
          "South Sudan"
         ],
         "legendgroup": "South Sudan",
         "marker": {
          "color": "#00cc96",
          "size": {
           "bdata": "AA==",
           "dtype": "i1"
          },
          "sizemode": "area",
          "sizeref": 332.3225,
          "symbol": "circle"
         },
         "mode": "markers",
         "name": "South Sudan",
         "orientation": "v",
         "showlegend": true,
         "type": "scatter",
         "x": {
          "bdata": "Ig==",
          "dtype": "i1"
         },
         "xaxis": "x",
         "y": {
          "bdata": "AA==",
          "dtype": "i1"
         },
         "yaxis": "y"
        },
        {
         "hovertemplate": "<b>%{hovertext}</b><br><br>Region=Spain<br>Confirmed=%{x}<br>Deaths=%{y}<br>Recovered=%{marker.size}<extra></extra>",
         "hovertext": [
          "Spain"
         ],
         "legendgroup": "Spain",
         "marker": {
          "color": "#ab63fa",
          "size": {
           "bdata": "QQcCAA==",
           "dtype": "i4"
          },
          "sizemode": "area",
          "sizeref": 332.3225,
          "symbol": "circle"
         },
         "mode": "markers",
         "name": "Spain",
         "orientation": "v",
         "showlegend": true,
         "type": "scatter",
         "x": {
          "bdata": "Y50DAA==",
          "dtype": "i4"
         },
         "xaxis": "x",
         "y": {
          "bdata": "014=",
          "dtype": "i2"
         },
         "yaxis": "y"
        },
        {
         "hovertemplate": "<b>%{hovertext}</b><br><br>Region=Sri Lanka<br>Confirmed=%{x}<br>Deaths=%{y}<br>Recovered=%{marker.size}<extra></extra>",
         "hovertext": [
          "Sri Lanka"
         ],
         "legendgroup": "Sri Lanka",
         "marker": {
          "color": "#FFA15A",
          "size": {
           "bdata": "iAA=",
           "dtype": "i2"
          },
          "sizemode": "area",
          "sizeref": 332.3225,
          "symbol": "circle"
         },
         "mode": "markers",
         "name": "Sri Lanka",
         "orientation": "v",
         "showlegend": true,
         "type": "scatter",
         "x": {
          "bdata": "iQI=",
          "dtype": "i2"
         },
         "xaxis": "x",
         "y": {
          "bdata": "Bw==",
          "dtype": "i1"
         },
         "yaxis": "y"
        },
        {
         "hovertemplate": "<b>%{hovertext}</b><br><br>Region=Sudan<br>Confirmed=%{x}<br>Deaths=%{y}<br>Recovered=%{marker.size}<extra></extra>",
         "hovertext": [
          "Sudan"
         ],
         "legendgroup": "Sudan",
         "marker": {
          "color": "#19d3f3",
          "size": {
           "bdata": "IA==",
           "dtype": "i1"
          },
          "sizemode": "area",
          "sizeref": 332.3225,
          "symbol": "circle"
         },
         "mode": "markers",
         "name": "Sudan",
         "orientation": "v",
         "showlegend": true,
         "type": "scatter",
         "x": {
          "bdata": "dwE=",
          "dtype": "i2"
         },
         "xaxis": "x",
         "y": {
          "bdata": "HA==",
          "dtype": "i1"
         },
         "yaxis": "y"
        },
        {
         "hovertemplate": "<b>%{hovertext}</b><br><br>Region=Suriname<br>Confirmed=%{x}<br>Deaths=%{y}<br>Recovered=%{marker.size}<extra></extra>",
         "hovertext": [
          "Suriname"
         ],
         "legendgroup": "Suriname",
         "marker": {
          "color": "#FF6692",
          "size": {
           "bdata": "CA==",
           "dtype": "i1"
          },
          "sizemode": "area",
          "sizeref": 332.3225,
          "symbol": "circle"
         },
         "mode": "markers",
         "name": "Suriname",
         "orientation": "v",
         "showlegend": true,
         "type": "scatter",
         "x": {
          "bdata": "Cg==",
          "dtype": "i1"
         },
         "xaxis": "x",
         "y": {
          "bdata": "AQ==",
          "dtype": "i1"
         },
         "yaxis": "y"
        },
        {
         "hovertemplate": "<b>%{hovertext}</b><br><br>Region=Sweden<br>Confirmed=%{x}<br>Deaths=%{y}<br>Recovered=%{marker.size}<extra></extra>",
         "hovertext": [
          "Sweden"
         ],
         "legendgroup": "Sweden",
         "marker": {
          "color": "#B6E880",
          "size": {
           "bdata": "7QM=",
           "dtype": "i2"
          },
          "sizemode": "area",
          "sizeref": 332.3225,
          "symbol": "circle"
         },
         "mode": "markers",
         "name": "Sweden",
         "orientation": "v",
         "showlegend": true,
         "type": "scatter",
         "x": {
          "bdata": "Tk8=",
          "dtype": "i2"
         },
         "xaxis": "x",
         "y": {
          "bdata": "ngk=",
          "dtype": "i2"
         },
         "yaxis": "y"
        },
        {
         "hovertemplate": "<b>%{hovertext}</b><br><br>Region=Switzerland<br>Confirmed=%{x}<br>Deaths=%{y}<br>Recovered=%{marker.size}<extra></extra>",
         "hovertext": [
          "Switzerland"
         ],
         "legendgroup": "Switzerland",
         "marker": {
          "color": "#FF97FF",
          "size": {
           "bdata": "SFg=",
           "dtype": "i2"
          },
          "sizemode": "area",
          "sizeref": 332.3225,
          "symbol": "circle"
         },
         "mode": "markers",
         "name": "Switzerland",
         "orientation": "v",
         "showlegend": true,
         "type": "scatter",
         "x": {
          "bdata": "33I=",
          "dtype": "i2"
         },
         "xaxis": "x",
         "y": {
          "bdata": "tAY=",
          "dtype": "i2"
         },
         "yaxis": "y"
        },
        {
         "hovertemplate": "<b>%{hovertext}</b><br><br>Region=Syria<br>Confirmed=%{x}<br>Deaths=%{y}<br>Recovered=%{marker.size}<extra></extra>",
         "hovertext": [
          "Syria"
         ],
         "legendgroup": "Syria",
         "marker": {
          "color": "#FECB52",
          "size": {
           "bdata": "FQ==",
           "dtype": "i1"
          },
          "sizemode": "area",
          "sizeref": 332.3225,
          "symbol": "circle"
         },
         "mode": "markers",
         "name": "Syria",
         "orientation": "v",
         "showlegend": true,
         "type": "scatter",
         "x": {
          "bdata": "Kw==",
          "dtype": "i1"
         },
         "xaxis": "x",
         "y": {
          "bdata": "Aw==",
          "dtype": "i1"
         },
         "yaxis": "y"
        },
        {
         "hovertemplate": "<b>%{hovertext}</b><br><br>Region=Taiwan<br>Confirmed=%{x}<br>Deaths=%{y}<br>Recovered=%{marker.size}<extra></extra>",
         "hovertext": [
          "Taiwan"
         ],
         "legendgroup": "Taiwan",
         "marker": {
          "color": "#636efa",
          "size": {
           "bdata": "NwE=",
           "dtype": "i2"
          },
          "sizemode": "area",
          "sizeref": 332.3225,
          "symbol": "circle"
         },
         "mode": "markers",
         "name": "Taiwan",
         "orientation": "v",
         "showlegend": true,
         "type": "scatter",
         "x": {
          "bdata": "rQE=",
          "dtype": "i2"
         },
         "xaxis": "x",
         "y": {
          "bdata": "Bg==",
          "dtype": "i1"
         },
         "yaxis": "y"
        },
        {
         "hovertemplate": "<b>%{hovertext}</b><br><br>Region=Tanzania<br>Confirmed=%{x}<br>Deaths=%{y}<br>Recovered=%{marker.size}<extra></extra>",
         "hovertext": [
          "Tanzania"
         ],
         "legendgroup": "Tanzania",
         "marker": {
          "color": "#EF553B",
          "size": {
           "bdata": "pwA=",
           "dtype": "i2"
          },
          "sizemode": "area",
          "sizeref": 332.3225,
          "symbol": "circle"
         },
         "mode": "markers",
         "name": "Tanzania",
         "orientation": "v",
         "showlegend": true,
         "type": "scatter",
         "x": {
          "bdata": "4AE=",
          "dtype": "i2"
         },
         "xaxis": "x",
         "y": {
          "bdata": "EA==",
          "dtype": "i1"
         },
         "yaxis": "y"
        },
        {
         "hovertemplate": "<b>%{hovertext}</b><br><br>Region=Thailand<br>Confirmed=%{x}<br>Deaths=%{y}<br>Recovered=%{marker.size}<extra></extra>",
         "hovertext": [
          "Thailand"
         ],
         "legendgroup": "Thailand",
         "marker": {
          "color": "#00cc96",
          "size": {
           "bdata": "aQo=",
           "dtype": "i2"
          },
          "sizemode": "area",
          "sizeref": 332.3225,
          "symbol": "circle"
         },
         "mode": "markers",
         "name": "Thailand",
         "orientation": "v",
         "showlegend": true,
         "type": "scatter",
         "x": {
          "bdata": "gws=",
          "dtype": "i2"
         },
         "xaxis": "x",
         "y": {
          "bdata": "Ng==",
          "dtype": "i1"
         },
         "yaxis": "y"
        },
        {
         "hovertemplate": "<b>%{hovertext}</b><br><br>Region=Timor-Leste<br>Confirmed=%{x}<br>Deaths=%{y}<br>Recovered=%{marker.size}<extra></extra>",
         "hovertext": [
          "Timor-Leste"
         ],
         "legendgroup": "Timor-Leste",
         "marker": {
          "color": "#ab63fa",
          "size": {
           "bdata": "Bg==",
           "dtype": "i1"
          },
          "sizemode": "area",
          "sizeref": 332.3225,
          "symbol": "circle"
         },
         "mode": "markers",
         "name": "Timor-Leste",
         "orientation": "v",
         "showlegend": true,
         "type": "scatter",
         "x": {
          "bdata": "GA==",
          "dtype": "i1"
         },
         "xaxis": "x",
         "y": {
          "bdata": "AA==",
          "dtype": "i1"
         },
         "yaxis": "y"
        },
        {
         "hovertemplate": "<b>%{hovertext}</b><br><br>Region=Togo<br>Confirmed=%{x}<br>Deaths=%{y}<br>Recovered=%{marker.size}<extra></extra>",
         "hovertext": [
          "Togo"
         ],
         "legendgroup": "Togo",
         "marker": {
          "color": "#FFA15A",
          "size": {
           "bdata": "QA==",
           "dtype": "i1"
          },
          "sizemode": "area",
          "sizeref": 332.3225,
          "symbol": "circle"
         },
         "mode": "markers",
         "name": "Togo",
         "orientation": "v",
         "showlegend": true,
         "type": "scatter",
         "x": {
          "bdata": "bQ==",
          "dtype": "i1"
         },
         "xaxis": "x",
         "y": {
          "bdata": "Bw==",
          "dtype": "i1"
         },
         "yaxis": "y"
        },
        {
         "hovertemplate": "<b>%{hovertext}</b><br><br>Region=Trinidad and Tobago<br>Confirmed=%{x}<br>Deaths=%{y}<br>Recovered=%{marker.size}<extra></extra>",
         "hovertext": [
          "Trinidad and Tobago"
         ],
         "legendgroup": "Trinidad and Tobago",
         "marker": {
          "color": "#19d3f3",
          "size": {
           "bdata": "Rw==",
           "dtype": "i1"
          },
          "sizemode": "area",
          "sizeref": 332.3225,
          "symbol": "circle"
         },
         "mode": "markers",
         "name": "Trinidad and Tobago",
         "orientation": "v",
         "showlegend": true,
         "type": "scatter",
         "x": {
          "bdata": "dA==",
          "dtype": "i1"
         },
         "xaxis": "x",
         "y": {
          "bdata": "CA==",
          "dtype": "i1"
         },
         "yaxis": "y"
        },
        {
         "hovertemplate": "<b>%{hovertext}</b><br><br>Region=Tunisia<br>Confirmed=%{x}<br>Deaths=%{y}<br>Recovered=%{marker.size}<extra></extra>",
         "hovertext": [
          "Tunisia"
         ],
         "legendgroup": "Tunisia",
         "marker": {
          "color": "#FF6692",
          "size": {
           "bdata": "JgE=",
           "dtype": "i2"
          },
          "sizemode": "area",
          "sizeref": 332.3225,
          "symbol": "circle"
         },
         "mode": "markers",
         "name": "Tunisia",
         "orientation": "v",
         "showlegend": true,
         "type": "scatter",
         "x": {
          "bdata": "1AM=",
          "dtype": "i2"
         },
         "xaxis": "x",
         "y": {
          "bdata": "KA==",
          "dtype": "i1"
         },
         "yaxis": "y"
        },
        {
         "hovertemplate": "<b>%{hovertext}</b><br><br>Region=Turkey<br>Confirmed=%{x}<br>Deaths=%{y}<br>Recovered=%{marker.size}<extra></extra>",
         "hovertext": [
          "Turkey"
         ],
         "legendgroup": "Turkey",
         "marker": {
          "color": "#B6E880",
          "size": {
           "bdata": "CKwAAA==",
           "dtype": "i4"
          },
          "sizemode": "area",
          "sizeref": 332.3225,
          "symbol": "circle"
         },
         "mode": "markers",
         "name": "Turkey",
         "orientation": "v",
         "showlegend": true,
         "type": "scatter",
         "x": {
          "bdata": "VcsBAA==",
          "dtype": "i4"
         },
         "xaxis": "x",
         "y": {
          "bdata": "CQw=",
          "dtype": "i2"
         },
         "yaxis": "y"
        },
        {
         "hovertemplate": "<b>%{hovertext}</b><br><br>Region=UK<br>Confirmed=%{x}<br>Deaths=%{y}<br>Recovered=%{marker.size}<extra></extra>",
         "hovertext": [
          "UK",
          "UK",
          "UK",
          "UK",
          "UK",
          "UK",
          "UK",
          "UK",
          "UK",
          "UK",
          "UK"
         ],
         "legendgroup": "UK",
         "marker": {
          "color": "#FF97FF",
          "size": {
           "bdata": "AAADADAAAwAKAIIBCwCDAAIBAgAFAA==",
           "dtype": "i2"
          },
          "sizemode": "area",
          "sizeref": 332.3225,
          "symbol": "circle"
         },
         "mode": "markers",
         "name": "UK",
         "orientation": "v",
         "showlegend": true,
         "type": "scatter",
         "x": {
          "bdata": "ZYUCAAMAAABvAAAABgAAAEkAAAAZAgAADQAAAI0AAAA5AQAACwAAAAwAAAA=",
          "dtype": "i4"
         },
         "xaxis": "x",
         "y": {
          "bdata": "8WUAAAYAAQABACYAAAAAABUAAQABAA==",
          "dtype": "i2"
         },
         "yaxis": "y"
        },
        {
         "hovertemplate": "<b>%{hovertext}</b><br><br>Region=Uganda<br>Confirmed=%{x}<br>Deaths=%{y}<br>Recovered=%{marker.size}<extra></extra>",
         "hovertext": [
          "Uganda"
         ],
         "legendgroup": "Uganda",
         "marker": {
          "color": "#FECB52",
          "size": {
           "bdata": "NA==",
           "dtype": "i1"
          },
          "sizemode": "area",
          "sizeref": 332.3225,
          "symbol": "circle"
         },
         "mode": "markers",
         "name": "Uganda",
         "orientation": "v",
         "showlegend": true,
         "type": "scatter",
         "x": {
          "bdata": "UQ==",
          "dtype": "i1"
         },
         "xaxis": "x",
         "y": {
          "bdata": "AA==",
          "dtype": "i1"
         },
         "yaxis": "y"
        },
        {
         "hovertemplate": "<b>%{hovertext}</b><br><br>Region=Ukraine<br>Confirmed=%{x}<br>Deaths=%{y}<br>Recovered=%{marker.size}<extra></extra>",
         "hovertext": [
          "Ukraine"
         ],
         "legendgroup": "Ukraine",
         "marker": {
          "color": "#636efa",
          "size": {
           "bdata": "TwQ=",
           "dtype": "i2"
          },
          "sizemode": "area",
          "sizeref": 332.3225,
          "symbol": "circle"
         },
         "mode": "markers",
         "name": "Ukraine",
         "orientation": "v",
         "showlegend": true,
         "type": "scatter",
         "x": {
          "bdata": "iiY=",
          "dtype": "i2"
         },
         "xaxis": "x",
         "y": {
          "bdata": "+gA=",
          "dtype": "i2"
         },
         "yaxis": "y"
        },
        {
         "hovertemplate": "<b>%{hovertext}</b><br><br>Region=United Arab Emirates<br>Confirmed=%{x}<br>Deaths=%{y}<br>Recovered=%{marker.size}<extra></extra>",
         "hovertext": [
          "United Arab Emirates"
         ],
         "legendgroup": "United Arab Emirates",
         "marker": {
          "color": "#EF553B",
          "size": {
           "bdata": "GQk=",
           "dtype": "i2"
          },
          "sizemode": "area",
          "sizeref": 332.3225,
          "symbol": "circle"
         },
         "mode": "markers",
         "name": "United Arab Emirates",
         "orientation": "v",
         "showlegend": true,
         "type": "scatter",
         "x": {
          "bdata": "mS4=",
          "dtype": "i2"
         },
         "xaxis": "x",
         "y": {
          "bdata": "Yg==",
          "dtype": "i1"
         },
         "yaxis": "y"
        },
        {
         "hovertemplate": "<b>%{hovertext}</b><br><br>Region=Uruguay<br>Confirmed=%{x}<br>Deaths=%{y}<br>Recovered=%{marker.size}<extra></extra>",
         "hovertext": [
          "Uruguay"
         ],
         "legendgroup": "Uruguay",
         "marker": {
          "color": "#00cc96",
          "size": {
           "bdata": "nAE=",
           "dtype": "i2"
          },
          "sizemode": "area",
          "sizeref": 332.3225,
          "symbol": "circle"
         },
         "mode": "markers",
         "name": "Uruguay",
         "orientation": "v",
         "showlegend": true,
         "type": "scatter",
         "x": {
          "bdata": "dgI=",
          "dtype": "i2"
         },
         "xaxis": "x",
         "y": {
          "bdata": "Dw==",
          "dtype": "i1"
         },
         "yaxis": "y"
        },
        {
         "hovertemplate": "<b>%{hovertext}</b><br><br>Region=Uzbekistan<br>Confirmed=%{x}<br>Deaths=%{y}<br>Recovered=%{marker.size}<extra></extra>",
         "hovertext": [
          "Uzbekistan"
         ],
         "legendgroup": "Uzbekistan",
         "marker": {
          "color": "#ab63fa",
          "size": {
           "bdata": "SAQ=",
           "dtype": "i2"
          },
          "sizemode": "area",
          "sizeref": 332.3225,
          "symbol": "circle"
         },
         "mode": "markers",
         "name": "Uzbekistan",
         "orientation": "v",
         "showlegend": true,
         "type": "scatter",
         "x": {
          "bdata": "0gc=",
          "dtype": "i2"
         },
         "xaxis": "x",
         "y": {
          "bdata": "CQ==",
          "dtype": "i1"
         },
         "yaxis": "y"
        },
        {
         "hovertemplate": "<b>%{hovertext}</b><br><br>Region=Venezuela<br>Confirmed=%{x}<br>Deaths=%{y}<br>Recovered=%{marker.size}<extra></extra>",
         "hovertext": [
          "Venezuela"
         ],
         "legendgroup": "Venezuela",
         "marker": {
          "color": "#FFA15A",
          "size": {
           "bdata": "jgA=",
           "dtype": "i2"
          },
          "sizemode": "area",
          "sizeref": 332.3225,
          "symbol": "circle"
         },
         "mode": "markers",
         "name": "Venezuela",
         "orientation": "v",
         "showlegend": true,
         "type": "scatter",
         "x": {
          "bdata": "SwE=",
          "dtype": "i2"
         },
         "xaxis": "x",
         "y": {
          "bdata": "Cg==",
          "dtype": "i1"
         },
         "yaxis": "y"
        },
        {
         "hovertemplate": "<b>%{hovertext}</b><br><br>Region=Vietnam<br>Confirmed=%{x}<br>Deaths=%{y}<br>Recovered=%{marker.size}<extra></extra>",
         "hovertext": [
          "Vietnam"
         ],
         "legendgroup": "Vietnam",
         "marker": {
          "color": "#19d3f3",
          "size": {
           "bdata": "3gA=",
           "dtype": "i2"
          },
          "sizemode": "area",
          "sizeref": 332.3225,
          "symbol": "circle"
         },
         "mode": "markers",
         "name": "Vietnam",
         "orientation": "v",
         "showlegend": true,
         "type": "scatter",
         "x": {
          "bdata": "DgE=",
          "dtype": "i2"
         },
         "xaxis": "x",
         "y": {
          "bdata": "AA==",
          "dtype": "i1"
         },
         "yaxis": "y"
        },
        {
         "hovertemplate": "<b>%{hovertext}</b><br><br>Region=West Bank and Gaza<br>Confirmed=%{x}<br>Deaths=%{y}<br>Recovered=%{marker.size}<extra></extra>",
         "hovertext": [
          "West Bank and Gaza"
         ],
         "legendgroup": "West Bank and Gaza",
         "marker": {
          "color": "#FF6692",
          "size": {
           "bdata": "Rw==",
           "dtype": "i1"
          },
          "sizemode": "area",
          "sizeref": 332.3225,
          "symbol": "circle"
         },
         "mode": "markers",
         "name": "West Bank and Gaza",
         "orientation": "v",
         "showlegend": true,
         "type": "scatter",
         "x": {
          "bdata": "WAE=",
          "dtype": "i2"
         },
         "xaxis": "x",
         "y": {
          "bdata": "Ag==",
          "dtype": "i1"
         },
         "yaxis": "y"
        },
        {
         "hovertemplate": "<b>%{hovertext}</b><br><br>Region=Western Sahara<br>Confirmed=%{x}<br>Deaths=%{y}<br>Recovered=%{marker.size}<extra></extra>",
         "hovertext": [
          "Western Sahara"
         ],
         "legendgroup": "Western Sahara",
         "marker": {
          "color": "#B6E880",
          "size": {
           "bdata": "BQ==",
           "dtype": "i1"
          },
          "sizemode": "area",
          "sizeref": 332.3225,
          "symbol": "circle"
         },
         "mode": "markers",
         "name": "Western Sahara",
         "orientation": "v",
         "showlegend": true,
         "type": "scatter",
         "x": {
          "bdata": "Bg==",
          "dtype": "i1"
         },
         "xaxis": "x",
         "y": {
          "bdata": "AA==",
          "dtype": "i1"
         },
         "yaxis": "y"
        },
        {
         "hovertemplate": "<b>%{hovertext}</b><br><br>Region=Yemen<br>Confirmed=%{x}<br>Deaths=%{y}<br>Recovered=%{marker.size}<extra></extra>",
         "hovertext": [
          "Yemen"
         ],
         "legendgroup": "Yemen",
         "marker": {
          "color": "#FF97FF",
          "size": {
           "bdata": "AQ==",
           "dtype": "i1"
          },
          "sizemode": "area",
          "sizeref": 332.3225,
          "symbol": "circle"
         },
         "mode": "markers",
         "name": "Yemen",
         "orientation": "v",
         "showlegend": true,
         "type": "scatter",
         "x": {
          "bdata": "Bg==",
          "dtype": "i1"
         },
         "xaxis": "x",
         "y": {
          "bdata": "AA==",
          "dtype": "i1"
         },
         "yaxis": "y"
        },
        {
         "hovertemplate": "<b>%{hovertext}</b><br><br>Region=Zambia<br>Confirmed=%{x}<br>Deaths=%{y}<br>Recovered=%{marker.size}<extra></extra>",
         "hovertext": [
          "Zambia"
         ],
         "legendgroup": "Zambia",
         "marker": {
          "color": "#FECB52",
          "size": {
           "bdata": "Ng==",
           "dtype": "i1"
          },
          "sizemode": "area",
          "sizeref": 332.3225,
          "symbol": "circle"
         },
         "mode": "markers",
         "name": "Zambia",
         "orientation": "v",
         "showlegend": true,
         "type": "scatter",
         "x": {
          "bdata": "YQ==",
          "dtype": "i1"
         },
         "xaxis": "x",
         "y": {
          "bdata": "Aw==",
          "dtype": "i1"
         },
         "yaxis": "y"
        },
        {
         "hovertemplate": "<b>%{hovertext}</b><br><br>Region=Zimbabwe<br>Confirmed=%{x}<br>Deaths=%{y}<br>Recovered=%{marker.size}<extra></extra>",
         "hovertext": [
          "Zimbabwe"
         ],
         "legendgroup": "Zimbabwe",
         "marker": {
          "color": "#636efa",
          "size": {
           "bdata": "BQ==",
           "dtype": "i1"
          },
          "sizemode": "area",
          "sizeref": 332.3225,
          "symbol": "circle"
         },
         "mode": "markers",
         "name": "Zimbabwe",
         "orientation": "v",
         "showlegend": true,
         "type": "scatter",
         "x": {
          "bdata": "IA==",
          "dtype": "i1"
         },
         "xaxis": "x",
         "y": {
          "bdata": "BA==",
          "dtype": "i1"
         },
         "yaxis": "y"
        },
        {
         "hovertemplate": "<b>%{hovertext}</b><br><br>Region=US<br>Confirmed=%{x}<br>Deaths=%{y}<br>Recovered=%{marker.size}<extra></extra>",
         "hovertext": [
          "US",
          "US",
          "US",
          "US",
          "US",
          "US",
          "US",
          "US",
          "US",
          "US",
          "US",
          "US",
          "US",
          "US",
          "US",
          "US",
          "US",
          "US",
          "US",
          "US",
          "US",
          "US",
          "US",
          "US",
          "US",
          "US",
          "US",
          "US",
          "US",
          "US",
          "US",
          "US",
          "US",
          "US",
          "US",
          "US",
          "US",
          "US",
          "US",
          "US",
          "US",
          "US",
          "US",
          "US",
          "US",
          "US",
          "US",
          "US",
          "US",
          "US",
          "US",
          "US",
          "US",
          "US",
          "US",
          "US",
          "US"
         ],
         "legendgroup": "US",
         "marker": {
          "color": "#EF553B",
          "size": {
           "bdata": "AAAAAAAAAAAAAAAAAAAAAAAAAAAAAAAAAAAAAAAAAAAAAAAAAAAAAAAAAAAAAAAAAAAAAAAAAAAA",
           "dtype": "i1"
          },
          "sizemode": "area",
          "sizeref": 332.3225,
          "symbol": "circle"
         },
         "mode": "markers",
         "name": "US",
         "orientation": "v",
         "showlegend": true,
         "type": "scatter",
         "x": {
          "bdata": "ABsAAGMBAAApHAAAeQwAAGu+AACmOQAAj2gAAC8SAAAxAAAAChAAAKmBAACvZAAAZwAAAI0AAABlAgAAoAcAALbEAAAeQwAAuxoAAP8OAAC5EQAADGwAACAEAABxUQAAaesAAM+dAAAkEgAAqRkAAOwdAADDAQAACw8AAEYTAAAKCAAAjcYBAI0MAACrkgQAxCcAAAkEAAAOAAAAl0MAAJENAACOCQAA97QAAJkFAAA3IAAA+hYAAEUJAAB+KAAAeWoAAJERAABeAwAAOQAAAHI6AAD2NgAAVgQAAHgZAAAhAgAA",
          "dtype": "i4"
         },
         "xaxis": "x",
         "y": {
          "bdata": "AAEJADQBOQCaB/4CeQiQAAAAzQDCBE0EAwAFABAAPACnCMQDlACGAOoANQc0ADYETQ1WDj8B+gBSARAAOADmADwAcxpwALVbfgETAAIAqQPWAGUARQlWAPsA5wANAMMA8gItAC8ABAAKAiEDJgA0AQcA",
          "dtype": "i2"
         },
         "yaxis": "y"
        },
        {
         "hovertemplate": "<b>%{hovertext}</b><br><br>Region=Canada<br>Confirmed=%{x}<br>Deaths=%{y}<br>Recovered=%{marker.size}<extra></extra>",
         "hovertext": [
          "Canada",
          "Canada",
          "Canada",
          "Canada",
          "Canada",
          "Canada",
          "Canada",
          "Canada",
          "Canada",
          "Canada",
          "Canada",
          "Canada",
          "Canada"
         ],
         "legendgroup": "Canada",
         "marker": {
          "color": "#00cc96",
          "size": {
           "bdata": "AAAAAAAAAAAAAAAAAA==",
           "dtype": "i1"
          },
          "sizemode": "area",
          "sizeref": 332.3225,
          "symbol": "circle"
         },
         "mode": "markers",
         "name": "Canada",
         "orientation": "v",
         "showlegend": true,
         "type": "scatter",
         "x": {
          "bdata": "LRQnCA0AEwF2AAIBBQCnA1JCGwDyZ38BCwA=",
          "dtype": "i2"
         },
         "xaxis": "x",
         "y": {
          "bdata": "VwBtAAAABgAAAAMAAAAcAIEEAADiBgYAAAA=",
          "dtype": "i2"
         },
         "yaxis": "y"
        },
        {
         "hovertemplate": "<b>%{hovertext}</b><br><br>Region=Mainland China<br>Confirmed=%{x}<br>Deaths=%{y}<br>Recovered=%{marker.size}<extra></extra>",
         "hovertext": [
          "Mainland China",
          "Mainland China",
          "Mainland China",
          "Mainland China",
          "Mainland China",
          "Mainland China",
          "Mainland China",
          "Mainland China",
          "Mainland China",
          "Mainland China",
          "Mainland China",
          "Mainland China",
          "Mainland China",
          "Mainland China",
          "Mainland China",
          "Mainland China",
          "Mainland China",
          "Mainland China",
          "Mainland China",
          "Mainland China",
          "Mainland China",
          "Mainland China",
          "Mainland China",
          "Mainland China",
          "Mainland China",
          "Mainland China",
          "Mainland China",
          "Mainland China",
          "Mainland China",
          "Mainland China",
          "Mainland China"
         ],
         "legendgroup": "Mainland China",
         "marker": {
          "color": "#ab63fa",
          "size": {
           "bdata": "2QMAAB4CAAA9AgAAYQEAAIkAAAAVBgAA/AAAAJEAAACiAAAAPgEAAEsCAADmBAAAgPgAAPcDAACWAAAAiAIAAKgDAABjAAAAjwAAAEsAAAASAAAA/QAAAAQDAABVAgAApAAAAC4CAAC3AAAAAQAAAEkAAAC1AAAA7wQAAA==",
           "dtype": "i4"
          },
          "sizemode": "area",
          "sizeref": 332.3225,
          "symbol": "circle"
         },
         "mode": "markers",
         "name": "Mainland China",
         "orientation": "v",
         "showlegend": true,
         "type": "scatter",
         "x": {
          "bdata": "3wMAAFECAABDAgAAYwEAAIsAAAA0BgAA/gAAAJMAAACoAAAASAEAAKsDAAD8BAAAIAoBAPsDAADIAAAAjQIAAKkDAABvAAAAkgAAAEsAAAASAAAAMgEAABMDAACHAgAAxQAAADECAAC+AAAAAQAAAEwAAAC5AAAA9AQAAA==",
          "dtype": "i4"
         },
         "xaxis": "x",
         "y": {
          "bdata": "BgAJAAYAAQACAAgAAgACAAYABgANABYAoBEEAAEAAAABAAEAAgAAAAAAAwAHAAcAAAADAAMAAAADAAIAAQA=",
          "dtype": "i2"
         },
         "yaxis": "y"
        },
        {
         "hovertemplate": "<b>%{hovertext}</b><br><br>Region=Australia<br>Confirmed=%{x}<br>Deaths=%{y}<br>Recovered=%{marker.size}<extra></extra>",
         "hovertext": [
          "Australia",
          "Australia",
          "Australia",
          "Australia",
          "Australia",
          "Australia",
          "Australia",
          "Australia"
         ],
         "legendgroup": "Australia",
         "marker": {
          "color": "#FFA15A",
          "size": {
           "bdata": "ZQDsCBkArwOkAZAACwX7AQ==",
           "dtype": "i2"
          },
          "sizemode": "area",
          "sizeref": 332.3225,
          "symbol": "circle"
         },
         "mode": "markers",
         "name": "Australia",
         "orientation": "v",
         "showlegend": true,
         "type": "scatter",
         "x": {
          "bdata": "agDICxwACQS2AdsAUQUnAg==",
          "dtype": "i2"
         },
         "xaxis": "x",
         "y": {
          "bdata": "AygABgQMEgg=",
          "dtype": "i1"
         },
         "yaxis": "y"
        },
        {
         "hovertemplate": "<b>%{hovertext}</b><br><br>Region=Hong Kong<br>Confirmed=%{x}<br>Deaths=%{y}<br>Recovered=%{marker.size}<extra></extra>",
         "hovertext": [
          "Hong Kong"
         ],
         "legendgroup": "Hong Kong",
         "marker": {
          "color": "#19d3f3",
          "size": {
           "bdata": "PgM=",
           "dtype": "i2"
          },
          "sizemode": "area",
          "sizeref": 332.3225,
          "symbol": "circle"
         },
         "mode": "markers",
         "name": "Hong Kong",
         "orientation": "v",
         "showlegend": true,
         "type": "scatter",
         "x": {
          "bdata": "DQQ=",
          "dtype": "i2"
         },
         "xaxis": "x",
         "y": {
          "bdata": "BA==",
          "dtype": "i1"
         },
         "yaxis": "y"
        },
        {
         "hovertemplate": "<b>%{hovertext}</b><br><br>Region=Macau<br>Confirmed=%{x}<br>Deaths=%{y}<br>Recovered=%{marker.size}<extra></extra>",
         "hovertext": [
          "Macau"
         ],
         "legendgroup": "Macau",
         "marker": {
          "color": "#FF6692",
          "size": {
           "bdata": "Ig==",
           "dtype": "i1"
          },
          "sizemode": "area",
          "sizeref": 332.3225,
          "symbol": "circle"
         },
         "mode": "markers",
         "name": "Macau",
         "orientation": "v",
         "showlegend": true,
         "type": "scatter",
         "x": {
          "bdata": "LQ==",
          "dtype": "i1"
         },
         "xaxis": "x",
         "y": {
          "bdata": "AA==",
          "dtype": "i1"
         },
         "yaxis": "y"
        }
       ],
       "layout": {
        "legend": {
         "itemsizing": "constant",
         "title": {
          "text": "Region"
         },
         "tracegroupgap": 0
        },
        "template": {
         "data": {
          "bar": [
           {
            "error_x": {
             "color": "#2a3f5f"
            },
            "error_y": {
             "color": "#2a3f5f"
            },
            "marker": {
             "line": {
              "color": "#E5ECF6",
              "width": 0.5
             },
             "pattern": {
              "fillmode": "overlay",
              "size": 10,
              "solidity": 0.2
             }
            },
            "type": "bar"
           }
          ],
          "barpolar": [
           {
            "marker": {
             "line": {
              "color": "#E5ECF6",
              "width": 0.5
             },
             "pattern": {
              "fillmode": "overlay",
              "size": 10,
              "solidity": 0.2
             }
            },
            "type": "barpolar"
           }
          ],
          "carpet": [
           {
            "aaxis": {
             "endlinecolor": "#2a3f5f",
             "gridcolor": "white",
             "linecolor": "white",
             "minorgridcolor": "white",
             "startlinecolor": "#2a3f5f"
            },
            "baxis": {
             "endlinecolor": "#2a3f5f",
             "gridcolor": "white",
             "linecolor": "white",
             "minorgridcolor": "white",
             "startlinecolor": "#2a3f5f"
            },
            "type": "carpet"
           }
          ],
          "choropleth": [
           {
            "colorbar": {
             "outlinewidth": 0,
             "ticks": ""
            },
            "type": "choropleth"
           }
          ],
          "contour": [
           {
            "colorbar": {
             "outlinewidth": 0,
             "ticks": ""
            },
            "colorscale": [
             [
              0,
              "#0d0887"
             ],
             [
              0.1111111111111111,
              "#46039f"
             ],
             [
              0.2222222222222222,
              "#7201a8"
             ],
             [
              0.3333333333333333,
              "#9c179e"
             ],
             [
              0.4444444444444444,
              "#bd3786"
             ],
             [
              0.5555555555555556,
              "#d8576b"
             ],
             [
              0.6666666666666666,
              "#ed7953"
             ],
             [
              0.7777777777777778,
              "#fb9f3a"
             ],
             [
              0.8888888888888888,
              "#fdca26"
             ],
             [
              1,
              "#f0f921"
             ]
            ],
            "type": "contour"
           }
          ],
          "contourcarpet": [
           {
            "colorbar": {
             "outlinewidth": 0,
             "ticks": ""
            },
            "type": "contourcarpet"
           }
          ],
          "heatmap": [
           {
            "colorbar": {
             "outlinewidth": 0,
             "ticks": ""
            },
            "colorscale": [
             [
              0,
              "#0d0887"
             ],
             [
              0.1111111111111111,
              "#46039f"
             ],
             [
              0.2222222222222222,
              "#7201a8"
             ],
             [
              0.3333333333333333,
              "#9c179e"
             ],
             [
              0.4444444444444444,
              "#bd3786"
             ],
             [
              0.5555555555555556,
              "#d8576b"
             ],
             [
              0.6666666666666666,
              "#ed7953"
             ],
             [
              0.7777777777777778,
              "#fb9f3a"
             ],
             [
              0.8888888888888888,
              "#fdca26"
             ],
             [
              1,
              "#f0f921"
             ]
            ],
            "type": "heatmap"
           }
          ],
          "histogram": [
           {
            "marker": {
             "pattern": {
              "fillmode": "overlay",
              "size": 10,
              "solidity": 0.2
             }
            },
            "type": "histogram"
           }
          ],
          "histogram2d": [
           {
            "colorbar": {
             "outlinewidth": 0,
             "ticks": ""
            },
            "colorscale": [
             [
              0,
              "#0d0887"
             ],
             [
              0.1111111111111111,
              "#46039f"
             ],
             [
              0.2222222222222222,
              "#7201a8"
             ],
             [
              0.3333333333333333,
              "#9c179e"
             ],
             [
              0.4444444444444444,
              "#bd3786"
             ],
             [
              0.5555555555555556,
              "#d8576b"
             ],
             [
              0.6666666666666666,
              "#ed7953"
             ],
             [
              0.7777777777777778,
              "#fb9f3a"
             ],
             [
              0.8888888888888888,
              "#fdca26"
             ],
             [
              1,
              "#f0f921"
             ]
            ],
            "type": "histogram2d"
           }
          ],
          "histogram2dcontour": [
           {
            "colorbar": {
             "outlinewidth": 0,
             "ticks": ""
            },
            "colorscale": [
             [
              0,
              "#0d0887"
             ],
             [
              0.1111111111111111,
              "#46039f"
             ],
             [
              0.2222222222222222,
              "#7201a8"
             ],
             [
              0.3333333333333333,
              "#9c179e"
             ],
             [
              0.4444444444444444,
              "#bd3786"
             ],
             [
              0.5555555555555556,
              "#d8576b"
             ],
             [
              0.6666666666666666,
              "#ed7953"
             ],
             [
              0.7777777777777778,
              "#fb9f3a"
             ],
             [
              0.8888888888888888,
              "#fdca26"
             ],
             [
              1,
              "#f0f921"
             ]
            ],
            "type": "histogram2dcontour"
           }
          ],
          "mesh3d": [
           {
            "colorbar": {
             "outlinewidth": 0,
             "ticks": ""
            },
            "type": "mesh3d"
           }
          ],
          "parcoords": [
           {
            "line": {
             "colorbar": {
              "outlinewidth": 0,
              "ticks": ""
             }
            },
            "type": "parcoords"
           }
          ],
          "pie": [
           {
            "automargin": true,
            "type": "pie"
           }
          ],
          "scatter": [
           {
            "fillpattern": {
             "fillmode": "overlay",
             "size": 10,
             "solidity": 0.2
            },
            "type": "scatter"
           }
          ],
          "scatter3d": [
           {
            "line": {
             "colorbar": {
              "outlinewidth": 0,
              "ticks": ""
             }
            },
            "marker": {
             "colorbar": {
              "outlinewidth": 0,
              "ticks": ""
             }
            },
            "type": "scatter3d"
           }
          ],
          "scattercarpet": [
           {
            "marker": {
             "colorbar": {
              "outlinewidth": 0,
              "ticks": ""
             }
            },
            "type": "scattercarpet"
           }
          ],
          "scattergeo": [
           {
            "marker": {
             "colorbar": {
              "outlinewidth": 0,
              "ticks": ""
             }
            },
            "type": "scattergeo"
           }
          ],
          "scattergl": [
           {
            "marker": {
             "colorbar": {
              "outlinewidth": 0,
              "ticks": ""
             }
            },
            "type": "scattergl"
           }
          ],
          "scattermap": [
           {
            "marker": {
             "colorbar": {
              "outlinewidth": 0,
              "ticks": ""
             }
            },
            "type": "scattermap"
           }
          ],
          "scattermapbox": [
           {
            "marker": {
             "colorbar": {
              "outlinewidth": 0,
              "ticks": ""
             }
            },
            "type": "scattermapbox"
           }
          ],
          "scatterpolar": [
           {
            "marker": {
             "colorbar": {
              "outlinewidth": 0,
              "ticks": ""
             }
            },
            "type": "scatterpolar"
           }
          ],
          "scatterpolargl": [
           {
            "marker": {
             "colorbar": {
              "outlinewidth": 0,
              "ticks": ""
             }
            },
            "type": "scatterpolargl"
           }
          ],
          "scatterternary": [
           {
            "marker": {
             "colorbar": {
              "outlinewidth": 0,
              "ticks": ""
             }
            },
            "type": "scatterternary"
           }
          ],
          "surface": [
           {
            "colorbar": {
             "outlinewidth": 0,
             "ticks": ""
            },
            "colorscale": [
             [
              0,
              "#0d0887"
             ],
             [
              0.1111111111111111,
              "#46039f"
             ],
             [
              0.2222222222222222,
              "#7201a8"
             ],
             [
              0.3333333333333333,
              "#9c179e"
             ],
             [
              0.4444444444444444,
              "#bd3786"
             ],
             [
              0.5555555555555556,
              "#d8576b"
             ],
             [
              0.6666666666666666,
              "#ed7953"
             ],
             [
              0.7777777777777778,
              "#fb9f3a"
             ],
             [
              0.8888888888888888,
              "#fdca26"
             ],
             [
              1,
              "#f0f921"
             ]
            ],
            "type": "surface"
           }
          ],
          "table": [
           {
            "cells": {
             "fill": {
              "color": "#EBF0F8"
             },
             "line": {
              "color": "white"
             }
            },
            "header": {
             "fill": {
              "color": "#C8D4E3"
             },
             "line": {
              "color": "white"
             }
            },
            "type": "table"
           }
          ]
         },
         "layout": {
          "annotationdefaults": {
           "arrowcolor": "#2a3f5f",
           "arrowhead": 0,
           "arrowwidth": 1
          },
          "autotypenumbers": "strict",
          "coloraxis": {
           "colorbar": {
            "outlinewidth": 0,
            "ticks": ""
           }
          },
          "colorscale": {
           "diverging": [
            [
             0,
             "#8e0152"
            ],
            [
             0.1,
             "#c51b7d"
            ],
            [
             0.2,
             "#de77ae"
            ],
            [
             0.3,
             "#f1b6da"
            ],
            [
             0.4,
             "#fde0ef"
            ],
            [
             0.5,
             "#f7f7f7"
            ],
            [
             0.6,
             "#e6f5d0"
            ],
            [
             0.7,
             "#b8e186"
            ],
            [
             0.8,
             "#7fbc41"
            ],
            [
             0.9,
             "#4d9221"
            ],
            [
             1,
             "#276419"
            ]
           ],
           "sequential": [
            [
             0,
             "#0d0887"
            ],
            [
             0.1111111111111111,
             "#46039f"
            ],
            [
             0.2222222222222222,
             "#7201a8"
            ],
            [
             0.3333333333333333,
             "#9c179e"
            ],
            [
             0.4444444444444444,
             "#bd3786"
            ],
            [
             0.5555555555555556,
             "#d8576b"
            ],
            [
             0.6666666666666666,
             "#ed7953"
            ],
            [
             0.7777777777777778,
             "#fb9f3a"
            ],
            [
             0.8888888888888888,
             "#fdca26"
            ],
            [
             1,
             "#f0f921"
            ]
           ],
           "sequentialminus": [
            [
             0,
             "#0d0887"
            ],
            [
             0.1111111111111111,
             "#46039f"
            ],
            [
             0.2222222222222222,
             "#7201a8"
            ],
            [
             0.3333333333333333,
             "#9c179e"
            ],
            [
             0.4444444444444444,
             "#bd3786"
            ],
            [
             0.5555555555555556,
             "#d8576b"
            ],
            [
             0.6666666666666666,
             "#ed7953"
            ],
            [
             0.7777777777777778,
             "#fb9f3a"
            ],
            [
             0.8888888888888888,
             "#fdca26"
            ],
            [
             1,
             "#f0f921"
            ]
           ]
          },
          "colorway": [
           "#636efa",
           "#EF553B",
           "#00cc96",
           "#ab63fa",
           "#FFA15A",
           "#19d3f3",
           "#FF6692",
           "#B6E880",
           "#FF97FF",
           "#FECB52"
          ],
          "font": {
           "color": "#2a3f5f"
          },
          "geo": {
           "bgcolor": "white",
           "lakecolor": "white",
           "landcolor": "#E5ECF6",
           "showlakes": true,
           "showland": true,
           "subunitcolor": "white"
          },
          "hoverlabel": {
           "align": "left"
          },
          "hovermode": "closest",
          "mapbox": {
           "style": "light"
          },
          "paper_bgcolor": "white",
          "plot_bgcolor": "#E5ECF6",
          "polar": {
           "angularaxis": {
            "gridcolor": "white",
            "linecolor": "white",
            "ticks": ""
           },
           "bgcolor": "#E5ECF6",
           "radialaxis": {
            "gridcolor": "white",
            "linecolor": "white",
            "ticks": ""
           }
          },
          "scene": {
           "xaxis": {
            "backgroundcolor": "#E5ECF6",
            "gridcolor": "white",
            "gridwidth": 2,
            "linecolor": "white",
            "showbackground": true,
            "ticks": "",
            "zerolinecolor": "white"
           },
           "yaxis": {
            "backgroundcolor": "#E5ECF6",
            "gridcolor": "white",
            "gridwidth": 2,
            "linecolor": "white",
            "showbackground": true,
            "ticks": "",
            "zerolinecolor": "white"
           },
           "zaxis": {
            "backgroundcolor": "#E5ECF6",
            "gridcolor": "white",
            "gridwidth": 2,
            "linecolor": "white",
            "showbackground": true,
            "ticks": "",
            "zerolinecolor": "white"
           }
          },
          "shapedefaults": {
           "line": {
            "color": "#2a3f5f"
           }
          },
          "ternary": {
           "aaxis": {
            "gridcolor": "white",
            "linecolor": "white",
            "ticks": ""
           },
           "baxis": {
            "gridcolor": "white",
            "linecolor": "white",
            "ticks": ""
           },
           "bgcolor": "#E5ECF6",
           "caxis": {
            "gridcolor": "white",
            "linecolor": "white",
            "ticks": ""
           }
          },
          "title": {
           "x": 0.05
          },
          "xaxis": {
           "automargin": true,
           "gridcolor": "white",
           "linecolor": "white",
           "ticks": "",
           "title": {
            "standoff": 15
           },
           "zerolinecolor": "white",
           "zerolinewidth": 2
          },
          "yaxis": {
           "automargin": true,
           "gridcolor": "white",
           "linecolor": "white",
           "ticks": "",
           "title": {
            "standoff": 15
           },
           "zerolinecolor": "white",
           "zerolinewidth": 2
          }
         }
        },
        "title": {
         "text": "COVID-19 Cases: Confirmed vs Deaths (Size=Recovered)"
        },
        "xaxis": {
         "anchor": "y",
         "domain": [
          0,
          1
         ],
         "title": {
          "text": "Confirmed"
         },
         "type": "log"
        },
        "yaxis": {
         "anchor": "x",
         "domain": [
          0,
          1
         ],
         "title": {
          "text": "Deaths"
         }
        }
       }
      },
      "image/png": "[encoded data removed]"
     },
     "metadata": {},
     "output_type": "display_data"
    }
   ],
   "source": [
    "fig = px.scatter(df, x='Confirmed', y='Deaths', size='Recovered', \n",
    "                 color='Region', hover_name='Region', log_x=True,\n",
    "                 title='COVID-19 Cases: Confirmed vs Deaths (Size=Recovered)')\n",
    "fig.write_html('visuals/interactive_bubble_chart.html')\n",
    "fig.show()"
   ]
  },
  {
   "cell_type": "markdown",
   "id": "d9e67eb2",
   "metadata": {},
   "source": [
    "## 8. Key Questions Analysis"
   ]
  },
  {
   "cell_type": "code",
   "execution_count": 11,
   "id": "02ddd576",
   "metadata": {},
   "outputs": [
    {
     "data": {
      "text/html": [
       "<div>\n",
       "<style scoped>\n",
       "    .dataframe tbody tr th:only-of-type {\n",
       "        vertical-align: middle;\n",
       "    }\n",
       "\n",
       "    .dataframe tbody tr th {\n",
       "        vertical-align: top;\n",
       "    }\n",
       "\n",
       "    .dataframe thead th {\n",
       "        text-align: right;\n",
       "    }\n",
       "</style>\n",
       "<table border=\"1\" class=\"dataframe\">\n",
       "  <thead>\n",
       "    <tr style=\"text-align: right;\">\n",
       "      <th></th>\n",
       "      <th>Confirmed</th>\n",
       "      <th>Deaths</th>\n",
       "      <th>Recovered</th>\n",
       "    </tr>\n",
       "    <tr>\n",
       "      <th>Region</th>\n",
       "      <th></th>\n",
       "      <th></th>\n",
       "      <th></th>\n",
       "    </tr>\n",
       "  </thead>\n",
       "  <tbody>\n",
       "    <tr>\n",
       "      <th>Afghanistan</th>\n",
       "      <td>1939</td>\n",
       "      <td>60</td>\n",
       "      <td>252</td>\n",
       "    </tr>\n",
       "    <tr>\n",
       "      <th>Albania</th>\n",
       "      <td>766</td>\n",
       "      <td>30</td>\n",
       "      <td>455</td>\n",
       "    </tr>\n",
       "    <tr>\n",
       "      <th>Algeria</th>\n",
       "      <td>3848</td>\n",
       "      <td>444</td>\n",
       "      <td>1702</td>\n",
       "    </tr>\n",
       "    <tr>\n",
       "      <th>Andorra</th>\n",
       "      <td>743</td>\n",
       "      <td>42</td>\n",
       "      <td>423</td>\n",
       "    </tr>\n",
       "    <tr>\n",
       "      <th>Angola</th>\n",
       "      <td>27</td>\n",
       "      <td>2</td>\n",
       "      <td>7</td>\n",
       "    </tr>\n",
       "    <tr>\n",
       "      <th>Antigua and Barbuda</th>\n",
       "      <td>24</td>\n",
       "      <td>3</td>\n",
       "      <td>11</td>\n",
       "    </tr>\n",
       "    <tr>\n",
       "      <th>Argentina</th>\n",
       "      <td>4285</td>\n",
       "      <td>214</td>\n",
       "      <td>1192</td>\n",
       "    </tr>\n",
       "    <tr>\n",
       "      <th>Armenia</th>\n",
       "      <td>1932</td>\n",
       "      <td>30</td>\n",
       "      <td>900</td>\n",
       "    </tr>\n",
       "    <tr>\n",
       "      <th>Australia</th>\n",
       "      <td>6752</td>\n",
       "      <td>91</td>\n",
       "      <td>5715</td>\n",
       "    </tr>\n",
       "    <tr>\n",
       "      <th>Austria</th>\n",
       "      <td>15402</td>\n",
       "      <td>580</td>\n",
       "      <td>12779</td>\n",
       "    </tr>\n",
       "  </tbody>\n",
       "</table>\n",
       "</div>"
      ],
      "text/plain": [
       "                     Confirmed  Deaths  Recovered\n",
       "Region                                           \n",
       "Afghanistan               1939      60        252\n",
       "Albania                    766      30        455\n",
       "Algeria                   3848     444       1702\n",
       "Andorra                    743      42        423\n",
       "Angola                      27       2          7\n",
       "Antigua and Barbuda         24       3         11\n",
       "Argentina                 4285     214       1192\n",
       "Armenia                   1932      30        900\n",
       "Australia                 6752      91       5715\n",
       "Austria                  15402     580      12779"
      ]
     },
     "execution_count": 11,
     "metadata": {},
     "output_type": "execute_result"
    }
   ],
   "source": [
    "# Q1: Total by Region\n",
    "df.groupby('Region')[['Confirmed', 'Deaths', 'Recovered']].sum().head(10)"
   ]
  },
  {
   "cell_type": "code",
   "execution_count": 12,
   "id": "27dfb8e1",
   "metadata": {},
   "outputs": [
    {
     "data": {
      "text/plain": [
       "(304, 9)"
      ]
     },
     "execution_count": 12,
     "metadata": {},
     "output_type": "execute_result"
    }
   ],
   "source": [
    "# Q2: Filter Confirmed >=10\n",
    "filtered_df = df[df['Confirmed'] >= 10]\n",
    "filtered_df.shape"
   ]
  },
  {
   "cell_type": "code",
   "execution_count": 13,
   "id": "2f96a9f0",
   "metadata": {},
   "outputs": [
    {
     "data": {
      "text/plain": [
       "'US'"
      ]
     },
     "execution_count": 13,
     "metadata": {},
     "output_type": "execute_result"
    }
   ],
   "source": [
    "# Q3: Region with max confirmed\n",
    "df.loc[df['Confirmed'].idxmax(), 'Region']"
   ]
  },
  {
   "cell_type": "code",
   "execution_count": 14,
   "id": "6be8faed",
   "metadata": {},
   "outputs": [
    {
     "data": {
      "text/plain": [
       "'Bhutan'"
      ]
     },
     "execution_count": 14,
     "metadata": {},
     "output_type": "execute_result"
    }
   ],
   "source": [
    "# Q4: Region with min deaths\n",
    "df.loc[df['Deaths'].idxmin(), 'Region']"
   ]
  },
  {
   "cell_type": "code",
   "execution_count": 15,
   "id": "f1e09c10",
   "metadata": {},
   "outputs": [
    {
     "data": {
      "text/plain": [
       "Confirmed    33062\n",
       "Deaths        1079\n",
       "Recovered     8437\n",
       "dtype: int64"
      ]
     },
     "execution_count": 15,
     "metadata": {},
     "output_type": "execute_result"
    }
   ],
   "source": [
    "# Q5: India's April 29 Stats\n",
    "india = df[(df['Region'] == 'India') & (df['Date'] <= '2020-04-29')]\n",
    "india[['Confirmed', 'Deaths', 'Recovered']].sum()"
   ]
  },
  {
   "cell_type": "code",
   "execution_count": 17,
   "id": "d748d809",
   "metadata": {},
   "outputs": [
    {
     "data": {
      "text/html": [
       "<div>\n",
       "<style scoped>\n",
       "    .dataframe tbody tr th:only-of-type {\n",
       "        vertical-align: middle;\n",
       "    }\n",
       "\n",
       "    .dataframe tbody tr th {\n",
       "        vertical-align: top;\n",
       "    }\n",
       "\n",
       "    .dataframe thead th {\n",
       "        text-align: right;\n",
       "    }\n",
       "</style>\n",
       "<table border=\"1\" class=\"dataframe\">\n",
       "  <thead>\n",
       "    <tr style=\"text-align: right;\">\n",
       "      <th></th>\n",
       "      <th>Date</th>\n",
       "      <th>State</th>\n",
       "      <th>Region</th>\n",
       "      <th>Confirmed</th>\n",
       "      <th>Deaths</th>\n",
       "      <th>Recovered</th>\n",
       "      <th>Active_Cases</th>\n",
       "      <th>Mortality_Rate</th>\n",
       "      <th>Recovery_Rate</th>\n",
       "    </tr>\n",
       "  </thead>\n",
       "  <tbody>\n",
       "    <tr>\n",
       "      <th>289</th>\n",
       "      <td>2020-04-29</td>\n",
       "      <td>Saint Pierre and Miquelon</td>\n",
       "      <td>France</td>\n",
       "      <td>1</td>\n",
       "      <td>0</td>\n",
       "      <td>0</td>\n",
       "      <td>1</td>\n",
       "      <td>0.0000</td>\n",
       "      <td>0.0000</td>\n",
       "    </tr>\n",
       "    <tr>\n",
       "      <th>305</th>\n",
       "      <td>2020-04-29</td>\n",
       "      <td>Tibet</td>\n",
       "      <td>Mainland China</td>\n",
       "      <td>1</td>\n",
       "      <td>0</td>\n",
       "      <td>1</td>\n",
       "      <td>0</td>\n",
       "      <td>0.0000</td>\n",
       "      <td>1.0000</td>\n",
       "    </tr>\n",
       "    <tr>\n",
       "      <th>184</th>\n",
       "      <td>2020-04-29</td>\n",
       "      <td>Anguilla</td>\n",
       "      <td>UK</td>\n",
       "      <td>3</td>\n",
       "      <td>0</td>\n",
       "      <td>3</td>\n",
       "      <td>0</td>\n",
       "      <td>0.0000</td>\n",
       "      <td>1.0000</td>\n",
       "    </tr>\n",
       "    <tr>\n",
       "      <th>192</th>\n",
       "      <td>2020-04-29</td>\n",
       "      <td>Bonaire, Sint Eustatius and Saba</td>\n",
       "      <td>Netherlands</td>\n",
       "      <td>5</td>\n",
       "      <td>0</td>\n",
       "      <td>0</td>\n",
       "      <td>5</td>\n",
       "      <td>0.0000</td>\n",
       "      <td>0.0000</td>\n",
       "    </tr>\n",
       "    <tr>\n",
       "      <th>272</th>\n",
       "      <td>2020-04-29</td>\n",
       "      <td>Northwest Territories</td>\n",
       "      <td>Canada</td>\n",
       "      <td>5</td>\n",
       "      <td>0</td>\n",
       "      <td>0</td>\n",
       "      <td>5</td>\n",
       "      <td>0.0000</td>\n",
       "      <td>0.0000</td>\n",
       "    </tr>\n",
       "    <tr>\n",
       "      <th>288</th>\n",
       "      <td>2020-04-29</td>\n",
       "      <td>Saint Barthelemy</td>\n",
       "      <td>France</td>\n",
       "      <td>6</td>\n",
       "      <td>0</td>\n",
       "      <td>6</td>\n",
       "      <td>0</td>\n",
       "      <td>0.0000</td>\n",
       "      <td>1.0000</td>\n",
       "    </tr>\n",
       "    <tr>\n",
       "      <th>194</th>\n",
       "      <td>2020-04-29</td>\n",
       "      <td>British Virgin Islands</td>\n",
       "      <td>UK</td>\n",
       "      <td>6</td>\n",
       "      <td>1</td>\n",
       "      <td>3</td>\n",
       "      <td>2</td>\n",
       "      <td>0.1667</td>\n",
       "      <td>0.5000</td>\n",
       "    </tr>\n",
       "    <tr>\n",
       "      <th>178</th>\n",
       "      <td>2020-04-29</td>\n",
       "      <td>National</td>\n",
       "      <td>Yemen</td>\n",
       "      <td>6</td>\n",
       "      <td>0</td>\n",
       "      <td>1</td>\n",
       "      <td>5</td>\n",
       "      <td>0.0000</td>\n",
       "      <td>0.1667</td>\n",
       "    </tr>\n",
       "    <tr>\n",
       "      <th>177</th>\n",
       "      <td>2020-04-29</td>\n",
       "      <td>National</td>\n",
       "      <td>Western Sahara</td>\n",
       "      <td>6</td>\n",
       "      <td>0</td>\n",
       "      <td>5</td>\n",
       "      <td>1</td>\n",
       "      <td>0.0000</td>\n",
       "      <td>0.8333</td>\n",
       "    </tr>\n",
       "    <tr>\n",
       "      <th>18</th>\n",
       "      <td>2020-04-29</td>\n",
       "      <td>National</td>\n",
       "      <td>Bhutan</td>\n",
       "      <td>7</td>\n",
       "      <td>0</td>\n",
       "      <td>5</td>\n",
       "      <td>2</td>\n",
       "      <td>0.0000</td>\n",
       "      <td>0.7143</td>\n",
       "    </tr>\n",
       "  </tbody>\n",
       "</table>\n",
       "</div>"
      ],
      "text/plain": [
       "          Date                             State          Region  Confirmed  \\\n",
       "289 2020-04-29         Saint Pierre and Miquelon          France          1   \n",
       "305 2020-04-29                             Tibet  Mainland China          1   \n",
       "184 2020-04-29                          Anguilla              UK          3   \n",
       "192 2020-04-29  Bonaire, Sint Eustatius and Saba     Netherlands          5   \n",
       "272 2020-04-29             Northwest Territories          Canada          5   \n",
       "288 2020-04-29                  Saint Barthelemy          France          6   \n",
       "194 2020-04-29            British Virgin Islands              UK          6   \n",
       "178 2020-04-29                          National           Yemen          6   \n",
       "177 2020-04-29                          National  Western Sahara          6   \n",
       "18  2020-04-29                          National          Bhutan          7   \n",
       "\n",
       "     Deaths  Recovered  Active_Cases  Mortality_Rate  Recovery_Rate  \n",
       "289       0          0             1          0.0000         0.0000  \n",
       "305       0          1             0          0.0000         1.0000  \n",
       "184       0          3             0          0.0000         1.0000  \n",
       "192       0          0             5          0.0000         0.0000  \n",
       "272       0          0             5          0.0000         0.0000  \n",
       "288       0          6             0          0.0000         1.0000  \n",
       "194       1          3             2          0.1667         0.5000  \n",
       "178       0          1             5          0.0000         0.1667  \n",
       "177       0          5             1          0.0000         0.8333  \n",
       "18        0          5             2          0.0000         0.7143  "
      ]
     },
     "execution_count": 17,
     "metadata": {},
     "output_type": "execute_result"
    }
   ],
   "source": [
    "# Q6: Sort\n",
    "df.sort_values('Confirmed').head(10)"
   ]
  },
  {
   "cell_type": "code",
   "execution_count": 19,
   "id": "3bf2918b",
   "metadata": {},
   "outputs": [
    {
     "data": {
      "text/html": [
       "<div>\n",
       "<style scoped>\n",
       "    .dataframe tbody tr th:only-of-type {\n",
       "        vertical-align: middle;\n",
       "    }\n",
       "\n",
       "    .dataframe tbody tr th {\n",
       "        vertical-align: top;\n",
       "    }\n",
       "\n",
       "    .dataframe thead th {\n",
       "        text-align: right;\n",
       "    }\n",
       "</style>\n",
       "<table border=\"1\" class=\"dataframe\">\n",
       "  <thead>\n",
       "    <tr style=\"text-align: right;\">\n",
       "      <th></th>\n",
       "      <th>Date</th>\n",
       "      <th>State</th>\n",
       "      <th>Region</th>\n",
       "      <th>Confirmed</th>\n",
       "      <th>Deaths</th>\n",
       "      <th>Recovered</th>\n",
       "      <th>Active_Cases</th>\n",
       "      <th>Mortality_Rate</th>\n",
       "      <th>Recovery_Rate</th>\n",
       "    </tr>\n",
       "  </thead>\n",
       "  <tbody>\n",
       "    <tr>\n",
       "      <th>153</th>\n",
       "      <td>2020-04-29</td>\n",
       "      <td>National</td>\n",
       "      <td>Spain</td>\n",
       "      <td>236899</td>\n",
       "      <td>24275</td>\n",
       "      <td>132929</td>\n",
       "      <td>79695</td>\n",
       "      <td>0.1025</td>\n",
       "      <td>0.5611</td>\n",
       "    </tr>\n",
       "    <tr>\n",
       "      <th>61</th>\n",
       "      <td>2020-04-29</td>\n",
       "      <td>National</td>\n",
       "      <td>Germany</td>\n",
       "      <td>161539</td>\n",
       "      <td>6467</td>\n",
       "      <td>120400</td>\n",
       "      <td>34672</td>\n",
       "      <td>0.0400</td>\n",
       "      <td>0.7453</td>\n",
       "    </tr>\n",
       "    <tr>\n",
       "      <th>76</th>\n",
       "      <td>2020-04-29</td>\n",
       "      <td>National</td>\n",
       "      <td>Iran</td>\n",
       "      <td>93657</td>\n",
       "      <td>5957</td>\n",
       "      <td>73791</td>\n",
       "      <td>13909</td>\n",
       "      <td>0.0636</td>\n",
       "      <td>0.7879</td>\n",
       "    </tr>\n",
       "    <tr>\n",
       "      <th>80</th>\n",
       "      <td>2020-04-29</td>\n",
       "      <td>National</td>\n",
       "      <td>Italy</td>\n",
       "      <td>203591</td>\n",
       "      <td>27682</td>\n",
       "      <td>71252</td>\n",
       "      <td>104657</td>\n",
       "      <td>0.1360</td>\n",
       "      <td>0.3500</td>\n",
       "    </tr>\n",
       "    <tr>\n",
       "      <th>229</th>\n",
       "      <td>2020-04-29</td>\n",
       "      <td>Hubei</td>\n",
       "      <td>Mainland China</td>\n",
       "      <td>68128</td>\n",
       "      <td>4512</td>\n",
       "      <td>63616</td>\n",
       "      <td>0</td>\n",
       "      <td>0.0662</td>\n",
       "      <td>0.9338</td>\n",
       "    </tr>\n",
       "    <tr>\n",
       "      <th>57</th>\n",
       "      <td>2020-04-29</td>\n",
       "      <td>National</td>\n",
       "      <td>France</td>\n",
       "      <td>165093</td>\n",
       "      <td>24087</td>\n",
       "      <td>48228</td>\n",
       "      <td>92778</td>\n",
       "      <td>0.1459</td>\n",
       "      <td>0.2921</td>\n",
       "    </tr>\n",
       "    <tr>\n",
       "      <th>167</th>\n",
       "      <td>2020-04-29</td>\n",
       "      <td>National</td>\n",
       "      <td>Turkey</td>\n",
       "      <td>117589</td>\n",
       "      <td>3081</td>\n",
       "      <td>44040</td>\n",
       "      <td>70468</td>\n",
       "      <td>0.0262</td>\n",
       "      <td>0.3745</td>\n",
       "    </tr>\n",
       "    <tr>\n",
       "      <th>22</th>\n",
       "      <td>2020-04-29</td>\n",
       "      <td>National</td>\n",
       "      <td>Brazil</td>\n",
       "      <td>79685</td>\n",
       "      <td>5513</td>\n",
       "      <td>34132</td>\n",
       "      <td>40040</td>\n",
       "      <td>0.0692</td>\n",
       "      <td>0.4283</td>\n",
       "    </tr>\n",
       "    <tr>\n",
       "      <th>158</th>\n",
       "      <td>2020-04-29</td>\n",
       "      <td>National</td>\n",
       "      <td>Switzerland</td>\n",
       "      <td>29407</td>\n",
       "      <td>1716</td>\n",
       "      <td>22600</td>\n",
       "      <td>5091</td>\n",
       "      <td>0.0584</td>\n",
       "      <td>0.7685</td>\n",
       "    </tr>\n",
       "    <tr>\n",
       "      <th>78</th>\n",
       "      <td>2020-04-29</td>\n",
       "      <td>National</td>\n",
       "      <td>Ireland</td>\n",
       "      <td>20253</td>\n",
       "      <td>1190</td>\n",
       "      <td>13386</td>\n",
       "      <td>5677</td>\n",
       "      <td>0.0588</td>\n",
       "      <td>0.6609</td>\n",
       "    </tr>\n",
       "  </tbody>\n",
       "</table>\n",
       "</div>"
      ],
      "text/plain": [
       "          Date     State          Region  Confirmed  Deaths  Recovered  \\\n",
       "153 2020-04-29  National           Spain     236899   24275     132929   \n",
       "61  2020-04-29  National         Germany     161539    6467     120400   \n",
       "76  2020-04-29  National            Iran      93657    5957      73791   \n",
       "80  2020-04-29  National           Italy     203591   27682      71252   \n",
       "229 2020-04-29     Hubei  Mainland China      68128    4512      63616   \n",
       "57  2020-04-29  National          France     165093   24087      48228   \n",
       "167 2020-04-29  National          Turkey     117589    3081      44040   \n",
       "22  2020-04-29  National          Brazil      79685    5513      34132   \n",
       "158 2020-04-29  National     Switzerland      29407    1716      22600   \n",
       "78  2020-04-29  National         Ireland      20253    1190      13386   \n",
       "\n",
       "     Active_Cases  Mortality_Rate  Recovery_Rate  \n",
       "153         79695          0.1025         0.5611  \n",
       "61          34672          0.0400         0.7453  \n",
       "76          13909          0.0636         0.7879  \n",
       "80         104657          0.1360         0.3500  \n",
       "229             0          0.0662         0.9338  \n",
       "57          92778          0.1459         0.2921  \n",
       "167         70468          0.0262         0.3745  \n",
       "22          40040          0.0692         0.4283  \n",
       "158          5091          0.0584         0.7685  \n",
       "78           5677          0.0588         0.6609  "
      ]
     },
     "execution_count": 19,
     "metadata": {},
     "output_type": "execute_result"
    }
   ],
   "source": [
    "df.sort_values('Recovered', ascending=False).head(10)"
   ]
  },
  {
   "cell_type": "markdown",
   "id": "76854c0a",
   "metadata": {},
   "source": [
    "## 9. Advanced Regional & Time Analysis"
   ]
  },
  {
   "cell_type": "code",
   "execution_count": 20,
   "id": "b0a0c615",
   "metadata": {},
   "outputs": [
    {
     "data": {
      "text/plain": [
       "Region\n",
       "Nicaragua              0.2308\n",
       "MS Zaandam             0.2222\n",
       "Belgium                0.1567\n",
       "Bahamas                0.1375\n",
       "Italy                  0.1360\n",
       "Antigua and Barbuda    0.1250\n",
       "Mauritania             0.1250\n",
       "Zimbabwe               0.1250\n",
       "Sweden                 0.1213\n",
       "Algeria                0.1154\n",
       "Name: Mortality_Rate, dtype: float64"
      ]
     },
     "execution_count": 20,
     "metadata": {},
     "output_type": "execute_result"
    }
   ],
   "source": [
    "# Regional comparison: High mortality\n",
    "df.groupby('Region')['Mortality_Rate'].mean().nlargest(10)"
   ]
  },
  {
   "cell_type": "markdown",
   "id": "190d8b55",
   "metadata": {},
   "source": [
    "## 10. Export & Wrap Up"
   ]
  },
  {
   "cell_type": "code",
   "execution_count": 21,
   "id": "87390627",
   "metadata": {},
   "outputs": [
    {
     "name": "stdout",
     "output_type": "stream",
     "text": [
      "Analysis complete. Files exported.\n"
     ]
    }
   ],
   "source": [
    "df.to_csv('cleaned_covid_data.csv', index=False)\n",
    "with open('analysis_report.txt', 'w') as f:\n",
    "    f.write(\"COVID-19 ANALYSIS REPORT\\n\")\n",
    "    f.write(\"=\"*40 + \"\\n\")\n",
    "    f.write(f\"Total records analyzed: {len(df)}\\n\")\n",
    "    f.write(f\"Date range: {df['Date'].min()} to {df['Date'].max()}\\n\")\n",
    "    f.write(f\"Most affected region: {df.loc[df['Confirmed'].idxmax(), 'Region']}\\n\")\n",
    "    f.write(f\"Highest mortality rate: {df.groupby('Region')['Mortality_Rate'].mean().idxmax()}\\n\")\n",
    "print('Analysis complete. Files exported.')"
   ]
  }
 ],
 "metadata": {
  "kernelspec": {
   "display_name": "Python 3 (ipykernel)",
   "language": "python",
   "name": "python3"
  },
  "language_info": {
   "codemirror_mode": {
    "name": "ipython",
    "version": 3
   },
   "file_extension": ".py",
   "mimetype": "text/x-python",
   "name": "python",
   "nbconvert_exporter": "python",
   "pygments_lexer": "ipython3",
   "version": "3.10.18"
  }
 },
 "nbformat": 4,
 "nbformat_minor": 5
}
